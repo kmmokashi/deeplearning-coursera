{
 "cells": [
  {
   "cell_type": "markdown",
   "metadata": {},
   "source": [
    "# Improvise a Jazz Solo with an LSTM Network\n",
    "\n",
    "Welcome to your final programming assignment of this week! In this notebook, you will implement a model that uses an LSTM to generate music. You will even be able to listen to your own music at the end of the assignment. \n",
    "\n",
    "**You will learn to:**\n",
    "- Apply an LSTM to music generation.\n",
    "- Generate your own jazz music with deep learning.\n",
    "\n",
    "Please run the following cell to load all the packages required in this assignment. This may take a few minutes. "
   ]
  },
  {
   "cell_type": "code",
   "execution_count": 6,
   "metadata": {
    "collapsed": true
   },
   "outputs": [],
   "source": [
    "from __future__ import print_function\n",
    "import IPython\n",
    "import sys\n",
    "from music21 import *\n",
    "import numpy as np\n",
    "from grammar import *\n",
    "from qa import *\n",
    "from preprocess import * \n",
    "from music_utils import *\n",
    "from data_utils import *\n",
    "from keras.models import load_model, Model\n",
    "from keras.layers import Dense, Activation, Dropout, Input, LSTM, Reshape, Lambda, RepeatVector\n",
    "from keras.initializers import glorot_uniform\n",
    "from keras.utils import to_categorical\n",
    "from keras.optimizers import Adam\n",
    "from keras import backend as K"
   ]
  },
  {
   "cell_type": "markdown",
   "metadata": {},
   "source": [
    "## 1 - Problem statement\n",
    "\n",
    "You would like to create a jazz music piece specially for a friend's birthday. However, you don't know any instruments or music composition. Fortunately, you know deep learning and will solve this problem using an LSTM netwok.  \n",
    "\n",
    "You will train a network to generate novel jazz solos in a style representative of a body of performed work.\n",
    "\n",
    "<img src=\"images/jazz.jpg\" style=\"width:450;height:300px;\">\n",
    "\n",
    "\n",
    "### 1.1 - Dataset\n",
    "\n",
    "You will train your algorithm on a corpus of Jazz music. Run the cell below to listen to a snippet of the audio from the training set:"
   ]
  },
  {
   "cell_type": "code",
   "execution_count": null,
   "metadata": {
    "collapsed": true
   },
   "outputs": [],
   "source": [
    "IPython.display.Audio('./data/30s_seq.mp3')"
   ]
  },
  {
   "cell_type": "markdown",
   "metadata": {},
   "source": [
    "We have taken care of the preprocessing of the musical data to render it in terms of musical \"values.\" You can informally think of each \"value\" as a note, which comprises a pitch and a duration. For example, if you press down a specific piano key for 0.5 seconds, then you have just played a note. In music theory, a \"value\" is actually more complicated than this--specifically, it also captures the information needed to play multiple notes at the same time. For example, when playing a music piece, you might press down two piano keys at the same time (playng multiple notes at the same time generates what's called a \"chord\"). But we don't need to worry about the details of music theory for this assignment. For the purpose of this assignment, all you need to know is that we will obtain a dataset of values, and will learn an RNN model to generate sequences of values. \n",
    "\n",
    "Our music generation system will use 78 unique values. Run the following code to load the raw music data and preprocess it into values. This might take a few minutes."
   ]
  },
  {
   "cell_type": "code",
   "execution_count": 7,
   "metadata": {},
   "outputs": [
    {
     "name": "stdout",
     "output_type": "stream",
     "text": [
      "shape of X: (60, 30, 78)\n",
      "number of training examples: 60\n",
      "Tx (length of sequence): 30\n",
      "total # of unique values: 78\n",
      "Shape of Y: (30, 60, 78)\n"
     ]
    }
   ],
   "source": [
    "X, Y, n_values, indices_values = load_music_utils()\n",
    "print('shape of X:', X.shape)\n",
    "print('number of training examples:', X.shape[0])\n",
    "print('Tx (length of sequence):', X.shape[1])\n",
    "print('total # of unique values:', n_values)\n",
    "print('Shape of Y:', Y.shape)"
   ]
  },
  {
   "cell_type": "markdown",
   "metadata": {},
   "source": [
    "You have just loaded the following:\n",
    "\n",
    "- `X`: This is an (m, $T_x$, 78) dimensional array. We have m training examples, each of which is a snippet of $T_x =30$ musical values. At each time step, the input is one of 78 different possible values, represented as a one-hot vector. Thus for example, X[i,t,:] is a one-hot vector representating the value of the i-th example at time t. \n",
    "\n",
    "- `Y`: This is essentially the same as `X`, but shifted one step to the left (to the past). Similar to the dinosaurus assignment, we're interested in the network using the previous values to predict the next value, so our sequence model will try to predict $y^{\\langle t \\rangle}$ given $x^{\\langle 1\\rangle}, \\ldots, x^{\\langle t \\rangle}$. However, the data in `Y` is reordered to be dimension $(T_y, m, 78)$, where $T_y = T_x$. This format makes it more convenient to feed to the LSTM later. \n",
    "\n",
    "- `n_values`: The number of unique values in this dataset. This should be 78. \n",
    "\n",
    "- `indices_values`: python dictionary mapping from 0-77 to musical values."
   ]
  },
  {
   "cell_type": "markdown",
   "metadata": {},
   "source": [
    "### 1.2 - Overview of our model\n",
    "\n",
    "Here is the architecture of the model we will use. This is similar to the Dinosaurus model you had used in the previous notebook, except that in you will be implementing it in Keras. The architecture is as follows: \n",
    "\n",
    "<img src=\"images/music_generation.png\" style=\"width:600;height:400px;\">\n",
    "\n",
    "<!--\n",
    "<img src=\"images/djmodel.png\" style=\"width:600;height:400px;\">\n",
    "<br>\n",
    "<caption><center> **Figure 1**: LSTM model. $X = (x^{\\langle 1 \\rangle}, x^{\\langle 2 \\rangle}, ..., x^{\\langle T_x \\rangle})$ is a window of size $T_x$ scanned over the musical corpus. Each $x^{\\langle t \\rangle}$ is an index corresponding to a value (ex: \"A,0.250,< m2,P-4 >\") while $\\hat{y}$ is the prediction for the next value  </center></caption>\n",
    "!--> \n",
    "\n",
    "We will be training the model on random snippets of 30 values taken from a much longer piece of music. Thus, we won't bother to set the first input $x^{\\langle 1 \\rangle} = \\vec{0}$, which we had done previously to denote the start of a dinosaur name, since now most of these snippets of audio start somewhere in the middle of a piece of music. We are setting each of the snippts to have the same length $T_x = 30$ to make vectorization easier. \n"
   ]
  },
  {
   "cell_type": "markdown",
   "metadata": {},
   "source": [
    "## 2 - Building the model\n",
    "\n",
    "In this part you will build and train a model that will learn musical patterns. To do so, you will need to build a model that takes in X of shape $(m, T_x, 78)$ and Y of shape $(T_y, m, 78)$. We will use an LSTM with 64 dimensional hidden states. Lets set `n_a = 64`. \n"
   ]
  },
  {
   "cell_type": "code",
   "execution_count": 8,
   "metadata": {
    "collapsed": true
   },
   "outputs": [],
   "source": [
    "n_a = 64 "
   ]
  },
  {
   "cell_type": "markdown",
   "metadata": {},
   "source": [
    "\n",
    "Here's how you can create a Keras model with multiple inputs and outputs. If you're building an RNN where even at test time entire input sequence $x^{\\langle 1 \\rangle}, x^{\\langle 2 \\rangle}, \\ldots, x^{\\langle T_x \\rangle}$ were *given in advance*, for example if the inputs were words and the output was a label, then Keras has simple built-in functions to build the model. However, for sequence generation, at test time we don't know all the values of $x^{\\langle t\\rangle}$ in advance; instead we generate them one at a time using $x^{\\langle t\\rangle} = y^{\\langle t-1 \\rangle}$. So the code will be a bit more complicated, and you'll need to implement your own for-loop to iterate over the different time steps. \n",
    "\n",
    "The function `djmodel()` will call the LSTM layer $T_x$ times using a for-loop, and it is important that all $T_x$ copies have the same weights. I.e., it should not re-initiaiize the weights every time---the $T_x$ steps should have shared weights. The key steps for implementing layers with shareable weights in Keras are: \n",
    "1. Define the layer objects (we will use global variables for this).\n",
    "2. Call these objects when propagating the input.\n",
    "\n",
    "We have defined the layers objects you need as global variables. Please run the next cell to create them. Please check the Keras documentation to make sure you understand what these layers are: [Reshape()](https://keras.io/layers/core/#reshape), [LSTM()](https://keras.io/layers/recurrent/#lstm), [Dense()](https://keras.io/layers/core/#dense).\n"
   ]
  },
  {
   "cell_type": "code",
   "execution_count": 9,
   "metadata": {
    "collapsed": true
   },
   "outputs": [],
   "source": [
    "reshapor = Reshape((1, 78))                        # Used in Step 2.B of djmodel(), below\n",
    "LSTM_cell = LSTM(n_a, return_state = True)         # Used in Step 2.C\n",
    "densor = Dense(n_values, activation='softmax')     # Used in Step 2.D"
   ]
  },
  {
   "cell_type": "markdown",
   "metadata": {},
   "source": [
    "Each of `reshapor`, `LSTM_cell` and `densor` are now layer objects, and you can use them to implement `djmodel()`. In order to propagate a Keras tensor object X through one of these layers, use `layer_object(X)` (or `layer_object([X,Y])` if it requires multiple inputs.). For example, `reshapor(X)` will propagate X through the `Reshape((1,78))` layer defined above."
   ]
  },
  {
   "cell_type": "markdown",
   "metadata": {},
   "source": [
    " \n",
    "**Exercise**: Implement `djmodel()`. You will need to carry out 2 steps:\n",
    "\n",
    "1. Create an empty list \"outputs\" to save the outputs of the LSTM Cell at every time step.\n",
    "2. Loop for $t \\in 1, \\ldots, T_x$:\n",
    "\n",
    "    A. Select the \"t\"th time-step vector from X. The shape of this selection should be (78,). To do so, create a custom [Lambda](https://keras.io/layers/core/#lambda) layer in Keras by using this line of code:\n",
    "```    \n",
    "           x = Lambda(lambda x: X[:,t,:])(X)\n",
    "``` \n",
    "Look over the Keras documentation to figure out what this does. It is creating a \"temporary\" or \"unnamed\" function (that's what Lambda functions are) that extracts out the appropriate one-hot vector, and making this function a Keras `Layer` object to apply to `X`. \n",
    "\n",
    "    B. Reshape x to be (1,78). You may find the `reshapor()` layer (defined below) helpful.\n",
    "\n",
    "    C. Run x through one step of LSTM_cell. Remember to initialize the LSTM_cell with the previous step's hidden state $a$ and cell state $c$. Use the following formatting:\n",
    "```python\n",
    "a, _, c = LSTM_cell(input_x, initial_state=[previous hidden state, previous cell state])\n",
    "```\n",
    "\n",
    "    D. Propagate the LSTM's output activation value through a dense+softmax layer using `densor`. \n",
    "    \n",
    "    E. Append the predicted value to the list of \"outputs\"\n",
    " \n"
   ]
  },
  {
   "cell_type": "code",
   "execution_count": 10,
   "metadata": {
    "collapsed": true
   },
   "outputs": [],
   "source": [
    "# GRADED FUNCTION: djmodel\n",
    "\n",
    "def djmodel(Tx, n_a, n_values):\n",
    "    \"\"\"\n",
    "    Implement the model\n",
    "    \n",
    "    Arguments:\n",
    "    Tx -- length of the sequence in a corpus\n",
    "    n_a -- the number of activations used in our model\n",
    "    n_values -- number of unique values in the music data \n",
    "    \n",
    "    Returns:\n",
    "    model -- a keras model with the \n",
    "    \"\"\"\n",
    "    \n",
    "    # Define the input of your model with a shape \n",
    "    X = Input(shape=(Tx, n_values))\n",
    "    \n",
    "    # Define s0, initial hidden state for the decoder LSTM\n",
    "    a0 = Input(shape=(n_a,), name='a0')\n",
    "    c0 = Input(shape=(n_a,), name='c0')\n",
    "    a = a0\n",
    "    c = c0\n",
    "    \n",
    "    ### START CODE HERE ### \n",
    "    # Step 1: Create empty list to append the outputs while you iterate (≈1 line)\n",
    "    outputs = []\n",
    "    \n",
    "    # Step 2: Loop\n",
    "    for t in range(Tx):\n",
    "        \n",
    "        # Step 2.A: select the \"t\"th time step vector from X. \n",
    "        x = Lambda(lambda x: X[:,t,:])(X)\n",
    "        # Step 2.B: Use reshapor to reshape x to be (1, n_values) (≈1 line)\n",
    "        x = reshapor(x)\n",
    "        # Step 2.C: Perform one step of the LSTM_cell\n",
    "        a, _, c = LSTM_cell(x,initial_state=[a,c])\n",
    "        # Step 2.D: Apply densor to the hidden state output of LSTM_Cell\n",
    "        out = densor(a)\n",
    "        # Step 2.E: add the output to \"outputs\"\n",
    "        outputs.append(out)\n",
    "        \n",
    "    # Step 3: Create model instance\n",
    "    model = Model(inputs=[X,a0,c0], outputs=outputs)\n",
    "    \n",
    "    ### END CODE HERE ###\n",
    "    \n",
    "    return model"
   ]
  },
  {
   "cell_type": "markdown",
   "metadata": {},
   "source": [
    "Run the following cell to define your model. We will use `Tx=30`, `n_a=64` (the dimension of the LSTM activations), and `n_values=78`. This cell may take a few seconds to run. "
   ]
  },
  {
   "cell_type": "code",
   "execution_count": 11,
   "metadata": {
    "collapsed": true
   },
   "outputs": [],
   "source": [
    "model = djmodel(Tx = 30 , n_a = 64, n_values = 78)"
   ]
  },
  {
   "cell_type": "markdown",
   "metadata": {},
   "source": [
    "You now need to compile your model to be trained. We will Adam and a categorical cross-entropy loss."
   ]
  },
  {
   "cell_type": "code",
   "execution_count": 12,
   "metadata": {
    "collapsed": true
   },
   "outputs": [],
   "source": [
    "opt = Adam(lr=0.01, beta_1=0.9, beta_2=0.999, decay=0.01)\n",
    "\n",
    "model.compile(optimizer=opt, loss='categorical_crossentropy', metrics=['accuracy'])"
   ]
  },
  {
   "cell_type": "markdown",
   "metadata": {},
   "source": [
    "Finally, lets initialize `a0` and `c0` for the LSTM's initial state to be zero. "
   ]
  },
  {
   "cell_type": "code",
   "execution_count": 13,
   "metadata": {
    "collapsed": true,
    "scrolled": true
   },
   "outputs": [],
   "source": [
    "m = 60\n",
    "a0 = np.zeros((m, n_a))\n",
    "c0 = np.zeros((m, n_a))"
   ]
  },
  {
   "cell_type": "markdown",
   "metadata": {},
   "source": [
    "Lets now fit the model! We will turn `Y` to a list before doing so, since the cost function expects `Y` to be provided in this format (one list item per time-step). So `list(Y)` is a list with 30 items, where each of the list items is of shape (60,78). Lets train for 100 epochs. This will take a few minutes. \n",
    "\n"
   ]
  },
  {
   "cell_type": "code",
   "execution_count": 14,
   "metadata": {
    "scrolled": true
   },
   "outputs": [
    {
     "name": "stdout",
     "output_type": "stream",
     "text": [
      "Epoch 1/100\n",
      "60/60 [==============================] - 11s - loss: 125.8571 - dense_2_loss_1: 4.3549 - dense_2_loss_2: 4.3498 - dense_2_loss_3: 4.3433 - dense_2_loss_4: 4.3419 - dense_2_loss_5: 4.3485 - dense_2_loss_6: 4.3420 - dense_2_loss_7: 4.3464 - dense_2_loss_8: 4.3418 - dense_2_loss_9: 4.3404 - dense_2_loss_10: 4.3427 - dense_2_loss_11: 4.3392 - dense_2_loss_12: 4.3439 - dense_2_loss_13: 4.3328 - dense_2_loss_14: 4.3336 - dense_2_loss_15: 4.3415 - dense_2_loss_16: 4.3373 - dense_2_loss_17: 4.3398 - dense_2_loss_18: 4.3429 - dense_2_loss_19: 4.3349 - dense_2_loss_20: 4.3371 - dense_2_loss_21: 4.3381 - dense_2_loss_22: 4.3330 - dense_2_loss_23: 4.3361 - dense_2_loss_24: 4.3348 - dense_2_loss_25: 4.3339 - dense_2_loss_26: 4.3376 - dense_2_loss_27: 4.3311 - dense_2_loss_28: 4.3330 - dense_2_loss_29: 4.3448 - dense_2_loss_30: 0.0000e+00 - dense_2_acc_1: 0.0167 - dense_2_acc_2: 0.1000 - dense_2_acc_3: 0.0333 - dense_2_acc_4: 0.0667 - dense_2_acc_5: 0.0333 - dense_2_acc_6: 0.0167 - dense_2_acc_7: 0.0500 - dense_2_acc_8: 0.0500 - dense_2_acc_9: 0.0833 - dense_2_acc_10: 0.0167 - dense_2_acc_11: 0.0667 - dense_2_acc_12: 0.0500 - dense_2_acc_13: 0.0333 - dense_2_acc_14: 0.0833 - dense_2_acc_15: 0.0333 - dense_2_acc_16: 0.0833 - dense_2_acc_17: 0.0833 - dense_2_acc_18: 0.0667 - dense_2_acc_19: 0.1000 - dense_2_acc_20: 0.0333 - dense_2_acc_21: 0.0500 - dense_2_acc_22: 0.1000 - dense_2_acc_23: 0.0667 - dense_2_acc_24: 0.0833 - dense_2_acc_25: 0.0833 - dense_2_acc_26: 0.0500 - dense_2_acc_27: 0.0667 - dense_2_acc_28: 0.0833 - dense_2_acc_29: 0.0500 - dense_2_acc_30: 0.0333                                                        \n",
      "Epoch 2/100\n",
      "60/60 [==============================] - 1s - loss: 122.3630 - dense_2_loss_1: 4.3323 - dense_2_loss_2: 4.3025 - dense_2_loss_3: 4.2757 - dense_2_loss_4: 4.2754 - dense_2_loss_5: 4.2578 - dense_2_loss_6: 4.2559 - dense_2_loss_7: 4.2519 - dense_2_loss_8: 4.2291 - dense_2_loss_9: 4.2208 - dense_2_loss_10: 4.2143 - dense_2_loss_11: 4.1975 - dense_2_loss_12: 4.2361 - dense_2_loss_13: 4.1939 - dense_2_loss_14: 4.1941 - dense_2_loss_15: 4.2056 - dense_2_loss_16: 4.2093 - dense_2_loss_17: 4.1977 - dense_2_loss_18: 4.2340 - dense_2_loss_19: 4.1754 - dense_2_loss_20: 4.1939 - dense_2_loss_21: 4.1945 - dense_2_loss_22: 4.1764 - dense_2_loss_23: 4.1763 - dense_2_loss_24: 4.2073 - dense_2_loss_25: 4.2128 - dense_2_loss_26: 4.1452 - dense_2_loss_27: 4.1828 - dense_2_loss_28: 4.1842 - dense_2_loss_29: 4.2304 - dense_2_loss_30: 0.0000e+00 - dense_2_acc_1: 0.1000 - dense_2_acc_2: 0.1500 - dense_2_acc_3: 0.2167 - dense_2_acc_4: 0.1667 - dense_2_acc_5: 0.1833 - dense_2_acc_6: 0.1333 - dense_2_acc_7: 0.1500 - dense_2_acc_8: 0.2667 - dense_2_acc_9: 0.1667 - dense_2_acc_10: 0.1500 - dense_2_acc_11: 0.1333 - dense_2_acc_12: 0.1000 - dense_2_acc_13: 0.1667 - dense_2_acc_14: 0.1333 - dense_2_acc_15: 0.0833 - dense_2_acc_16: 0.1333 - dense_2_acc_17: 0.1500 - dense_2_acc_18: 0.1167 - dense_2_acc_19: 0.1667 - dense_2_acc_20: 0.1000 - dense_2_acc_21: 0.1333 - dense_2_acc_22: 0.1167 - dense_2_acc_23: 0.2333 - dense_2_acc_24: 0.1833 - dense_2_acc_25: 0.1000 - dense_2_acc_26: 0.1667 - dense_2_acc_27: 0.2000 - dense_2_acc_28: 0.1833 - dense_2_acc_29: 0.1000 - dense_2_acc_30: 0.0000e+00     \n",
      "Epoch 3/100\n",
      "60/60 [==============================] - 1s - loss: 115.7754 - dense_2_loss_1: 4.3097 - dense_2_loss_2: 4.2498 - dense_2_loss_3: 4.1893 - dense_2_loss_4: 4.1763 - dense_2_loss_5: 4.1322 - dense_2_loss_6: 4.1351 - dense_2_loss_7: 4.1047 - dense_2_loss_8: 4.0188 - dense_2_loss_9: 3.9575 - dense_2_loss_10: 3.8924 - dense_2_loss_11: 3.8452 - dense_2_loss_12: 4.0651 - dense_2_loss_13: 3.8919 - dense_2_loss_14: 3.8581 - dense_2_loss_15: 3.9542 - dense_2_loss_16: 3.9574 - dense_2_loss_17: 3.9635 - dense_2_loss_18: 4.0902 - dense_2_loss_19: 3.7931 - dense_2_loss_20: 3.9009 - dense_2_loss_21: 3.9093 - dense_2_loss_22: 3.9305 - dense_2_loss_23: 3.8011 - dense_2_loss_24: 3.8613 - dense_2_loss_25: 4.1047 - dense_2_loss_26: 3.6791 - dense_2_loss_27: 3.8582 - dense_2_loss_28: 3.9325 - dense_2_loss_29: 4.2132 - dense_2_loss_30: 0.0000e+00 - dense_2_acc_1: 0.1000 - dense_2_acc_2: 0.1667 - dense_2_acc_3: 0.2000 - dense_2_acc_4: 0.2167 - dense_2_acc_5: 0.2000 - dense_2_acc_6: 0.1000 - dense_2_acc_7: 0.1167 - dense_2_acc_8: 0.2333 - dense_2_acc_9: 0.2000 - dense_2_acc_10: 0.1000 - dense_2_acc_11: 0.0833 - dense_2_acc_12: 0.0167 - dense_2_acc_13: 0.1167 - dense_2_acc_14: 0.1167 - dense_2_acc_15: 0.1000 - dense_2_acc_16: 0.0833 - dense_2_acc_17: 0.0833 - dense_2_acc_18: 0.0500 - dense_2_acc_19: 0.1500 - dense_2_acc_20: 0.0667 - dense_2_acc_21: 0.0667 - dense_2_acc_22: 0.1000 - dense_2_acc_23: 0.0833 - dense_2_acc_24: 0.1167 - dense_2_acc_25: 0.0333 - dense_2_acc_26: 0.1000 - dense_2_acc_27: 0.0833 - dense_2_acc_28: 0.0833 - dense_2_acc_29: 0.0333 - dense_2_acc_30: 0.0000e+00                 \n",
      "Epoch 4/100\n",
      "60/60 [==============================] - 1s - loss: 112.1258 - dense_2_loss_1: 4.2868 - dense_2_loss_2: 4.2002 - dense_2_loss_3: 4.0968 - dense_2_loss_4: 4.0715 - dense_2_loss_5: 3.9869 - dense_2_loss_6: 3.9871 - dense_2_loss_7: 3.9364 - dense_2_loss_8: 3.7408 - dense_2_loss_9: 3.7850 - dense_2_loss_10: 3.6445 - dense_2_loss_11: 3.6915 - dense_2_loss_12: 4.0255 - dense_2_loss_13: 3.7634 - dense_2_loss_14: 3.6758 - dense_2_loss_15: 3.7654 - dense_2_loss_16: 3.8084 - dense_2_loss_17: 3.8831 - dense_2_loss_18: 3.9450 - dense_2_loss_19: 3.6669 - dense_2_loss_20: 3.9121 - dense_2_loss_21: 3.8931 - dense_2_loss_22: 3.8666 - dense_2_loss_23: 3.8054 - dense_2_loss_24: 3.6972 - dense_2_loss_25: 3.9675 - dense_2_loss_26: 3.5786 - dense_2_loss_27: 3.6635 - dense_2_loss_28: 3.7867 - dense_2_loss_29: 3.9940 - dense_2_loss_30: 0.0000e+00 - dense_2_acc_1: 0.1000 - dense_2_acc_2: 0.1833 - dense_2_acc_3: 0.1833 - dense_2_acc_4: 0.1833 - dense_2_acc_5: 0.2000 - dense_2_acc_6: 0.1000 - dense_2_acc_7: 0.1000 - dense_2_acc_8: 0.2000 - dense_2_acc_9: 0.1833 - dense_2_acc_10: 0.1500 - dense_2_acc_11: 0.1000 - dense_2_acc_12: 0.0667 - dense_2_acc_13: 0.1167 - dense_2_acc_14: 0.1667 - dense_2_acc_15: 0.1000 - dense_2_acc_16: 0.1167 - dense_2_acc_17: 0.2000 - dense_2_acc_18: 0.1000 - dense_2_acc_19: 0.1333 - dense_2_acc_20: 0.1167 - dense_2_acc_21: 0.0500 - dense_2_acc_22: 0.0667 - dense_2_acc_23: 0.0333 - dense_2_acc_24: 0.0833 - dense_2_acc_25: 0.0667 - dense_2_acc_26: 0.1667 - dense_2_acc_27: 0.0333 - dense_2_acc_28: 0.1500 - dense_2_acc_29: 0.1167 - dense_2_acc_30: 0.0000e+00     \n",
      "Epoch 5/100\n",
      "60/60 [==============================] - 1s - loss: 110.4460 - dense_2_loss_1: 4.2694 - dense_2_loss_2: 4.1600 - dense_2_loss_3: 4.0252 - dense_2_loss_4: 3.9974 - dense_2_loss_5: 3.8929 - dense_2_loss_6: 3.9143 - dense_2_loss_7: 3.8498 - dense_2_loss_8: 3.6009 - dense_2_loss_9: 3.7410 - dense_2_loss_10: 3.5609 - dense_2_loss_11: 3.6198 - dense_2_loss_12: 3.9428 - dense_2_loss_13: 3.6576 - dense_2_loss_14: 3.5372 - dense_2_loss_15: 3.7201 - dense_2_loss_16: 3.6849 - dense_2_loss_17: 3.7947 - dense_2_loss_18: 3.8083 - dense_2_loss_19: 3.6276 - dense_2_loss_20: 3.8956 - dense_2_loss_21: 3.8178 - dense_2_loss_22: 3.7030 - dense_2_loss_23: 3.8895 - dense_2_loss_24: 3.7792 - dense_2_loss_25: 3.8935 - dense_2_loss_26: 3.5863 - dense_2_loss_27: 3.6387 - dense_2_loss_28: 3.8454 - dense_2_loss_29: 3.9920 - dense_2_loss_30: 0.0000e+00 - dense_2_acc_1: 0.1000 - dense_2_acc_2: 0.1500 - dense_2_acc_3: 0.2000 - dense_2_acc_4: 0.1833 - dense_2_acc_5: 0.2000 - dense_2_acc_6: 0.1000 - dense_2_acc_7: 0.1333 - dense_2_acc_8: 0.2167 - dense_2_acc_9: 0.1667 - dense_2_acc_10: 0.1167 - dense_2_acc_11: 0.1167 - dense_2_acc_12: 0.0667 - dense_2_acc_13: 0.1833 - dense_2_acc_14: 0.2000 - dense_2_acc_15: 0.1000 - dense_2_acc_16: 0.1167 - dense_2_acc_17: 0.1167 - dense_2_acc_18: 0.1000 - dense_2_acc_19: 0.1000 - dense_2_acc_20: 0.0667 - dense_2_acc_21: 0.1167 - dense_2_acc_22: 0.1000 - dense_2_acc_23: 0.1333 - dense_2_acc_24: 0.0667 - dense_2_acc_25: 0.0333 - dense_2_acc_26: 0.1167 - dense_2_acc_27: 0.1333 - dense_2_acc_28: 0.0833 - dense_2_acc_29: 0.0167 - dense_2_acc_30: 0.0000e+00         \n",
      "Epoch 6/100\n",
      "60/60 [==============================] - 1s - loss: 107.8657 - dense_2_loss_1: 4.2527 - dense_2_loss_2: 4.1242 - dense_2_loss_3: 3.9550 - dense_2_loss_4: 3.9323 - dense_2_loss_5: 3.8278 - dense_2_loss_6: 3.8587 - dense_2_loss_7: 3.7806 - dense_2_loss_8: 3.5195 - dense_2_loss_9: 3.6961 - dense_2_loss_10: 3.4619 - dense_2_loss_11: 3.5704 - dense_2_loss_12: 3.8368 - dense_2_loss_13: 3.5643 - dense_2_loss_14: 3.4842 - dense_2_loss_15: 3.5752 - dense_2_loss_16: 3.6660 - dense_2_loss_17: 3.6860 - dense_2_loss_18: 3.6394 - dense_2_loss_19: 3.5321 - dense_2_loss_20: 3.7924 - dense_2_loss_21: 3.7494 - dense_2_loss_22: 3.6065 - dense_2_loss_23: 3.7082 - dense_2_loss_24: 3.6628 - dense_2_loss_25: 3.7558 - dense_2_loss_26: 3.4443 - dense_2_loss_27: 3.6520 - dense_2_loss_28: 3.7299 - dense_2_loss_29: 3.8014 - dense_2_loss_30: 0.0000e+00 - dense_2_acc_1: 0.1000 - dense_2_acc_2: 0.1000 - dense_2_acc_3: 0.2000 - dense_2_acc_4: 0.1833 - dense_2_acc_5: 0.2167 - dense_2_acc_6: 0.1167 - dense_2_acc_7: 0.1167 - dense_2_acc_8: 0.2000 - dense_2_acc_9: 0.1333 - dense_2_acc_10: 0.1667 - dense_2_acc_11: 0.1333 - dense_2_acc_12: 0.0500 - dense_2_acc_13: 0.1833 - dense_2_acc_14: 0.1667 - dense_2_acc_15: 0.1333 - dense_2_acc_16: 0.1000 - dense_2_acc_17: 0.0833 - dense_2_acc_18: 0.1333 - dense_2_acc_19: 0.1333 - dense_2_acc_20: 0.0667 - dense_2_acc_21: 0.1000 - dense_2_acc_22: 0.1000 - dense_2_acc_23: 0.1167 - dense_2_acc_24: 0.1000 - dense_2_acc_25: 0.0500 - dense_2_acc_26: 0.0833 - dense_2_acc_27: 0.1000 - dense_2_acc_28: 0.0667 - dense_2_acc_29: 0.0333 - dense_2_acc_30: 0.0000e+00     \n",
      "Epoch 7/100\n",
      "60/60 [==============================] - 1s - loss: 104.1507 - dense_2_loss_1: 4.2388 - dense_2_loss_2: 4.0923 - dense_2_loss_3: 3.8900 - dense_2_loss_4: 3.8674 - dense_2_loss_5: 3.7378 - dense_2_loss_6: 3.7971 - dense_2_loss_7: 3.7151 - dense_2_loss_8: 3.4062 - dense_2_loss_9: 3.5463 - dense_2_loss_10: 3.3402 - dense_2_loss_11: 3.4712 - dense_2_loss_12: 3.6886 - dense_2_loss_13: 3.4469 - dense_2_loss_14: 3.4108 - dense_2_loss_15: 3.4649 - dense_2_loss_16: 3.5199 - dense_2_loss_17: 3.5130 - dense_2_loss_18: 3.5233 - dense_2_loss_19: 3.3757 - dense_2_loss_20: 3.6188 - dense_2_loss_21: 3.6632 - dense_2_loss_22: 3.4737 - dense_2_loss_23: 3.4668 - dense_2_loss_24: 3.4831 - dense_2_loss_25: 3.6889 - dense_2_loss_26: 3.2351 - dense_2_loss_27: 3.3944 - dense_2_loss_28: 3.5141 - dense_2_loss_29: 3.5672 - dense_2_loss_30: 0.0000e+00 - dense_2_acc_1: 0.0833 - dense_2_acc_2: 0.1167 - dense_2_acc_3: 0.2333 - dense_2_acc_4: 0.2000 - dense_2_acc_5: 0.2167 - dense_2_acc_6: 0.1333 - dense_2_acc_7: 0.1500 - dense_2_acc_8: 0.2500 - dense_2_acc_9: 0.1833 - dense_2_acc_10: 0.1667 - dense_2_acc_11: 0.1167 - dense_2_acc_12: 0.1167 - dense_2_acc_13: 0.1167 - dense_2_acc_14: 0.1500 - dense_2_acc_15: 0.1000 - dense_2_acc_16: 0.1667 - dense_2_acc_17: 0.1833 - dense_2_acc_18: 0.1167 - dense_2_acc_19: 0.1500 - dense_2_acc_20: 0.1333 - dense_2_acc_21: 0.1000 - dense_2_acc_22: 0.0833 - dense_2_acc_23: 0.1333 - dense_2_acc_24: 0.0833 - dense_2_acc_25: 0.0833 - dense_2_acc_26: 0.2167 - dense_2_acc_27: 0.0833 - dense_2_acc_28: 0.1500 - dense_2_acc_29: 0.1333 - dense_2_acc_30: 0.0000e+00     \n",
      "Epoch 8/100\n",
      "60/60 [==============================] - 1s - loss: 101.5948 - dense_2_loss_1: 4.2264 - dense_2_loss_2: 4.0588 - dense_2_loss_3: 3.8295 - dense_2_loss_4: 3.7968 - dense_2_loss_5: 3.6658 - dense_2_loss_6: 3.7249 - dense_2_loss_7: 3.6399 - dense_2_loss_8: 3.3071 - dense_2_loss_9: 3.4460 - dense_2_loss_10: 3.3005 - dense_2_loss_11: 3.3810 - dense_2_loss_12: 3.5176 - dense_2_loss_13: 3.2917 - dense_2_loss_14: 3.2611 - dense_2_loss_15: 3.3959 - dense_2_loss_16: 3.3677 - dense_2_loss_17: 3.4367 - dense_2_loss_18: 3.3885 - dense_2_loss_19: 3.2939 - dense_2_loss_20: 3.4925 - dense_2_loss_21: 3.5459 - dense_2_loss_22: 3.3148 - dense_2_loss_23: 3.4055 - dense_2_loss_24: 3.4391 - dense_2_loss_25: 3.6015 - dense_2_loss_26: 3.1238 - dense_2_loss_27: 3.3599 - dense_2_loss_28: 3.4508 - dense_2_loss_29: 3.5310 - dense_2_loss_30: 0.0000e+00 - dense_2_acc_1: 0.0667 - dense_2_acc_2: 0.1333 - dense_2_acc_3: 0.2333 - dense_2_acc_4: 0.2000 - dense_2_acc_5: 0.2333 - dense_2_acc_6: 0.1167 - dense_2_acc_7: 0.1333 - dense_2_acc_8: 0.2667 - dense_2_acc_9: 0.1500 - dense_2_acc_10: 0.1333 - dense_2_acc_11: 0.1667 - dense_2_acc_12: 0.1167 - dense_2_acc_13: 0.2000 - dense_2_acc_14: 0.2667 - dense_2_acc_15: 0.1500 - dense_2_acc_16: 0.1333 - dense_2_acc_17: 0.1667 - dense_2_acc_18: 0.1333 - dense_2_acc_19: 0.1500 - dense_2_acc_20: 0.1500 - dense_2_acc_21: 0.1167 - dense_2_acc_22: 0.1333 - dense_2_acc_23: 0.0667 - dense_2_acc_24: 0.0500 - dense_2_acc_25: 0.1333 - dense_2_acc_26: 0.2167 - dense_2_acc_27: 0.1000 - dense_2_acc_28: 0.1333 - dense_2_acc_29: 0.1333 - dense_2_acc_30: 0.0000e+00         \n",
      "Epoch 9/100\n",
      "60/60 [==============================] - 1s - loss: 97.2358 - dense_2_loss_1: 4.2149 - dense_2_loss_2: 4.0235 - dense_2_loss_3: 3.7643 - dense_2_loss_4: 3.7313 - dense_2_loss_5: 3.5877 - dense_2_loss_6: 3.6402 - dense_2_loss_7: 3.5312 - dense_2_loss_8: 3.2282 - dense_2_loss_9: 3.3090 - dense_2_loss_10: 3.1523 - dense_2_loss_11: 3.2378 - dense_2_loss_12: 3.3545 - dense_2_loss_13: 3.1430 - dense_2_loss_14: 3.1333 - dense_2_loss_15: 3.1879 - dense_2_loss_16: 3.2804 - dense_2_loss_17: 3.2432 - dense_2_loss_18: 3.1858 - dense_2_loss_19: 3.1440 - dense_2_loss_20: 3.3149 - dense_2_loss_21: 3.4122 - dense_2_loss_22: 3.1211 - dense_2_loss_23: 3.2013 - dense_2_loss_24: 3.1809 - dense_2_loss_25: 3.3947 - dense_2_loss_26: 2.9611 - dense_2_loss_27: 3.0758 - dense_2_loss_28: 3.2202 - dense_2_loss_29: 3.2608 - dense_2_loss_30: 0.0000e+00 - dense_2_acc_1: 0.0667 - dense_2_acc_2: 0.1333 - dense_2_acc_3: 0.2333 - dense_2_acc_4: 0.2000 - dense_2_acc_5: 0.2167 - dense_2_acc_6: 0.1000 - dense_2_acc_7: 0.1167 - dense_2_acc_8: 0.2333 - dense_2_acc_9: 0.2500 - dense_2_acc_10: 0.1500 - dense_2_acc_11: 0.2167 - dense_2_acc_12: 0.1667 - dense_2_acc_13: 0.2500 - dense_2_acc_14: 0.2500 - dense_2_acc_15: 0.3000 - dense_2_acc_16: 0.1667 - dense_2_acc_17: 0.1667 - dense_2_acc_18: 0.1333 - dense_2_acc_19: 0.1667 - dense_2_acc_20: 0.1500 - dense_2_acc_21: 0.1000 - dense_2_acc_22: 0.1833 - dense_2_acc_23: 0.1833 - dense_2_acc_24: 0.1500 - dense_2_acc_25: 0.1167 - dense_2_acc_26: 0.3000 - dense_2_acc_27: 0.1167 - dense_2_acc_28: 0.1667 - dense_2_acc_29: 0.1833 - dense_2_acc_30: 0.0000e+00     \n",
      "Epoch 10/100\n",
      "60/60 [==============================] - 1s - loss: 93.7312 - dense_2_loss_1: 4.2044 - dense_2_loss_2: 3.9875 - dense_2_loss_3: 3.6977 - dense_2_loss_4: 3.6596 - dense_2_loss_5: 3.4919 - dense_2_loss_6: 3.5329 - dense_2_loss_7: 3.4082 - dense_2_loss_8: 3.1042 - dense_2_loss_9: 3.1839 - dense_2_loss_10: 3.0079 - dense_2_loss_11: 3.1290 - dense_2_loss_12: 3.2205 - dense_2_loss_13: 2.9835 - dense_2_loss_14: 2.9855 - dense_2_loss_15: 3.0419 - dense_2_loss_16: 3.2146 - dense_2_loss_17: 3.0383 - dense_2_loss_18: 3.0663 - dense_2_loss_19: 2.9833 - dense_2_loss_20: 3.1470 - dense_2_loss_21: 3.2370 - dense_2_loss_22: 2.9722 - dense_2_loss_23: 3.0446 - dense_2_loss_24: 3.1021 - dense_2_loss_25: 3.3217 - dense_2_loss_26: 2.7854 - dense_2_loss_27: 2.9805 - dense_2_loss_28: 3.0779 - dense_2_loss_29: 3.1217 - dense_2_loss_30: 0.0000e+00 - dense_2_acc_1: 0.0667 - dense_2_acc_2: 0.1500 - dense_2_acc_3: 0.2167 - dense_2_acc_4: 0.2000 - dense_2_acc_5: 0.2333 - dense_2_acc_6: 0.1167 - dense_2_acc_7: 0.1333 - dense_2_acc_8: 0.2500 - dense_2_acc_9: 0.2500 - dense_2_acc_10: 0.1667 - dense_2_acc_11: 0.2000 - dense_2_acc_12: 0.1167 - dense_2_acc_13: 0.2333 - dense_2_acc_14: 0.2667 - dense_2_acc_15: 0.2333 - dense_2_acc_16: 0.1667 - dense_2_acc_17: 0.2000 - dense_2_acc_18: 0.1667 - dense_2_acc_19: 0.1500 - dense_2_acc_20: 0.2000 - dense_2_acc_21: 0.1833 - dense_2_acc_22: 0.2000 - dense_2_acc_23: 0.1833 - dense_2_acc_24: 0.1833 - dense_2_acc_25: 0.1167 - dense_2_acc_26: 0.3000 - dense_2_acc_27: 0.1833 - dense_2_acc_28: 0.2167 - dense_2_acc_29: 0.1333 - dense_2_acc_30: 0.0000e+00     \n",
      "Epoch 11/100\n"
     ]
    },
    {
     "name": "stdout",
     "output_type": "stream",
     "text": [
      "60/60 [==============================] - 1s - loss: 90.2168 - dense_2_loss_1: 4.1947 - dense_2_loss_2: 3.9511 - dense_2_loss_3: 3.6312 - dense_2_loss_4: 3.5773 - dense_2_loss_5: 3.3853 - dense_2_loss_6: 3.4113 - dense_2_loss_7: 3.2889 - dense_2_loss_8: 2.9878 - dense_2_loss_9: 3.0749 - dense_2_loss_10: 2.8945 - dense_2_loss_11: 3.0207 - dense_2_loss_12: 3.0999 - dense_2_loss_13: 2.8487 - dense_2_loss_14: 2.7665 - dense_2_loss_15: 2.9201 - dense_2_loss_16: 3.0694 - dense_2_loss_17: 2.8569 - dense_2_loss_18: 2.9154 - dense_2_loss_19: 2.8828 - dense_2_loss_20: 2.9556 - dense_2_loss_21: 3.0868 - dense_2_loss_22: 2.8451 - dense_2_loss_23: 2.9127 - dense_2_loss_24: 2.9441 - dense_2_loss_25: 3.1900 - dense_2_loss_26: 2.5785 - dense_2_loss_27: 2.9560 - dense_2_loss_28: 2.9290 - dense_2_loss_29: 3.0416 - dense_2_loss_30: 0.0000e+00 - dense_2_acc_1: 0.0667 - dense_2_acc_2: 0.1500 - dense_2_acc_3: 0.2333 - dense_2_acc_4: 0.2000 - dense_2_acc_5: 0.2500 - dense_2_acc_6: 0.1500 - dense_2_acc_7: 0.1167 - dense_2_acc_8: 0.2667 - dense_2_acc_9: 0.2000 - dense_2_acc_10: 0.2167 - dense_2_acc_11: 0.2500 - dense_2_acc_12: 0.1500 - dense_2_acc_13: 0.3333 - dense_2_acc_14: 0.3333 - dense_2_acc_15: 0.3000 - dense_2_acc_16: 0.1333 - dense_2_acc_17: 0.2333 - dense_2_acc_18: 0.1667 - dense_2_acc_19: 0.1167 - dense_2_acc_20: 0.2833 - dense_2_acc_21: 0.1833 - dense_2_acc_22: 0.1667 - dense_2_acc_23: 0.2000 - dense_2_acc_24: 0.1833 - dense_2_acc_25: 0.1667 - dense_2_acc_26: 0.3667 - dense_2_acc_27: 0.1833 - dense_2_acc_28: 0.2167 - dense_2_acc_29: 0.1833 - dense_2_acc_30: 0.0000e+00     \n",
      "Epoch 12/100\n",
      "60/60 [==============================] - 1s - loss: 86.3547 - dense_2_loss_1: 4.1848 - dense_2_loss_2: 3.9126 - dense_2_loss_3: 3.5554 - dense_2_loss_4: 3.4851 - dense_2_loss_5: 3.2699 - dense_2_loss_6: 3.2835 - dense_2_loss_7: 3.1445 - dense_2_loss_8: 2.8794 - dense_2_loss_9: 2.9300 - dense_2_loss_10: 2.7503 - dense_2_loss_11: 2.9015 - dense_2_loss_12: 2.9338 - dense_2_loss_13: 2.7280 - dense_2_loss_14: 2.6202 - dense_2_loss_15: 2.7404 - dense_2_loss_16: 2.9789 - dense_2_loss_17: 2.7210 - dense_2_loss_18: 2.7763 - dense_2_loss_19: 2.7569 - dense_2_loss_20: 2.7859 - dense_2_loss_21: 2.9246 - dense_2_loss_22: 2.6574 - dense_2_loss_23: 2.7673 - dense_2_loss_24: 2.7548 - dense_2_loss_25: 3.0118 - dense_2_loss_26: 2.4396 - dense_2_loss_27: 2.7666 - dense_2_loss_28: 2.7944 - dense_2_loss_29: 2.8997 - dense_2_loss_30: 0.0000e+00 - dense_2_acc_1: 0.0667 - dense_2_acc_2: 0.1833 - dense_2_acc_3: 0.2667 - dense_2_acc_4: 0.2000 - dense_2_acc_5: 0.2500 - dense_2_acc_6: 0.1667 - dense_2_acc_7: 0.1667 - dense_2_acc_8: 0.2667 - dense_2_acc_9: 0.2000 - dense_2_acc_10: 0.2500 - dense_2_acc_11: 0.2333 - dense_2_acc_12: 0.1333 - dense_2_acc_13: 0.3167 - dense_2_acc_14: 0.2833 - dense_2_acc_15: 0.3000 - dense_2_acc_16: 0.1167 - dense_2_acc_17: 0.2167 - dense_2_acc_18: 0.1833 - dense_2_acc_19: 0.2167 - dense_2_acc_20: 0.2833 - dense_2_acc_21: 0.1500 - dense_2_acc_22: 0.1833 - dense_2_acc_23: 0.2167 - dense_2_acc_24: 0.2000 - dense_2_acc_25: 0.1500 - dense_2_acc_26: 0.3000 - dense_2_acc_27: 0.2500 - dense_2_acc_28: 0.1833 - dense_2_acc_29: 0.1833 - dense_2_acc_30: 0.0000e+00     \n",
      "Epoch 13/100\n",
      "60/60 [==============================] - 1s - loss: 82.7965 - dense_2_loss_1: 4.1753 - dense_2_loss_2: 3.8760 - dense_2_loss_3: 3.4850 - dense_2_loss_4: 3.3946 - dense_2_loss_5: 3.1625 - dense_2_loss_6: 3.1626 - dense_2_loss_7: 3.0120 - dense_2_loss_8: 2.7441 - dense_2_loss_9: 2.8204 - dense_2_loss_10: 2.6045 - dense_2_loss_11: 2.7860 - dense_2_loss_12: 2.7821 - dense_2_loss_13: 2.5862 - dense_2_loss_14: 2.5374 - dense_2_loss_15: 2.6468 - dense_2_loss_16: 2.8663 - dense_2_loss_17: 2.5516 - dense_2_loss_18: 2.6632 - dense_2_loss_19: 2.6113 - dense_2_loss_20: 2.5758 - dense_2_loss_21: 2.6797 - dense_2_loss_22: 2.4734 - dense_2_loss_23: 2.6200 - dense_2_loss_24: 2.6918 - dense_2_loss_25: 2.8849 - dense_2_loss_26: 2.3248 - dense_2_loss_27: 2.6210 - dense_2_loss_28: 2.6874 - dense_2_loss_29: 2.7698 - dense_2_loss_30: 0.0000e+00 - dense_2_acc_1: 0.0667 - dense_2_acc_2: 0.1833 - dense_2_acc_3: 0.2667 - dense_2_acc_4: 0.2000 - dense_2_acc_5: 0.2500 - dense_2_acc_6: 0.1500 - dense_2_acc_7: 0.1833 - dense_2_acc_8: 0.2667 - dense_2_acc_9: 0.2500 - dense_2_acc_10: 0.2333 - dense_2_acc_11: 0.2667 - dense_2_acc_12: 0.1833 - dense_2_acc_13: 0.3667 - dense_2_acc_14: 0.2500 - dense_2_acc_15: 0.3167 - dense_2_acc_16: 0.1500 - dense_2_acc_17: 0.3167 - dense_2_acc_18: 0.2167 - dense_2_acc_19: 0.2000 - dense_2_acc_20: 0.3333 - dense_2_acc_21: 0.2000 - dense_2_acc_22: 0.2167 - dense_2_acc_23: 0.2667 - dense_2_acc_24: 0.2500 - dense_2_acc_25: 0.1500 - dense_2_acc_26: 0.4000 - dense_2_acc_27: 0.3000 - dense_2_acc_28: 0.2500 - dense_2_acc_29: 0.1833 - dense_2_acc_30: 0.0000e+00     \n",
      "Epoch 14/100\n",
      "60/60 [==============================] - 1s - loss: 78.8982 - dense_2_loss_1: 4.1667 - dense_2_loss_2: 3.8363 - dense_2_loss_3: 3.4119 - dense_2_loss_4: 3.2867 - dense_2_loss_5: 3.0451 - dense_2_loss_6: 3.0385 - dense_2_loss_7: 2.9003 - dense_2_loss_8: 2.6198 - dense_2_loss_9: 2.6910 - dense_2_loss_10: 2.5209 - dense_2_loss_11: 2.6881 - dense_2_loss_12: 2.5821 - dense_2_loss_13: 2.4187 - dense_2_loss_14: 2.3896 - dense_2_loss_15: 2.5001 - dense_2_loss_16: 2.6984 - dense_2_loss_17: 2.3901 - dense_2_loss_18: 2.5253 - dense_2_loss_19: 2.4261 - dense_2_loss_20: 2.5031 - dense_2_loss_21: 2.5021 - dense_2_loss_22: 2.3703 - dense_2_loss_23: 2.5709 - dense_2_loss_24: 2.4938 - dense_2_loss_25: 2.6632 - dense_2_loss_26: 2.1645 - dense_2_loss_27: 2.4676 - dense_2_loss_28: 2.4860 - dense_2_loss_29: 2.5411 - dense_2_loss_30: 0.0000e+00 - dense_2_acc_1: 0.0667 - dense_2_acc_2: 0.1833 - dense_2_acc_3: 0.3000 - dense_2_acc_4: 0.2333 - dense_2_acc_5: 0.2667 - dense_2_acc_6: 0.1500 - dense_2_acc_7: 0.1833 - dense_2_acc_8: 0.2833 - dense_2_acc_9: 0.2000 - dense_2_acc_10: 0.2333 - dense_2_acc_11: 0.2167 - dense_2_acc_12: 0.2000 - dense_2_acc_13: 0.4000 - dense_2_acc_14: 0.3333 - dense_2_acc_15: 0.3000 - dense_2_acc_16: 0.2000 - dense_2_acc_17: 0.3000 - dense_2_acc_18: 0.2000 - dense_2_acc_19: 0.2667 - dense_2_acc_20: 0.3167 - dense_2_acc_21: 0.2500 - dense_2_acc_22: 0.2333 - dense_2_acc_23: 0.2333 - dense_2_acc_24: 0.2333 - dense_2_acc_25: 0.1667 - dense_2_acc_26: 0.4167 - dense_2_acc_27: 0.2667 - dense_2_acc_28: 0.2667 - dense_2_acc_29: 0.2667 - dense_2_acc_30: 0.0000e+00     \n",
      "Epoch 15/100\n",
      "60/60 [==============================] - 1s - loss: 75.1050 - dense_2_loss_1: 4.1568 - dense_2_loss_2: 3.7920 - dense_2_loss_3: 3.3299 - dense_2_loss_4: 3.1808 - dense_2_loss_5: 2.9207 - dense_2_loss_6: 2.9128 - dense_2_loss_7: 2.7685 - dense_2_loss_8: 2.5100 - dense_2_loss_9: 2.5733 - dense_2_loss_10: 2.4041 - dense_2_loss_11: 2.5574 - dense_2_loss_12: 2.3869 - dense_2_loss_13: 2.2527 - dense_2_loss_14: 2.2040 - dense_2_loss_15: 2.3346 - dense_2_loss_16: 2.5363 - dense_2_loss_17: 2.2420 - dense_2_loss_18: 2.3671 - dense_2_loss_19: 2.2622 - dense_2_loss_20: 2.3804 - dense_2_loss_21: 2.3392 - dense_2_loss_22: 2.2208 - dense_2_loss_23: 2.4109 - dense_2_loss_24: 2.3314 - dense_2_loss_25: 2.5313 - dense_2_loss_26: 2.0553 - dense_2_loss_27: 2.3814 - dense_2_loss_28: 2.3960 - dense_2_loss_29: 2.3665 - dense_2_loss_30: 0.0000e+00 - dense_2_acc_1: 0.0667 - dense_2_acc_2: 0.1833 - dense_2_acc_3: 0.3333 - dense_2_acc_4: 0.2500 - dense_2_acc_5: 0.2833 - dense_2_acc_6: 0.1667 - dense_2_acc_7: 0.1833 - dense_2_acc_8: 0.2833 - dense_2_acc_9: 0.2333 - dense_2_acc_10: 0.2500 - dense_2_acc_11: 0.2667 - dense_2_acc_12: 0.2500 - dense_2_acc_13: 0.3167 - dense_2_acc_14: 0.3167 - dense_2_acc_15: 0.3333 - dense_2_acc_16: 0.2500 - dense_2_acc_17: 0.3167 - dense_2_acc_18: 0.2500 - dense_2_acc_19: 0.2667 - dense_2_acc_20: 0.3333 - dense_2_acc_21: 0.2667 - dense_2_acc_22: 0.2833 - dense_2_acc_23: 0.2667 - dense_2_acc_24: 0.2667 - dense_2_acc_25: 0.2500 - dense_2_acc_26: 0.4500 - dense_2_acc_27: 0.3000 - dense_2_acc_28: 0.3000 - dense_2_acc_29: 0.3000 - dense_2_acc_30: 0.0000e+00     \n",
      "Epoch 16/100\n",
      "60/60 [==============================] - 1s - loss: 71.7520 - dense_2_loss_1: 4.1472 - dense_2_loss_2: 3.7482 - dense_2_loss_3: 3.2484 - dense_2_loss_4: 3.0780 - dense_2_loss_5: 2.8123 - dense_2_loss_6: 2.7842 - dense_2_loss_7: 2.6285 - dense_2_loss_8: 2.3934 - dense_2_loss_9: 2.4764 - dense_2_loss_10: 2.2955 - dense_2_loss_11: 2.4668 - dense_2_loss_12: 2.2288 - dense_2_loss_13: 2.0750 - dense_2_loss_14: 2.1047 - dense_2_loss_15: 2.2116 - dense_2_loss_16: 2.4087 - dense_2_loss_17: 2.1471 - dense_2_loss_18: 2.2342 - dense_2_loss_19: 2.1950 - dense_2_loss_20: 2.2486 - dense_2_loss_21: 2.1458 - dense_2_loss_22: 2.0736 - dense_2_loss_23: 2.1843 - dense_2_loss_24: 2.2234 - dense_2_loss_25: 2.4208 - dense_2_loss_26: 1.9538 - dense_2_loss_27: 2.3055 - dense_2_loss_28: 2.2522 - dense_2_loss_29: 2.2601 - dense_2_loss_30: 0.0000e+00 - dense_2_acc_1: 0.0667 - dense_2_acc_2: 0.1833 - dense_2_acc_3: 0.3333 - dense_2_acc_4: 0.2500 - dense_2_acc_5: 0.3167 - dense_2_acc_6: 0.1667 - dense_2_acc_7: 0.2167 - dense_2_acc_8: 0.3167 - dense_2_acc_9: 0.2500 - dense_2_acc_10: 0.2500 - dense_2_acc_11: 0.3333 - dense_2_acc_12: 0.3000 - dense_2_acc_13: 0.4000 - dense_2_acc_14: 0.4333 - dense_2_acc_15: 0.3667 - dense_2_acc_16: 0.2333 - dense_2_acc_17: 0.3167 - dense_2_acc_18: 0.3167 - dense_2_acc_19: 0.3167 - dense_2_acc_20: 0.2833 - dense_2_acc_21: 0.2833 - dense_2_acc_22: 0.2500 - dense_2_acc_23: 0.2667 - dense_2_acc_24: 0.2333 - dense_2_acc_25: 0.2333 - dense_2_acc_26: 0.4833 - dense_2_acc_27: 0.2333 - dense_2_acc_28: 0.3167 - dense_2_acc_29: 0.3333 - dense_2_acc_30: 0.0000e+00     \n",
      "Epoch 17/100\n",
      "60/60 [==============================] - 1s - loss: 68.2457 - dense_2_loss_1: 4.1380 - dense_2_loss_2: 3.7017 - dense_2_loss_3: 3.1681 - dense_2_loss_4: 2.9765 - dense_2_loss_5: 2.6918 - dense_2_loss_6: 2.6435 - dense_2_loss_7: 2.4862 - dense_2_loss_8: 2.2652 - dense_2_loss_9: 2.3190 - dense_2_loss_10: 2.1594 - dense_2_loss_11: 2.3721 - dense_2_loss_12: 2.0529 - dense_2_loss_13: 1.9051 - dense_2_loss_14: 2.0426 - dense_2_loss_15: 2.0766 - dense_2_loss_16: 2.2751 - dense_2_loss_17: 2.0062 - dense_2_loss_18: 2.1046 - dense_2_loss_19: 2.0758 - dense_2_loss_20: 2.1273 - dense_2_loss_21: 2.0432 - dense_2_loss_22: 2.0262 - dense_2_loss_23: 2.0942 - dense_2_loss_24: 2.0876 - dense_2_loss_25: 2.2479 - dense_2_loss_26: 1.8379 - dense_2_loss_27: 2.1594 - dense_2_loss_28: 2.0878 - dense_2_loss_29: 2.0740 - dense_2_loss_30: 0.0000e+00 - dense_2_acc_1: 0.0667 - dense_2_acc_2: 0.1833 - dense_2_acc_3: 0.3167 - dense_2_acc_4: 0.2667 - dense_2_acc_5: 0.3167 - dense_2_acc_6: 0.2333 - dense_2_acc_7: 0.2500 - dense_2_acc_8: 0.3667 - dense_2_acc_9: 0.2667 - dense_2_acc_10: 0.3167 - dense_2_acc_11: 0.4167 - dense_2_acc_12: 0.3500 - dense_2_acc_13: 0.4500 - dense_2_acc_14: 0.3667 - dense_2_acc_15: 0.4000 - dense_2_acc_16: 0.3667 - dense_2_acc_17: 0.4500 - dense_2_acc_18: 0.4000 - dense_2_acc_19: 0.4167 - dense_2_acc_20: 0.3500 - dense_2_acc_21: 0.3833 - dense_2_acc_22: 0.3167 - dense_2_acc_23: 0.3833 - dense_2_acc_24: 0.3167 - dense_2_acc_25: 0.2667 - dense_2_acc_26: 0.5000 - dense_2_acc_27: 0.3500 - dense_2_acc_28: 0.4000 - dense_2_acc_29: 0.4000 - dense_2_acc_30: 0.0000e+00     \n",
      "Epoch 18/100\n",
      "60/60 [==============================] - 1s - loss: 64.9223 - dense_2_loss_1: 4.1288 - dense_2_loss_2: 3.6537 - dense_2_loss_3: 3.0869 - dense_2_loss_4: 2.8729 - dense_2_loss_5: 2.5727 - dense_2_loss_6: 2.4855 - dense_2_loss_7: 2.3391 - dense_2_loss_8: 2.1695 - dense_2_loss_9: 2.1512 - dense_2_loss_10: 2.0608 - dense_2_loss_11: 2.2346 - dense_2_loss_12: 1.8726 - dense_2_loss_13: 1.7715 - dense_2_loss_14: 1.9038 - dense_2_loss_15: 1.9744 - dense_2_loss_16: 2.1659 - dense_2_loss_17: 1.8805 - dense_2_loss_18: 2.0324 - dense_2_loss_19: 1.9549 - dense_2_loss_20: 1.9961 - dense_2_loss_21: 1.9221 - dense_2_loss_22: 1.8919 - dense_2_loss_23: 2.0206 - dense_2_loss_24: 2.0077 - dense_2_loss_25: 2.0998 - dense_2_loss_26: 1.7586 - dense_2_loss_27: 2.0138 - dense_2_loss_28: 1.9674 - dense_2_loss_29: 1.9326 - dense_2_loss_30: 0.0000e+00 - dense_2_acc_1: 0.1000 - dense_2_acc_2: 0.2667 - dense_2_acc_3: 0.3667 - dense_2_acc_4: 0.2667 - dense_2_acc_5: 0.3167 - dense_2_acc_6: 0.2500 - dense_2_acc_7: 0.2833 - dense_2_acc_8: 0.3833 - dense_2_acc_9: 0.4000 - dense_2_acc_10: 0.3833 - dense_2_acc_11: 0.4000 - dense_2_acc_12: 0.4000 - dense_2_acc_13: 0.5833 - dense_2_acc_14: 0.4500 - dense_2_acc_15: 0.4167 - dense_2_acc_16: 0.3500 - dense_2_acc_17: 0.4667 - dense_2_acc_18: 0.3333 - dense_2_acc_19: 0.4333 - dense_2_acc_20: 0.4000 - dense_2_acc_21: 0.4500 - dense_2_acc_22: 0.4667 - dense_2_acc_23: 0.3500 - dense_2_acc_24: 0.3500 - dense_2_acc_25: 0.3167 - dense_2_acc_26: 0.5333 - dense_2_acc_27: 0.4167 - dense_2_acc_28: 0.4000 - dense_2_acc_29: 0.4500 - dense_2_acc_30: 0.0167         \n",
      "Epoch 19/100\n",
      "60/60 [==============================] - 1s - loss: 61.6059 - dense_2_loss_1: 4.1190 - dense_2_loss_2: 3.6061 - dense_2_loss_3: 3.0010 - dense_2_loss_4: 2.7568 - dense_2_loss_5: 2.4382 - dense_2_loss_6: 2.3410 - dense_2_loss_7: 2.2088 - dense_2_loss_8: 2.0632 - dense_2_loss_9: 2.0130 - dense_2_loss_10: 1.9969 - dense_2_loss_11: 2.1196 - dense_2_loss_12: 1.7576 - dense_2_loss_13: 1.6643 - dense_2_loss_14: 1.7879 - dense_2_loss_15: 1.8188 - dense_2_loss_16: 2.0123 - dense_2_loss_17: 1.8069 - dense_2_loss_18: 1.9136 - dense_2_loss_19: 1.8473 - dense_2_loss_20: 1.8522 - dense_2_loss_21: 1.7846 - dense_2_loss_22: 1.7755 - dense_2_loss_23: 1.8712 - dense_2_loss_24: 1.8839 - dense_2_loss_25: 1.9629 - dense_2_loss_26: 1.6671 - dense_2_loss_27: 1.8686 - dense_2_loss_28: 1.8376 - dense_2_loss_29: 1.8299 - dense_2_loss_30: 0.0000e+00 - dense_2_acc_1: 0.0667 - dense_2_acc_2: 0.2667 - dense_2_acc_3: 0.3500 - dense_2_acc_4: 0.2667 - dense_2_acc_5: 0.3333 - dense_2_acc_6: 0.2833 - dense_2_acc_7: 0.2833 - dense_2_acc_8: 0.4167 - dense_2_acc_9: 0.4667 - dense_2_acc_10: 0.3833 - dense_2_acc_11: 0.4000 - dense_2_acc_12: 0.4833 - dense_2_acc_13: 0.5500 - dense_2_acc_14: 0.4833 - dense_2_acc_15: 0.4667 - dense_2_acc_16: 0.4833 - dense_2_acc_17: 0.5000 - dense_2_acc_18: 0.3667 - dense_2_acc_19: 0.5500 - dense_2_acc_20: 0.5167 - dense_2_acc_21: 0.4500 - dense_2_acc_22: 0.4333 - dense_2_acc_23: 0.4333 - dense_2_acc_24: 0.3833 - dense_2_acc_25: 0.3833 - dense_2_acc_26: 0.5833 - dense_2_acc_27: 0.5000 - dense_2_acc_28: 0.4500 - dense_2_acc_29: 0.4833 - dense_2_acc_30: 0.0167     \n",
      "Epoch 20/100\n",
      "60/60 [==============================] - 1s - loss: 58.3098 - dense_2_loss_1: 4.1096 - dense_2_loss_2: 3.5563 - dense_2_loss_3: 2.9118 - dense_2_loss_4: 2.6458 - dense_2_loss_5: 2.3132 - dense_2_loss_6: 2.2076 - dense_2_loss_7: 2.0642 - dense_2_loss_8: 1.9470 - dense_2_loss_9: 1.8821 - dense_2_loss_10: 1.8512 - dense_2_loss_11: 1.9591 - dense_2_loss_12: 1.6603 - dense_2_loss_13: 1.5739 - dense_2_loss_14: 1.6861 - dense_2_loss_15: 1.6677 - dense_2_loss_16: 1.8979 - dense_2_loss_17: 1.6750 - dense_2_loss_18: 1.7663 - dense_2_loss_19: 1.6837 - dense_2_loss_20: 1.7016 - dense_2_loss_21: 1.6584 - dense_2_loss_22: 1.7148 - dense_2_loss_23: 1.7233 - dense_2_loss_24: 1.7533 - dense_2_loss_25: 1.8366 - dense_2_loss_26: 1.6256 - dense_2_loss_27: 1.7415 - dense_2_loss_28: 1.7612 - dense_2_loss_29: 1.7348 - dense_2_loss_30: 0.0000e+00 - dense_2_acc_1: 0.0667 - dense_2_acc_2: 0.2667 - dense_2_acc_3: 0.3500 - dense_2_acc_4: 0.2667 - dense_2_acc_5: 0.3500 - dense_2_acc_6: 0.3167 - dense_2_acc_7: 0.3833 - dense_2_acc_8: 0.4000 - dense_2_acc_9: 0.4500 - dense_2_acc_10: 0.3500 - dense_2_acc_11: 0.3833 - dense_2_acc_12: 0.5167 - dense_2_acc_13: 0.6000 - dense_2_acc_14: 0.5000 - dense_2_acc_15: 0.4667 - dense_2_acc_16: 0.5167 - dense_2_acc_17: 0.4500 - dense_2_acc_18: 0.4167 - dense_2_acc_19: 0.5500 - dense_2_acc_20: 0.6500 - dense_2_acc_21: 0.5167 - dense_2_acc_22: 0.4667 - dense_2_acc_23: 0.5667 - dense_2_acc_24: 0.4500 - dense_2_acc_25: 0.3833 - dense_2_acc_26: 0.5667 - dense_2_acc_27: 0.5667 - dense_2_acc_28: 0.5000 - dense_2_acc_29: 0.5167 - dense_2_acc_30: 0.0000e+00     \n",
      "Epoch 21/100\n"
     ]
    },
    {
     "name": "stdout",
     "output_type": "stream",
     "text": [
      "60/60 [==============================] - 1s - loss: 55.2561 - dense_2_loss_1: 4.1006 - dense_2_loss_2: 3.5071 - dense_2_loss_3: 2.8249 - dense_2_loss_4: 2.5364 - dense_2_loss_5: 2.2012 - dense_2_loss_6: 2.0807 - dense_2_loss_7: 1.9220 - dense_2_loss_8: 1.8340 - dense_2_loss_9: 1.7835 - dense_2_loss_10: 1.7202 - dense_2_loss_11: 1.8340 - dense_2_loss_12: 1.5450 - dense_2_loss_13: 1.4928 - dense_2_loss_14: 1.5822 - dense_2_loss_15: 1.5747 - dense_2_loss_16: 1.7687 - dense_2_loss_17: 1.5511 - dense_2_loss_18: 1.6239 - dense_2_loss_19: 1.5623 - dense_2_loss_20: 1.5966 - dense_2_loss_21: 1.5608 - dense_2_loss_22: 1.6254 - dense_2_loss_23: 1.6149 - dense_2_loss_24: 1.6474 - dense_2_loss_25: 1.7044 - dense_2_loss_26: 1.5564 - dense_2_loss_27: 1.6650 - dense_2_loss_28: 1.6291 - dense_2_loss_29: 1.6107 - dense_2_loss_30: 0.0000e+00 - dense_2_acc_1: 0.0667 - dense_2_acc_2: 0.2833 - dense_2_acc_3: 0.3833 - dense_2_acc_4: 0.2833 - dense_2_acc_5: 0.3500 - dense_2_acc_6: 0.4333 - dense_2_acc_7: 0.5000 - dense_2_acc_8: 0.4333 - dense_2_acc_9: 0.4500 - dense_2_acc_10: 0.5167 - dense_2_acc_11: 0.4833 - dense_2_acc_12: 0.7000 - dense_2_acc_13: 0.6667 - dense_2_acc_14: 0.5333 - dense_2_acc_15: 0.6000 - dense_2_acc_16: 0.6167 - dense_2_acc_17: 0.5333 - dense_2_acc_18: 0.5333 - dense_2_acc_19: 0.5500 - dense_2_acc_20: 0.6833 - dense_2_acc_21: 0.6000 - dense_2_acc_22: 0.5333 - dense_2_acc_23: 0.6167 - dense_2_acc_24: 0.5333 - dense_2_acc_25: 0.5000 - dense_2_acc_26: 0.6167 - dense_2_acc_27: 0.6000 - dense_2_acc_28: 0.6000 - dense_2_acc_29: 0.6333 - dense_2_acc_30: 0.0000e+00     \n",
      "Epoch 22/100\n",
      "60/60 [==============================] - 1s - loss: 52.3286 - dense_2_loss_1: 4.0923 - dense_2_loss_2: 3.4548 - dense_2_loss_3: 2.7389 - dense_2_loss_4: 2.4236 - dense_2_loss_5: 2.0861 - dense_2_loss_6: 1.9663 - dense_2_loss_7: 1.7662 - dense_2_loss_8: 1.7230 - dense_2_loss_9: 1.6956 - dense_2_loss_10: 1.5750 - dense_2_loss_11: 1.7413 - dense_2_loss_12: 1.4589 - dense_2_loss_13: 1.3801 - dense_2_loss_14: 1.4751 - dense_2_loss_15: 1.5123 - dense_2_loss_16: 1.6079 - dense_2_loss_17: 1.4576 - dense_2_loss_18: 1.4713 - dense_2_loss_19: 1.4878 - dense_2_loss_20: 1.5318 - dense_2_loss_21: 1.4884 - dense_2_loss_22: 1.5087 - dense_2_loss_23: 1.5583 - dense_2_loss_24: 1.5173 - dense_2_loss_25: 1.5950 - dense_2_loss_26: 1.4756 - dense_2_loss_27: 1.5407 - dense_2_loss_28: 1.5159 - dense_2_loss_29: 1.4827 - dense_2_loss_30: 0.0000e+00 - dense_2_acc_1: 0.0667 - dense_2_acc_2: 0.3000 - dense_2_acc_3: 0.4167 - dense_2_acc_4: 0.3000 - dense_2_acc_5: 0.3833 - dense_2_acc_6: 0.4500 - dense_2_acc_7: 0.5667 - dense_2_acc_8: 0.5500 - dense_2_acc_9: 0.5000 - dense_2_acc_10: 0.6000 - dense_2_acc_11: 0.5167 - dense_2_acc_12: 0.7500 - dense_2_acc_13: 0.6833 - dense_2_acc_14: 0.6000 - dense_2_acc_15: 0.6167 - dense_2_acc_16: 0.6333 - dense_2_acc_17: 0.7000 - dense_2_acc_18: 0.6167 - dense_2_acc_19: 0.6000 - dense_2_acc_20: 0.6333 - dense_2_acc_21: 0.6667 - dense_2_acc_22: 0.5833 - dense_2_acc_23: 0.4667 - dense_2_acc_24: 0.6000 - dense_2_acc_25: 0.5500 - dense_2_acc_26: 0.6500 - dense_2_acc_27: 0.6667 - dense_2_acc_28: 0.6833 - dense_2_acc_29: 0.7167 - dense_2_acc_30: 0.0000e+00     \n",
      "Epoch 23/100\n",
      "60/60 [==============================] - 1s - loss: 49.5735 - dense_2_loss_1: 4.0832 - dense_2_loss_2: 3.4022 - dense_2_loss_3: 2.6501 - dense_2_loss_4: 2.3117 - dense_2_loss_5: 1.9771 - dense_2_loss_6: 1.8415 - dense_2_loss_7: 1.6273 - dense_2_loss_8: 1.6135 - dense_2_loss_9: 1.5816 - dense_2_loss_10: 1.4402 - dense_2_loss_11: 1.6116 - dense_2_loss_12: 1.3562 - dense_2_loss_13: 1.2802 - dense_2_loss_14: 1.3372 - dense_2_loss_15: 1.4346 - dense_2_loss_16: 1.4904 - dense_2_loss_17: 1.3383 - dense_2_loss_18: 1.3475 - dense_2_loss_19: 1.3835 - dense_2_loss_20: 1.4379 - dense_2_loss_21: 1.4080 - dense_2_loss_22: 1.3823 - dense_2_loss_23: 1.4915 - dense_2_loss_24: 1.4467 - dense_2_loss_25: 1.5094 - dense_2_loss_26: 1.4090 - dense_2_loss_27: 1.5250 - dense_2_loss_28: 1.4397 - dense_2_loss_29: 1.4163 - dense_2_loss_30: 0.0000e+00 - dense_2_acc_1: 0.0667 - dense_2_acc_2: 0.3000 - dense_2_acc_3: 0.4500 - dense_2_acc_4: 0.3000 - dense_2_acc_5: 0.4000 - dense_2_acc_6: 0.4833 - dense_2_acc_7: 0.6667 - dense_2_acc_8: 0.5667 - dense_2_acc_9: 0.6500 - dense_2_acc_10: 0.7500 - dense_2_acc_11: 0.5500 - dense_2_acc_12: 0.8000 - dense_2_acc_13: 0.7833 - dense_2_acc_14: 0.6833 - dense_2_acc_15: 0.6000 - dense_2_acc_16: 0.6667 - dense_2_acc_17: 0.7167 - dense_2_acc_18: 0.6500 - dense_2_acc_19: 0.6167 - dense_2_acc_20: 0.5833 - dense_2_acc_21: 0.6500 - dense_2_acc_22: 0.7333 - dense_2_acc_23: 0.5833 - dense_2_acc_24: 0.7000 - dense_2_acc_25: 0.6333 - dense_2_acc_26: 0.6667 - dense_2_acc_27: 0.6500 - dense_2_acc_28: 0.7000 - dense_2_acc_29: 0.7667 - dense_2_acc_30: 0.0000e+00     \n",
      "Epoch 24/100\n",
      "60/60 [==============================] - 1s - loss: 46.7722 - dense_2_loss_1: 4.0747 - dense_2_loss_2: 3.3505 - dense_2_loss_3: 2.5577 - dense_2_loss_4: 2.2070 - dense_2_loss_5: 1.8824 - dense_2_loss_6: 1.7331 - dense_2_loss_7: 1.5079 - dense_2_loss_8: 1.5268 - dense_2_loss_9: 1.5123 - dense_2_loss_10: 1.3486 - dense_2_loss_11: 1.5017 - dense_2_loss_12: 1.2668 - dense_2_loss_13: 1.1829 - dense_2_loss_14: 1.2397 - dense_2_loss_15: 1.3379 - dense_2_loss_16: 1.3938 - dense_2_loss_17: 1.2480 - dense_2_loss_18: 1.2632 - dense_2_loss_19: 1.2858 - dense_2_loss_20: 1.3376 - dense_2_loss_21: 1.2807 - dense_2_loss_22: 1.2816 - dense_2_loss_23: 1.3654 - dense_2_loss_24: 1.3382 - dense_2_loss_25: 1.4326 - dense_2_loss_26: 1.2640 - dense_2_loss_27: 1.4045 - dense_2_loss_28: 1.3596 - dense_2_loss_29: 1.2874 - dense_2_loss_30: 0.0000e+00 - dense_2_acc_1: 0.0667 - dense_2_acc_2: 0.3167 - dense_2_acc_3: 0.4500 - dense_2_acc_4: 0.3000 - dense_2_acc_5: 0.4000 - dense_2_acc_6: 0.5667 - dense_2_acc_7: 0.6833 - dense_2_acc_8: 0.6000 - dense_2_acc_9: 0.6500 - dense_2_acc_10: 0.7833 - dense_2_acc_11: 0.6500 - dense_2_acc_12: 0.8500 - dense_2_acc_13: 0.8333 - dense_2_acc_14: 0.7333 - dense_2_acc_15: 0.6333 - dense_2_acc_16: 0.6833 - dense_2_acc_17: 0.7667 - dense_2_acc_18: 0.7333 - dense_2_acc_19: 0.7167 - dense_2_acc_20: 0.6500 - dense_2_acc_21: 0.8000 - dense_2_acc_22: 0.7667 - dense_2_acc_23: 0.6333 - dense_2_acc_24: 0.6500 - dense_2_acc_25: 0.5833 - dense_2_acc_26: 0.8167 - dense_2_acc_27: 0.6833 - dense_2_acc_28: 0.7000 - dense_2_acc_29: 0.8000 - dense_2_acc_30: 0.0000e+00     \n",
      "Epoch 25/100\n",
      "60/60 [==============================] - 1s - loss: 44.1793 - dense_2_loss_1: 4.0652 - dense_2_loss_2: 3.2968 - dense_2_loss_3: 2.4661 - dense_2_loss_4: 2.0982 - dense_2_loss_5: 1.7802 - dense_2_loss_6: 1.6485 - dense_2_loss_7: 1.4289 - dense_2_loss_8: 1.4013 - dense_2_loss_9: 1.3997 - dense_2_loss_10: 1.2888 - dense_2_loss_11: 1.3858 - dense_2_loss_12: 1.1855 - dense_2_loss_13: 1.0936 - dense_2_loss_14: 1.1255 - dense_2_loss_15: 1.2567 - dense_2_loss_16: 1.2696 - dense_2_loss_17: 1.1579 - dense_2_loss_18: 1.1852 - dense_2_loss_19: 1.1662 - dense_2_loss_20: 1.2488 - dense_2_loss_21: 1.2283 - dense_2_loss_22: 1.2235 - dense_2_loss_23: 1.2735 - dense_2_loss_24: 1.2688 - dense_2_loss_25: 1.2908 - dense_2_loss_26: 1.2188 - dense_2_loss_27: 1.2679 - dense_2_loss_28: 1.2320 - dense_2_loss_29: 1.2271 - dense_2_loss_30: 0.0000e+00 - dense_2_acc_1: 0.0667 - dense_2_acc_2: 0.3167 - dense_2_acc_3: 0.4500 - dense_2_acc_4: 0.3167 - dense_2_acc_5: 0.4500 - dense_2_acc_6: 0.5333 - dense_2_acc_7: 0.6833 - dense_2_acc_8: 0.6667 - dense_2_acc_9: 0.7167 - dense_2_acc_10: 0.7500 - dense_2_acc_11: 0.6833 - dense_2_acc_12: 0.8333 - dense_2_acc_13: 0.8333 - dense_2_acc_14: 0.7167 - dense_2_acc_15: 0.7167 - dense_2_acc_16: 0.7500 - dense_2_acc_17: 0.8000 - dense_2_acc_18: 0.7500 - dense_2_acc_19: 0.8500 - dense_2_acc_20: 0.7833 - dense_2_acc_21: 0.8500 - dense_2_acc_22: 0.7833 - dense_2_acc_23: 0.6500 - dense_2_acc_24: 0.6833 - dense_2_acc_25: 0.6333 - dense_2_acc_26: 0.8000 - dense_2_acc_27: 0.8000 - dense_2_acc_28: 0.7833 - dense_2_acc_29: 0.8000 - dense_2_acc_30: 0.0000e+00     \n",
      "Epoch 26/100\n",
      "60/60 [==============================] - 1s - loss: 41.6154 - dense_2_loss_1: 4.0576 - dense_2_loss_2: 3.2399 - dense_2_loss_3: 2.3704 - dense_2_loss_4: 1.9858 - dense_2_loss_5: 1.6811 - dense_2_loss_6: 1.5392 - dense_2_loss_7: 1.3234 - dense_2_loss_8: 1.3246 - dense_2_loss_9: 1.2794 - dense_2_loss_10: 1.2149 - dense_2_loss_11: 1.2905 - dense_2_loss_12: 1.1116 - dense_2_loss_13: 0.9903 - dense_2_loss_14: 1.0481 - dense_2_loss_15: 1.1624 - dense_2_loss_16: 1.1851 - dense_2_loss_17: 1.0563 - dense_2_loss_18: 1.0957 - dense_2_loss_19: 1.0984 - dense_2_loss_20: 1.1869 - dense_2_loss_21: 1.1355 - dense_2_loss_22: 1.1104 - dense_2_loss_23: 1.1618 - dense_2_loss_24: 1.1674 - dense_2_loss_25: 1.2247 - dense_2_loss_26: 1.1389 - dense_2_loss_27: 1.1675 - dense_2_loss_28: 1.1436 - dense_2_loss_29: 1.1241 - dense_2_loss_30: 0.0000e+00 - dense_2_acc_1: 0.0667 - dense_2_acc_2: 0.3167 - dense_2_acc_3: 0.4500 - dense_2_acc_4: 0.3667 - dense_2_acc_5: 0.4833 - dense_2_acc_6: 0.6167 - dense_2_acc_7: 0.7500 - dense_2_acc_8: 0.6667 - dense_2_acc_9: 0.7500 - dense_2_acc_10: 0.7833 - dense_2_acc_11: 0.7500 - dense_2_acc_12: 0.8667 - dense_2_acc_13: 0.9167 - dense_2_acc_14: 0.7833 - dense_2_acc_15: 0.7500 - dense_2_acc_16: 0.7833 - dense_2_acc_17: 0.8833 - dense_2_acc_18: 0.8500 - dense_2_acc_19: 0.8833 - dense_2_acc_20: 0.7667 - dense_2_acc_21: 0.8333 - dense_2_acc_22: 0.8833 - dense_2_acc_23: 0.8000 - dense_2_acc_24: 0.7667 - dense_2_acc_25: 0.6833 - dense_2_acc_26: 0.8667 - dense_2_acc_27: 0.8333 - dense_2_acc_28: 0.8500 - dense_2_acc_29: 0.8833 - dense_2_acc_30: 0.0000e+00     \n",
      "Epoch 27/100\n",
      "60/60 [==============================] - 1s - loss: 39.1508 - dense_2_loss_1: 4.0486 - dense_2_loss_2: 3.1855 - dense_2_loss_3: 2.2818 - dense_2_loss_4: 1.8732 - dense_2_loss_5: 1.5814 - dense_2_loss_6: 1.4236 - dense_2_loss_7: 1.2146 - dense_2_loss_8: 1.2256 - dense_2_loss_9: 1.1735 - dense_2_loss_10: 1.1038 - dense_2_loss_11: 1.1953 - dense_2_loss_12: 1.0275 - dense_2_loss_13: 0.9297 - dense_2_loss_14: 0.9648 - dense_2_loss_15: 1.0638 - dense_2_loss_16: 1.0765 - dense_2_loss_17: 0.9723 - dense_2_loss_18: 0.9918 - dense_2_loss_19: 1.0107 - dense_2_loss_20: 1.1011 - dense_2_loss_21: 1.0616 - dense_2_loss_22: 1.0358 - dense_2_loss_23: 1.0748 - dense_2_loss_24: 1.0950 - dense_2_loss_25: 1.1272 - dense_2_loss_26: 1.0308 - dense_2_loss_27: 1.1475 - dense_2_loss_28: 1.0823 - dense_2_loss_29: 1.0509 - dense_2_loss_30: 0.0000e+00 - dense_2_acc_1: 0.0667 - dense_2_acc_2: 0.3167 - dense_2_acc_3: 0.4500 - dense_2_acc_4: 0.4500 - dense_2_acc_5: 0.5500 - dense_2_acc_6: 0.7000 - dense_2_acc_7: 0.7833 - dense_2_acc_8: 0.7333 - dense_2_acc_9: 0.7833 - dense_2_acc_10: 0.8167 - dense_2_acc_11: 0.7667 - dense_2_acc_12: 0.9333 - dense_2_acc_13: 0.9500 - dense_2_acc_14: 0.8667 - dense_2_acc_15: 0.8167 - dense_2_acc_16: 0.8000 - dense_2_acc_17: 0.9167 - dense_2_acc_18: 0.8667 - dense_2_acc_19: 0.8833 - dense_2_acc_20: 0.8333 - dense_2_acc_21: 0.8333 - dense_2_acc_22: 0.8833 - dense_2_acc_23: 0.8333 - dense_2_acc_24: 0.8333 - dense_2_acc_25: 0.7500 - dense_2_acc_26: 0.9333 - dense_2_acc_27: 0.8167 - dense_2_acc_28: 0.8167 - dense_2_acc_29: 0.9000 - dense_2_acc_30: 0.0333         \n",
      "Epoch 28/100\n",
      "60/60 [==============================] - 1s - loss: 36.8988 - dense_2_loss_1: 4.0402 - dense_2_loss_2: 3.1290 - dense_2_loss_3: 2.1871 - dense_2_loss_4: 1.7806 - dense_2_loss_5: 1.4902 - dense_2_loss_6: 1.3367 - dense_2_loss_7: 1.1157 - dense_2_loss_8: 1.1359 - dense_2_loss_9: 1.1267 - dense_2_loss_10: 1.0032 - dense_2_loss_11: 1.1137 - dense_2_loss_12: 0.9444 - dense_2_loss_13: 0.8634 - dense_2_loss_14: 0.8637 - dense_2_loss_15: 1.0106 - dense_2_loss_16: 0.9787 - dense_2_loss_17: 0.8724 - dense_2_loss_18: 0.9474 - dense_2_loss_19: 0.9272 - dense_2_loss_20: 1.0210 - dense_2_loss_21: 1.0073 - dense_2_loss_22: 0.9491 - dense_2_loss_23: 1.0327 - dense_2_loss_24: 1.0384 - dense_2_loss_25: 1.0172 - dense_2_loss_26: 0.9363 - dense_2_loss_27: 1.0520 - dense_2_loss_28: 0.9846 - dense_2_loss_29: 0.9936 - dense_2_loss_30: 0.0000e+00 - dense_2_acc_1: 0.0667 - dense_2_acc_2: 0.3167 - dense_2_acc_3: 0.4500 - dense_2_acc_4: 0.4667 - dense_2_acc_5: 0.5833 - dense_2_acc_6: 0.7167 - dense_2_acc_7: 0.8000 - dense_2_acc_8: 0.7667 - dense_2_acc_9: 0.7833 - dense_2_acc_10: 0.9000 - dense_2_acc_11: 0.7500 - dense_2_acc_12: 0.9167 - dense_2_acc_13: 0.9333 - dense_2_acc_14: 0.9000 - dense_2_acc_15: 0.8167 - dense_2_acc_16: 0.8667 - dense_2_acc_17: 0.9333 - dense_2_acc_18: 0.9000 - dense_2_acc_19: 0.8833 - dense_2_acc_20: 0.8500 - dense_2_acc_21: 0.7833 - dense_2_acc_22: 0.9000 - dense_2_acc_23: 0.7833 - dense_2_acc_24: 0.8500 - dense_2_acc_25: 0.7667 - dense_2_acc_26: 0.9333 - dense_2_acc_27: 0.8000 - dense_2_acc_28: 0.8500 - dense_2_acc_29: 0.8667 - dense_2_acc_30: 0.0333         \n",
      "Epoch 29/100\n",
      "60/60 [==============================] - 1s - loss: 34.6079 - dense_2_loss_1: 4.0315 - dense_2_loss_2: 3.0752 - dense_2_loss_3: 2.1002 - dense_2_loss_4: 1.6857 - dense_2_loss_5: 1.4017 - dense_2_loss_6: 1.2328 - dense_2_loss_7: 1.0451 - dense_2_loss_8: 1.0243 - dense_2_loss_9: 1.0267 - dense_2_loss_10: 0.9416 - dense_2_loss_11: 1.0015 - dense_2_loss_12: 0.8803 - dense_2_loss_13: 0.7767 - dense_2_loss_14: 0.8328 - dense_2_loss_15: 0.8950 - dense_2_loss_16: 0.9020 - dense_2_loss_17: 0.8212 - dense_2_loss_18: 0.8724 - dense_2_loss_19: 0.8470 - dense_2_loss_20: 0.9386 - dense_2_loss_21: 0.9356 - dense_2_loss_22: 0.8644 - dense_2_loss_23: 0.9540 - dense_2_loss_24: 0.9430 - dense_2_loss_25: 0.9361 - dense_2_loss_26: 0.8540 - dense_2_loss_27: 0.9534 - dense_2_loss_28: 0.9383 - dense_2_loss_29: 0.8969 - dense_2_loss_30: 0.0000e+00 - dense_2_acc_1: 0.0667 - dense_2_acc_2: 0.3333 - dense_2_acc_3: 0.4667 - dense_2_acc_4: 0.5667 - dense_2_acc_5: 0.6500 - dense_2_acc_6: 0.7667 - dense_2_acc_7: 0.8333 - dense_2_acc_8: 0.8833 - dense_2_acc_9: 0.8167 - dense_2_acc_10: 0.8833 - dense_2_acc_11: 0.8000 - dense_2_acc_12: 0.9333 - dense_2_acc_13: 0.9500 - dense_2_acc_14: 0.9000 - dense_2_acc_15: 0.8667 - dense_2_acc_16: 0.9000 - dense_2_acc_17: 0.9333 - dense_2_acc_18: 0.9000 - dense_2_acc_19: 0.9167 - dense_2_acc_20: 0.8667 - dense_2_acc_21: 0.9167 - dense_2_acc_22: 0.9500 - dense_2_acc_23: 0.8667 - dense_2_acc_24: 0.9333 - dense_2_acc_25: 0.8333 - dense_2_acc_26: 0.9333 - dense_2_acc_27: 0.9167 - dense_2_acc_28: 0.9000 - dense_2_acc_29: 0.8833 - dense_2_acc_30: 0.0333         \n",
      "Epoch 30/100\n",
      "60/60 [==============================] - 1s - loss: 32.4407 - dense_2_loss_1: 4.0241 - dense_2_loss_2: 3.0157 - dense_2_loss_3: 2.0150 - dense_2_loss_4: 1.5944 - dense_2_loss_5: 1.3130 - dense_2_loss_6: 1.1283 - dense_2_loss_7: 0.9575 - dense_2_loss_8: 0.9450 - dense_2_loss_9: 0.9442 - dense_2_loss_10: 0.8548 - dense_2_loss_11: 0.9052 - dense_2_loss_12: 0.8076 - dense_2_loss_13: 0.7056 - dense_2_loss_14: 0.7535 - dense_2_loss_15: 0.8385 - dense_2_loss_16: 0.8137 - dense_2_loss_17: 0.7299 - dense_2_loss_18: 0.8057 - dense_2_loss_19: 0.7999 - dense_2_loss_20: 0.8590 - dense_2_loss_21: 0.8521 - dense_2_loss_22: 0.8035 - dense_2_loss_23: 0.8793 - dense_2_loss_24: 0.8575 - dense_2_loss_25: 0.8817 - dense_2_loss_26: 0.7921 - dense_2_loss_27: 0.8982 - dense_2_loss_28: 0.8467 - dense_2_loss_29: 0.8192 - dense_2_loss_30: 0.0000e+00 - dense_2_acc_1: 0.0667 - dense_2_acc_2: 0.3500 - dense_2_acc_3: 0.4667 - dense_2_acc_4: 0.5500 - dense_2_acc_5: 0.6500 - dense_2_acc_6: 0.7667 - dense_2_acc_7: 0.8500 - dense_2_acc_8: 0.9000 - dense_2_acc_9: 0.8333 - dense_2_acc_10: 0.9000 - dense_2_acc_11: 0.8000 - dense_2_acc_12: 0.9167 - dense_2_acc_13: 0.9667 - dense_2_acc_14: 0.9000 - dense_2_acc_15: 0.8500 - dense_2_acc_16: 0.9000 - dense_2_acc_17: 0.9667 - dense_2_acc_18: 0.9333 - dense_2_acc_19: 0.9167 - dense_2_acc_20: 0.9167 - dense_2_acc_21: 0.9333 - dense_2_acc_22: 0.9500 - dense_2_acc_23: 0.8667 - dense_2_acc_24: 0.9333 - dense_2_acc_25: 0.8333 - dense_2_acc_26: 0.9500 - dense_2_acc_27: 0.8667 - dense_2_acc_28: 0.8833 - dense_2_acc_29: 0.9000 - dense_2_acc_30: 0.0333     \n",
      "Epoch 31/100\n"
     ]
    },
    {
     "name": "stdout",
     "output_type": "stream",
     "text": [
      "60/60 [==============================] - 1s - loss: 30.4116 - dense_2_loss_1: 4.0153 - dense_2_loss_2: 2.9632 - dense_2_loss_3: 1.9328 - dense_2_loss_4: 1.4988 - dense_2_loss_5: 1.2162 - dense_2_loss_6: 1.0520 - dense_2_loss_7: 0.8886 - dense_2_loss_8: 0.8539 - dense_2_loss_9: 0.8815 - dense_2_loss_10: 0.7941 - dense_2_loss_11: 0.8500 - dense_2_loss_12: 0.7348 - dense_2_loss_13: 0.6540 - dense_2_loss_14: 0.6716 - dense_2_loss_15: 0.7581 - dense_2_loss_16: 0.7385 - dense_2_loss_17: 0.6652 - dense_2_loss_18: 0.7237 - dense_2_loss_19: 0.7390 - dense_2_loss_20: 0.7912 - dense_2_loss_21: 0.7655 - dense_2_loss_22: 0.7390 - dense_2_loss_23: 0.8146 - dense_2_loss_24: 0.7815 - dense_2_loss_25: 0.7925 - dense_2_loss_26: 0.7349 - dense_2_loss_27: 0.8031 - dense_2_loss_28: 0.7825 - dense_2_loss_29: 0.7752 - dense_2_loss_30: 0.0000e+00 - dense_2_acc_1: 0.0667 - dense_2_acc_2: 0.3333 - dense_2_acc_3: 0.4833 - dense_2_acc_4: 0.6000 - dense_2_acc_5: 0.6500 - dense_2_acc_6: 0.8667 - dense_2_acc_7: 0.9167 - dense_2_acc_8: 0.9167 - dense_2_acc_9: 0.8333 - dense_2_acc_10: 0.9167 - dense_2_acc_11: 0.8500 - dense_2_acc_12: 0.9500 - dense_2_acc_13: 0.9667 - dense_2_acc_14: 0.9667 - dense_2_acc_15: 0.9167 - dense_2_acc_16: 0.9833 - dense_2_acc_17: 0.9833 - dense_2_acc_18: 0.9833 - dense_2_acc_19: 0.9500 - dense_2_acc_20: 0.9333 - dense_2_acc_21: 0.9833 - dense_2_acc_22: 0.9500 - dense_2_acc_23: 0.9333 - dense_2_acc_24: 0.9333 - dense_2_acc_25: 0.9167 - dense_2_acc_26: 0.9667 - dense_2_acc_27: 0.9667 - dense_2_acc_28: 0.9333 - dense_2_acc_29: 0.9000 - dense_2_acc_30: 0.0333     \n",
      "Epoch 32/100\n",
      "60/60 [==============================] - 1s - loss: 28.4772 - dense_2_loss_1: 4.0080 - dense_2_loss_2: 2.9087 - dense_2_loss_3: 1.8491 - dense_2_loss_4: 1.4075 - dense_2_loss_5: 1.1383 - dense_2_loss_6: 0.9635 - dense_2_loss_7: 0.8087 - dense_2_loss_8: 0.7827 - dense_2_loss_9: 0.8036 - dense_2_loss_10: 0.7222 - dense_2_loss_11: 0.7585 - dense_2_loss_12: 0.6543 - dense_2_loss_13: 0.5835 - dense_2_loss_14: 0.6160 - dense_2_loss_15: 0.6884 - dense_2_loss_16: 0.6695 - dense_2_loss_17: 0.6310 - dense_2_loss_18: 0.6561 - dense_2_loss_19: 0.6744 - dense_2_loss_20: 0.7350 - dense_2_loss_21: 0.7098 - dense_2_loss_22: 0.6901 - dense_2_loss_23: 0.7397 - dense_2_loss_24: 0.7206 - dense_2_loss_25: 0.7507 - dense_2_loss_26: 0.6845 - dense_2_loss_27: 0.7047 - dense_2_loss_28: 0.7091 - dense_2_loss_29: 0.7091 - dense_2_loss_30: 0.0000e+00 - dense_2_acc_1: 0.0667 - dense_2_acc_2: 0.3333 - dense_2_acc_3: 0.5167 - dense_2_acc_4: 0.6667 - dense_2_acc_5: 0.7167 - dense_2_acc_6: 0.8833 - dense_2_acc_7: 0.9500 - dense_2_acc_8: 0.9500 - dense_2_acc_9: 0.8500 - dense_2_acc_10: 0.9500 - dense_2_acc_11: 0.8833 - dense_2_acc_12: 0.9500 - dense_2_acc_13: 0.9833 - dense_2_acc_14: 0.9667 - dense_2_acc_15: 1.0000 - dense_2_acc_16: 0.9833 - dense_2_acc_17: 0.9833 - dense_2_acc_18: 1.0000 - dense_2_acc_19: 0.9833 - dense_2_acc_20: 0.9500 - dense_2_acc_21: 0.9667 - dense_2_acc_22: 0.9833 - dense_2_acc_23: 0.9667 - dense_2_acc_24: 0.9500 - dense_2_acc_25: 0.9333 - dense_2_acc_26: 0.9500 - dense_2_acc_27: 0.9833 - dense_2_acc_28: 0.9500 - dense_2_acc_29: 0.9167 - dense_2_acc_30: 0.0333     \n",
      "Epoch 33/100\n",
      "60/60 [==============================] - 1s - loss: 26.6169 - dense_2_loss_1: 4.0008 - dense_2_loss_2: 2.8534 - dense_2_loss_3: 1.7717 - dense_2_loss_4: 1.3238 - dense_2_loss_5: 1.0614 - dense_2_loss_6: 0.8765 - dense_2_loss_7: 0.7385 - dense_2_loss_8: 0.7281 - dense_2_loss_9: 0.7257 - dense_2_loss_10: 0.6561 - dense_2_loss_11: 0.6750 - dense_2_loss_12: 0.5890 - dense_2_loss_13: 0.5299 - dense_2_loss_14: 0.5525 - dense_2_loss_15: 0.6295 - dense_2_loss_16: 0.6240 - dense_2_loss_17: 0.5720 - dense_2_loss_18: 0.5957 - dense_2_loss_19: 0.6102 - dense_2_loss_20: 0.6544 - dense_2_loss_21: 0.6529 - dense_2_loss_22: 0.6367 - dense_2_loss_23: 0.6775 - dense_2_loss_24: 0.6468 - dense_2_loss_25: 0.6808 - dense_2_loss_26: 0.6152 - dense_2_loss_27: 0.6533 - dense_2_loss_28: 0.6432 - dense_2_loss_29: 0.6425 - dense_2_loss_30: 0.0000e+00 - dense_2_acc_1: 0.0667 - dense_2_acc_2: 0.3333 - dense_2_acc_3: 0.5667 - dense_2_acc_4: 0.6833 - dense_2_acc_5: 0.8167 - dense_2_acc_6: 0.8833 - dense_2_acc_7: 0.9500 - dense_2_acc_8: 0.9667 - dense_2_acc_9: 0.9000 - dense_2_acc_10: 0.9833 - dense_2_acc_11: 0.9333 - dense_2_acc_12: 0.9833 - dense_2_acc_13: 0.9667 - dense_2_acc_14: 0.9667 - dense_2_acc_15: 0.9833 - dense_2_acc_16: 0.9833 - dense_2_acc_17: 0.9833 - dense_2_acc_18: 1.0000 - dense_2_acc_19: 0.9833 - dense_2_acc_20: 0.9667 - dense_2_acc_21: 1.0000 - dense_2_acc_22: 0.9667 - dense_2_acc_23: 0.9667 - dense_2_acc_24: 0.9667 - dense_2_acc_25: 0.9667 - dense_2_acc_26: 0.9833 - dense_2_acc_27: 0.9667 - dense_2_acc_28: 0.9500 - dense_2_acc_29: 0.9167 - dense_2_acc_30: 0.0333     \n",
      "Epoch 34/100\n",
      "60/60 [==============================] - 1s - loss: 24.9139 - dense_2_loss_1: 3.9930 - dense_2_loss_2: 2.8025 - dense_2_loss_3: 1.6956 - dense_2_loss_4: 1.2415 - dense_2_loss_5: 0.9754 - dense_2_loss_6: 0.8167 - dense_2_loss_7: 0.6803 - dense_2_loss_8: 0.6511 - dense_2_loss_9: 0.6760 - dense_2_loss_10: 0.5866 - dense_2_loss_11: 0.6167 - dense_2_loss_12: 0.5442 - dense_2_loss_13: 0.4773 - dense_2_loss_14: 0.5021 - dense_2_loss_15: 0.5604 - dense_2_loss_16: 0.5736 - dense_2_loss_17: 0.5159 - dense_2_loss_18: 0.5382 - dense_2_loss_19: 0.5579 - dense_2_loss_20: 0.5822 - dense_2_loss_21: 0.5891 - dense_2_loss_22: 0.5704 - dense_2_loss_23: 0.6262 - dense_2_loss_24: 0.5996 - dense_2_loss_25: 0.6088 - dense_2_loss_26: 0.5606 - dense_2_loss_27: 0.5857 - dense_2_loss_28: 0.5854 - dense_2_loss_29: 0.6008 - dense_2_loss_30: 0.0000e+00 - dense_2_acc_1: 0.0667 - dense_2_acc_2: 0.3333 - dense_2_acc_3: 0.6000 - dense_2_acc_4: 0.7000 - dense_2_acc_5: 0.8167 - dense_2_acc_6: 0.9000 - dense_2_acc_7: 0.9667 - dense_2_acc_8: 0.9667 - dense_2_acc_9: 0.9167 - dense_2_acc_10: 1.0000 - dense_2_acc_11: 0.9500 - dense_2_acc_12: 0.9833 - dense_2_acc_13: 0.9833 - dense_2_acc_14: 0.9833 - dense_2_acc_15: 1.0000 - dense_2_acc_16: 1.0000 - dense_2_acc_17: 1.0000 - dense_2_acc_18: 1.0000 - dense_2_acc_19: 0.9833 - dense_2_acc_20: 0.9667 - dense_2_acc_21: 1.0000 - dense_2_acc_22: 0.9833 - dense_2_acc_23: 0.9500 - dense_2_acc_24: 0.9667 - dense_2_acc_25: 0.9833 - dense_2_acc_26: 0.9833 - dense_2_acc_27: 1.0000 - dense_2_acc_28: 0.9500 - dense_2_acc_29: 0.9167 - dense_2_acc_30: 0.0333     \n",
      "Epoch 35/100\n",
      "60/60 [==============================] - 1s - loss: 23.4041 - dense_2_loss_1: 3.9855 - dense_2_loss_2: 2.7480 - dense_2_loss_3: 1.6195 - dense_2_loss_4: 1.1599 - dense_2_loss_5: 0.9055 - dense_2_loss_6: 0.7547 - dense_2_loss_7: 0.6233 - dense_2_loss_8: 0.5872 - dense_2_loss_9: 0.6316 - dense_2_loss_10: 0.5280 - dense_2_loss_11: 0.5576 - dense_2_loss_12: 0.5023 - dense_2_loss_13: 0.4295 - dense_2_loss_14: 0.4503 - dense_2_loss_15: 0.5190 - dense_2_loss_16: 0.5114 - dense_2_loss_17: 0.4794 - dense_2_loss_18: 0.4976 - dense_2_loss_19: 0.5039 - dense_2_loss_20: 0.5528 - dense_2_loss_21: 0.5437 - dense_2_loss_22: 0.5191 - dense_2_loss_23: 0.5722 - dense_2_loss_24: 0.5475 - dense_2_loss_25: 0.5634 - dense_2_loss_26: 0.5280 - dense_2_loss_27: 0.5242 - dense_2_loss_28: 0.5202 - dense_2_loss_29: 0.5388 - dense_2_loss_30: 0.0000e+00 - dense_2_acc_1: 0.0667 - dense_2_acc_2: 0.3333 - dense_2_acc_3: 0.6333 - dense_2_acc_4: 0.7000 - dense_2_acc_5: 0.8500 - dense_2_acc_6: 0.9167 - dense_2_acc_7: 0.9667 - dense_2_acc_8: 0.9667 - dense_2_acc_9: 0.9167 - dense_2_acc_10: 0.9833 - dense_2_acc_11: 0.9833 - dense_2_acc_12: 1.0000 - dense_2_acc_13: 0.9833 - dense_2_acc_14: 0.9833 - dense_2_acc_15: 1.0000 - dense_2_acc_16: 1.0000 - dense_2_acc_17: 1.0000 - dense_2_acc_18: 1.0000 - dense_2_acc_19: 1.0000 - dense_2_acc_20: 0.9667 - dense_2_acc_21: 1.0000 - dense_2_acc_22: 1.0000 - dense_2_acc_23: 1.0000 - dense_2_acc_24: 0.9833 - dense_2_acc_25: 0.9833 - dense_2_acc_26: 0.9833 - dense_2_acc_27: 1.0000 - dense_2_acc_28: 0.9667 - dense_2_acc_29: 0.9333 - dense_2_acc_30: 0.0333     \n",
      "Epoch 36/100\n",
      "60/60 [==============================] - 1s - loss: 21.8712 - dense_2_loss_1: 3.9792 - dense_2_loss_2: 2.6973 - dense_2_loss_3: 1.5517 - dense_2_loss_4: 1.0834 - dense_2_loss_5: 0.8342 - dense_2_loss_6: 0.6853 - dense_2_loss_7: 0.5685 - dense_2_loss_8: 0.5322 - dense_2_loss_9: 0.5668 - dense_2_loss_10: 0.4818 - dense_2_loss_11: 0.5040 - dense_2_loss_12: 0.4462 - dense_2_loss_13: 0.3882 - dense_2_loss_14: 0.3970 - dense_2_loss_15: 0.4677 - dense_2_loss_16: 0.4528 - dense_2_loss_17: 0.4289 - dense_2_loss_18: 0.4429 - dense_2_loss_19: 0.4548 - dense_2_loss_20: 0.4994 - dense_2_loss_21: 0.4879 - dense_2_loss_22: 0.4747 - dense_2_loss_23: 0.5164 - dense_2_loss_24: 0.4967 - dense_2_loss_25: 0.5144 - dense_2_loss_26: 0.4578 - dense_2_loss_27: 0.4872 - dense_2_loss_28: 0.4848 - dense_2_loss_29: 0.4890 - dense_2_loss_30: 0.0000e+00 - dense_2_acc_1: 0.0667 - dense_2_acc_2: 0.3333 - dense_2_acc_3: 0.6500 - dense_2_acc_4: 0.7333 - dense_2_acc_5: 0.9000 - dense_2_acc_6: 0.9333 - dense_2_acc_7: 0.9667 - dense_2_acc_8: 0.9833 - dense_2_acc_9: 0.9333 - dense_2_acc_10: 1.0000 - dense_2_acc_11: 1.0000 - dense_2_acc_12: 1.0000 - dense_2_acc_13: 1.0000 - dense_2_acc_14: 0.9833 - dense_2_acc_15: 1.0000 - dense_2_acc_16: 1.0000 - dense_2_acc_17: 1.0000 - dense_2_acc_18: 1.0000 - dense_2_acc_19: 1.0000 - dense_2_acc_20: 0.9667 - dense_2_acc_21: 1.0000 - dense_2_acc_22: 1.0000 - dense_2_acc_23: 0.9833 - dense_2_acc_24: 0.9833 - dense_2_acc_25: 0.9833 - dense_2_acc_26: 0.9833 - dense_2_acc_27: 1.0000 - dense_2_acc_28: 0.9667 - dense_2_acc_29: 0.9500 - dense_2_acc_30: 0.0333     \n",
      "Epoch 37/100\n",
      "60/60 [==============================] - 1s - loss: 20.5757 - dense_2_loss_1: 3.9726 - dense_2_loss_2: 2.6456 - dense_2_loss_3: 1.4827 - dense_2_loss_4: 1.0127 - dense_2_loss_5: 0.7700 - dense_2_loss_6: 0.6326 - dense_2_loss_7: 0.5237 - dense_2_loss_8: 0.4793 - dense_2_loss_9: 0.5189 - dense_2_loss_10: 0.4353 - dense_2_loss_11: 0.4587 - dense_2_loss_12: 0.4074 - dense_2_loss_13: 0.3534 - dense_2_loss_14: 0.3682 - dense_2_loss_15: 0.4235 - dense_2_loss_16: 0.4081 - dense_2_loss_17: 0.3860 - dense_2_loss_18: 0.4051 - dense_2_loss_19: 0.4217 - dense_2_loss_20: 0.4391 - dense_2_loss_21: 0.4369 - dense_2_loss_22: 0.4308 - dense_2_loss_23: 0.4586 - dense_2_loss_24: 0.4497 - dense_2_loss_25: 0.4687 - dense_2_loss_26: 0.4200 - dense_2_loss_27: 0.4504 - dense_2_loss_28: 0.4629 - dense_2_loss_29: 0.4528 - dense_2_loss_30: 0.0000e+00 - dense_2_acc_1: 0.0667 - dense_2_acc_2: 0.3500 - dense_2_acc_3: 0.6833 - dense_2_acc_4: 0.7333 - dense_2_acc_5: 0.9000 - dense_2_acc_6: 0.9500 - dense_2_acc_7: 0.9667 - dense_2_acc_8: 0.9833 - dense_2_acc_9: 0.9667 - dense_2_acc_10: 1.0000 - dense_2_acc_11: 1.0000 - dense_2_acc_12: 1.0000 - dense_2_acc_13: 1.0000 - dense_2_acc_14: 0.9833 - dense_2_acc_15: 1.0000 - dense_2_acc_16: 1.0000 - dense_2_acc_17: 1.0000 - dense_2_acc_18: 1.0000 - dense_2_acc_19: 1.0000 - dense_2_acc_20: 0.9667 - dense_2_acc_21: 1.0000 - dense_2_acc_22: 1.0000 - dense_2_acc_23: 1.0000 - dense_2_acc_24: 1.0000 - dense_2_acc_25: 0.9833 - dense_2_acc_26: 0.9833 - dense_2_acc_27: 1.0000 - dense_2_acc_28: 0.9667 - dense_2_acc_29: 0.9500 - dense_2_acc_30: 0.0333     \n",
      "Epoch 38/100\n",
      "60/60 [==============================] - 1s - loss: 19.3348 - dense_2_loss_1: 3.9663 - dense_2_loss_2: 2.5955 - dense_2_loss_3: 1.4194 - dense_2_loss_4: 0.9462 - dense_2_loss_5: 0.7062 - dense_2_loss_6: 0.5842 - dense_2_loss_7: 0.4781 - dense_2_loss_8: 0.4322 - dense_2_loss_9: 0.4746 - dense_2_loss_10: 0.3928 - dense_2_loss_11: 0.4042 - dense_2_loss_12: 0.3662 - dense_2_loss_13: 0.3217 - dense_2_loss_14: 0.3516 - dense_2_loss_15: 0.3754 - dense_2_loss_16: 0.3746 - dense_2_loss_17: 0.3595 - dense_2_loss_18: 0.3778 - dense_2_loss_19: 0.3783 - dense_2_loss_20: 0.4061 - dense_2_loss_21: 0.4005 - dense_2_loss_22: 0.4006 - dense_2_loss_23: 0.4071 - dense_2_loss_24: 0.4077 - dense_2_loss_25: 0.4311 - dense_2_loss_26: 0.3861 - dense_2_loss_27: 0.3906 - dense_2_loss_28: 0.3978 - dense_2_loss_29: 0.4026 - dense_2_loss_30: 0.0000e+00 - dense_2_acc_1: 0.0667 - dense_2_acc_2: 0.4167 - dense_2_acc_3: 0.7333 - dense_2_acc_4: 0.7500 - dense_2_acc_5: 0.9000 - dense_2_acc_6: 0.9833 - dense_2_acc_7: 0.9833 - dense_2_acc_8: 1.0000 - dense_2_acc_9: 0.9667 - dense_2_acc_10: 1.0000 - dense_2_acc_11: 1.0000 - dense_2_acc_12: 1.0000 - dense_2_acc_13: 1.0000 - dense_2_acc_14: 0.9833 - dense_2_acc_15: 1.0000 - dense_2_acc_16: 1.0000 - dense_2_acc_17: 1.0000 - dense_2_acc_18: 1.0000 - dense_2_acc_19: 1.0000 - dense_2_acc_20: 0.9667 - dense_2_acc_21: 1.0000 - dense_2_acc_22: 1.0000 - dense_2_acc_23: 1.0000 - dense_2_acc_24: 1.0000 - dense_2_acc_25: 1.0000 - dense_2_acc_26: 0.9833 - dense_2_acc_27: 1.0000 - dense_2_acc_28: 0.9833 - dense_2_acc_29: 0.9667 - dense_2_acc_30: 0.0333         \n",
      "Epoch 39/100\n",
      "60/60 [==============================] - 1s - loss: 18.2005 - dense_2_loss_1: 3.9606 - dense_2_loss_2: 2.5459 - dense_2_loss_3: 1.3567 - dense_2_loss_4: 0.8808 - dense_2_loss_5: 0.6483 - dense_2_loss_6: 0.5326 - dense_2_loss_7: 0.4397 - dense_2_loss_8: 0.3889 - dense_2_loss_9: 0.4374 - dense_2_loss_10: 0.3513 - dense_2_loss_11: 0.3703 - dense_2_loss_12: 0.3310 - dense_2_loss_13: 0.2913 - dense_2_loss_14: 0.3046 - dense_2_loss_15: 0.3373 - dense_2_loss_16: 0.3340 - dense_2_loss_17: 0.3267 - dense_2_loss_18: 0.3432 - dense_2_loss_19: 0.3369 - dense_2_loss_20: 0.3663 - dense_2_loss_21: 0.3632 - dense_2_loss_22: 0.3595 - dense_2_loss_23: 0.3775 - dense_2_loss_24: 0.3747 - dense_2_loss_25: 0.3841 - dense_2_loss_26: 0.3496 - dense_2_loss_27: 0.3628 - dense_2_loss_28: 0.3724 - dense_2_loss_29: 0.3732 - dense_2_loss_30: 0.0000e+00 - dense_2_acc_1: 0.0667 - dense_2_acc_2: 0.4167 - dense_2_acc_3: 0.7500 - dense_2_acc_4: 0.7667 - dense_2_acc_5: 0.9500 - dense_2_acc_6: 0.9833 - dense_2_acc_7: 0.9833 - dense_2_acc_8: 1.0000 - dense_2_acc_9: 0.9667 - dense_2_acc_10: 1.0000 - dense_2_acc_11: 1.0000 - dense_2_acc_12: 1.0000 - dense_2_acc_13: 1.0000 - dense_2_acc_14: 1.0000 - dense_2_acc_15: 1.0000 - dense_2_acc_16: 1.0000 - dense_2_acc_17: 1.0000 - dense_2_acc_18: 1.0000 - dense_2_acc_19: 1.0000 - dense_2_acc_20: 0.9833 - dense_2_acc_21: 1.0000 - dense_2_acc_22: 1.0000 - dense_2_acc_23: 1.0000 - dense_2_acc_24: 1.0000 - dense_2_acc_25: 1.0000 - dense_2_acc_26: 0.9833 - dense_2_acc_27: 1.0000 - dense_2_acc_28: 0.9833 - dense_2_acc_29: 0.9667 - dense_2_acc_30: 0.0333     \n",
      "Epoch 40/100\n",
      "60/60 [==============================] - 1s - loss: 17.1737 - dense_2_loss_1: 3.9546 - dense_2_loss_2: 2.4973 - dense_2_loss_3: 1.3005 - dense_2_loss_4: 0.8182 - dense_2_loss_5: 0.5976 - dense_2_loss_6: 0.4871 - dense_2_loss_7: 0.3982 - dense_2_loss_8: 0.3507 - dense_2_loss_9: 0.4001 - dense_2_loss_10: 0.3156 - dense_2_loss_11: 0.3381 - dense_2_loss_12: 0.3013 - dense_2_loss_13: 0.2624 - dense_2_loss_14: 0.2693 - dense_2_loss_15: 0.3074 - dense_2_loss_16: 0.3076 - dense_2_loss_17: 0.2956 - dense_2_loss_18: 0.3055 - dense_2_loss_19: 0.3122 - dense_2_loss_20: 0.3317 - dense_2_loss_21: 0.3316 - dense_2_loss_22: 0.3217 - dense_2_loss_23: 0.3413 - dense_2_loss_24: 0.3450 - dense_2_loss_25: 0.3481 - dense_2_loss_26: 0.3158 - dense_2_loss_27: 0.3354 - dense_2_loss_28: 0.3423 - dense_2_loss_29: 0.3416 - dense_2_loss_30: 0.0000e+00 - dense_2_acc_1: 0.0667 - dense_2_acc_2: 0.4500 - dense_2_acc_3: 0.7500 - dense_2_acc_4: 0.8167 - dense_2_acc_5: 0.9667 - dense_2_acc_6: 0.9833 - dense_2_acc_7: 0.9833 - dense_2_acc_8: 1.0000 - dense_2_acc_9: 0.9833 - dense_2_acc_10: 1.0000 - dense_2_acc_11: 1.0000 - dense_2_acc_12: 1.0000 - dense_2_acc_13: 1.0000 - dense_2_acc_14: 1.0000 - dense_2_acc_15: 1.0000 - dense_2_acc_16: 1.0000 - dense_2_acc_17: 1.0000 - dense_2_acc_18: 1.0000 - dense_2_acc_19: 1.0000 - dense_2_acc_20: 1.0000 - dense_2_acc_21: 1.0000 - dense_2_acc_22: 1.0000 - dense_2_acc_23: 1.0000 - dense_2_acc_24: 1.0000 - dense_2_acc_25: 1.0000 - dense_2_acc_26: 0.9833 - dense_2_acc_27: 1.0000 - dense_2_acc_28: 0.9833 - dense_2_acc_29: 0.9667 - dense_2_acc_30: 0.0333         \n",
      "Epoch 41/100\n"
     ]
    },
    {
     "name": "stdout",
     "output_type": "stream",
     "text": [
      "60/60 [==============================] - 1s - loss: 16.2541 - dense_2_loss_1: 3.9491 - dense_2_loss_2: 2.4483 - dense_2_loss_3: 1.2450 - dense_2_loss_4: 0.7614 - dense_2_loss_5: 0.5567 - dense_2_loss_6: 0.4548 - dense_2_loss_7: 0.3678 - dense_2_loss_8: 0.3215 - dense_2_loss_9: 0.3660 - dense_2_loss_10: 0.2900 - dense_2_loss_11: 0.3022 - dense_2_loss_12: 0.2755 - dense_2_loss_13: 0.2394 - dense_2_loss_14: 0.2556 - dense_2_loss_15: 0.2770 - dense_2_loss_16: 0.2856 - dense_2_loss_17: 0.2655 - dense_2_loss_18: 0.2865 - dense_2_loss_19: 0.2803 - dense_2_loss_20: 0.3042 - dense_2_loss_21: 0.3020 - dense_2_loss_22: 0.2953 - dense_2_loss_23: 0.3036 - dense_2_loss_24: 0.3086 - dense_2_loss_25: 0.3230 - dense_2_loss_26: 0.2879 - dense_2_loss_27: 0.2980 - dense_2_loss_28: 0.2942 - dense_2_loss_29: 0.3090 - dense_2_loss_30: 0.0000e+00 - dense_2_acc_1: 0.0667 - dense_2_acc_2: 0.4500 - dense_2_acc_3: 0.7500 - dense_2_acc_4: 0.8333 - dense_2_acc_5: 0.9667 - dense_2_acc_6: 0.9833 - dense_2_acc_7: 0.9833 - dense_2_acc_8: 1.0000 - dense_2_acc_9: 0.9833 - dense_2_acc_10: 1.0000 - dense_2_acc_11: 1.0000 - dense_2_acc_12: 1.0000 - dense_2_acc_13: 1.0000 - dense_2_acc_14: 1.0000 - dense_2_acc_15: 1.0000 - dense_2_acc_16: 1.0000 - dense_2_acc_17: 1.0000 - dense_2_acc_18: 1.0000 - dense_2_acc_19: 1.0000 - dense_2_acc_20: 1.0000 - dense_2_acc_21: 1.0000 - dense_2_acc_22: 1.0000 - dense_2_acc_23: 1.0000 - dense_2_acc_24: 1.0000 - dense_2_acc_25: 1.0000 - dense_2_acc_26: 1.0000 - dense_2_acc_27: 1.0000 - dense_2_acc_28: 0.9833 - dense_2_acc_29: 0.9833 - dense_2_acc_30: 0.0333     \n",
      "Epoch 42/100\n",
      "60/60 [==============================] - 1s - loss: 15.3751 - dense_2_loss_1: 3.9426 - dense_2_loss_2: 2.4032 - dense_2_loss_3: 1.1925 - dense_2_loss_4: 0.7079 - dense_2_loss_5: 0.5159 - dense_2_loss_6: 0.4160 - dense_2_loss_7: 0.3385 - dense_2_loss_8: 0.2925 - dense_2_loss_9: 0.3352 - dense_2_loss_10: 0.2644 - dense_2_loss_11: 0.2762 - dense_2_loss_12: 0.2494 - dense_2_loss_13: 0.2138 - dense_2_loss_14: 0.2286 - dense_2_loss_15: 0.2506 - dense_2_loss_16: 0.2505 - dense_2_loss_17: 0.2423 - dense_2_loss_18: 0.2604 - dense_2_loss_19: 0.2529 - dense_2_loss_20: 0.2718 - dense_2_loss_21: 0.2702 - dense_2_loss_22: 0.2714 - dense_2_loss_23: 0.2797 - dense_2_loss_24: 0.2801 - dense_2_loss_25: 0.2899 - dense_2_loss_26: 0.2544 - dense_2_loss_27: 0.2723 - dense_2_loss_28: 0.2739 - dense_2_loss_29: 0.2782 - dense_2_loss_30: 0.0000e+00 - dense_2_acc_1: 0.0667 - dense_2_acc_2: 0.4500 - dense_2_acc_3: 0.7833 - dense_2_acc_4: 0.8500 - dense_2_acc_5: 0.9833 - dense_2_acc_6: 0.9833 - dense_2_acc_7: 0.9833 - dense_2_acc_8: 1.0000 - dense_2_acc_9: 0.9833 - dense_2_acc_10: 1.0000 - dense_2_acc_11: 1.0000 - dense_2_acc_12: 1.0000 - dense_2_acc_13: 1.0000 - dense_2_acc_14: 1.0000 - dense_2_acc_15: 1.0000 - dense_2_acc_16: 1.0000 - dense_2_acc_17: 1.0000 - dense_2_acc_18: 1.0000 - dense_2_acc_19: 1.0000 - dense_2_acc_20: 1.0000 - dense_2_acc_21: 1.0000 - dense_2_acc_22: 1.0000 - dense_2_acc_23: 1.0000 - dense_2_acc_24: 1.0000 - dense_2_acc_25: 1.0000 - dense_2_acc_26: 1.0000 - dense_2_acc_27: 1.0000 - dense_2_acc_28: 0.9833 - dense_2_acc_29: 1.0000 - dense_2_acc_30: 0.0333     \n",
      "Epoch 43/100\n",
      "60/60 [==============================] - 1s - loss: 14.6368 - dense_2_loss_1: 3.9373 - dense_2_loss_2: 2.3560 - dense_2_loss_3: 1.1428 - dense_2_loss_4: 0.6594 - dense_2_loss_5: 0.4759 - dense_2_loss_6: 0.3857 - dense_2_loss_7: 0.3079 - dense_2_loss_8: 0.2684 - dense_2_loss_9: 0.3097 - dense_2_loss_10: 0.2402 - dense_2_loss_11: 0.2618 - dense_2_loss_12: 0.2255 - dense_2_loss_13: 0.1965 - dense_2_loss_14: 0.2013 - dense_2_loss_15: 0.2340 - dense_2_loss_16: 0.2266 - dense_2_loss_17: 0.2209 - dense_2_loss_18: 0.2335 - dense_2_loss_19: 0.2384 - dense_2_loss_20: 0.2477 - dense_2_loss_21: 0.2435 - dense_2_loss_22: 0.2459 - dense_2_loss_23: 0.2570 - dense_2_loss_24: 0.2550 - dense_2_loss_25: 0.2657 - dense_2_loss_26: 0.2259 - dense_2_loss_27: 0.2542 - dense_2_loss_28: 0.2553 - dense_2_loss_29: 0.2645 - dense_2_loss_30: 0.0000e+00 - dense_2_acc_1: 0.0667 - dense_2_acc_2: 0.4500 - dense_2_acc_3: 0.8000 - dense_2_acc_4: 0.8667 - dense_2_acc_5: 0.9833 - dense_2_acc_6: 0.9833 - dense_2_acc_7: 0.9833 - dense_2_acc_8: 1.0000 - dense_2_acc_9: 0.9833 - dense_2_acc_10: 1.0000 - dense_2_acc_11: 1.0000 - dense_2_acc_12: 1.0000 - dense_2_acc_13: 1.0000 - dense_2_acc_14: 1.0000 - dense_2_acc_15: 1.0000 - dense_2_acc_16: 1.0000 - dense_2_acc_17: 1.0000 - dense_2_acc_18: 1.0000 - dense_2_acc_19: 1.0000 - dense_2_acc_20: 1.0000 - dense_2_acc_21: 1.0000 - dense_2_acc_22: 1.0000 - dense_2_acc_23: 1.0000 - dense_2_acc_24: 1.0000 - dense_2_acc_25: 1.0000 - dense_2_acc_26: 1.0000 - dense_2_acc_27: 1.0000 - dense_2_acc_28: 0.9833 - dense_2_acc_29: 1.0000 - dense_2_acc_30: 0.0333     \n",
      "Epoch 44/100\n",
      "60/60 [==============================] - 1s - loss: 13.9106 - dense_2_loss_1: 3.9313 - dense_2_loss_2: 2.3114 - dense_2_loss_3: 1.0974 - dense_2_loss_4: 0.6125 - dense_2_loss_5: 0.4408 - dense_2_loss_6: 0.3582 - dense_2_loss_7: 0.2799 - dense_2_loss_8: 0.2475 - dense_2_loss_9: 0.2798 - dense_2_loss_10: 0.2195 - dense_2_loss_11: 0.2275 - dense_2_loss_12: 0.2041 - dense_2_loss_13: 0.1756 - dense_2_loss_14: 0.1927 - dense_2_loss_15: 0.2107 - dense_2_loss_16: 0.2097 - dense_2_loss_17: 0.2038 - dense_2_loss_18: 0.2108 - dense_2_loss_19: 0.2141 - dense_2_loss_20: 0.2267 - dense_2_loss_21: 0.2207 - dense_2_loss_22: 0.2218 - dense_2_loss_23: 0.2315 - dense_2_loss_24: 0.2316 - dense_2_loss_25: 0.2432 - dense_2_loss_26: 0.2082 - dense_2_loss_27: 0.2303 - dense_2_loss_28: 0.2335 - dense_2_loss_29: 0.2356 - dense_2_loss_30: 0.0000e+00 - dense_2_acc_1: 0.0667 - dense_2_acc_2: 0.4500 - dense_2_acc_3: 0.8000 - dense_2_acc_4: 0.8833 - dense_2_acc_5: 0.9833 - dense_2_acc_6: 0.9833 - dense_2_acc_7: 0.9833 - dense_2_acc_8: 1.0000 - dense_2_acc_9: 0.9833 - dense_2_acc_10: 1.0000 - dense_2_acc_11: 1.0000 - dense_2_acc_12: 1.0000 - dense_2_acc_13: 1.0000 - dense_2_acc_14: 1.0000 - dense_2_acc_15: 1.0000 - dense_2_acc_16: 1.0000 - dense_2_acc_17: 1.0000 - dense_2_acc_18: 1.0000 - dense_2_acc_19: 1.0000 - dense_2_acc_20: 1.0000 - dense_2_acc_21: 1.0000 - dense_2_acc_22: 1.0000 - dense_2_acc_23: 1.0000 - dense_2_acc_24: 1.0000 - dense_2_acc_25: 1.0000 - dense_2_acc_26: 1.0000 - dense_2_acc_27: 1.0000 - dense_2_acc_28: 1.0000 - dense_2_acc_29: 1.0000 - dense_2_acc_30: 0.0333         \n",
      "Epoch 45/100\n",
      "60/60 [==============================] - 1s - loss: 13.2922 - dense_2_loss_1: 3.9272 - dense_2_loss_2: 2.2682 - dense_2_loss_3: 1.0540 - dense_2_loss_4: 0.5716 - dense_2_loss_5: 0.4075 - dense_2_loss_6: 0.3315 - dense_2_loss_7: 0.2567 - dense_2_loss_8: 0.2266 - dense_2_loss_9: 0.2566 - dense_2_loss_10: 0.2015 - dense_2_loss_11: 0.2011 - dense_2_loss_12: 0.1876 - dense_2_loss_13: 0.1612 - dense_2_loss_14: 0.1834 - dense_2_loss_15: 0.1899 - dense_2_loss_16: 0.1967 - dense_2_loss_17: 0.1898 - dense_2_loss_18: 0.1950 - dense_2_loss_19: 0.1918 - dense_2_loss_20: 0.2109 - dense_2_loss_21: 0.2057 - dense_2_loss_22: 0.2017 - dense_2_loss_23: 0.2106 - dense_2_loss_24: 0.2123 - dense_2_loss_25: 0.2264 - dense_2_loss_26: 0.1923 - dense_2_loss_27: 0.2087 - dense_2_loss_28: 0.2124 - dense_2_loss_29: 0.2132 - dense_2_loss_30: 0.0000e+00 - dense_2_acc_1: 0.0667 - dense_2_acc_2: 0.4500 - dense_2_acc_3: 0.8000 - dense_2_acc_4: 0.9000 - dense_2_acc_5: 0.9833 - dense_2_acc_6: 0.9833 - dense_2_acc_7: 0.9833 - dense_2_acc_8: 1.0000 - dense_2_acc_9: 0.9833 - dense_2_acc_10: 1.0000 - dense_2_acc_11: 1.0000 - dense_2_acc_12: 1.0000 - dense_2_acc_13: 1.0000 - dense_2_acc_14: 1.0000 - dense_2_acc_15: 1.0000 - dense_2_acc_16: 1.0000 - dense_2_acc_17: 1.0000 - dense_2_acc_18: 1.0000 - dense_2_acc_19: 1.0000 - dense_2_acc_20: 1.0000 - dense_2_acc_21: 1.0000 - dense_2_acc_22: 1.0000 - dense_2_acc_23: 1.0000 - dense_2_acc_24: 1.0000 - dense_2_acc_25: 1.0000 - dense_2_acc_26: 1.0000 - dense_2_acc_27: 1.0000 - dense_2_acc_28: 1.0000 - dense_2_acc_29: 1.0000 - dense_2_acc_30: 0.0333     \n",
      "Epoch 46/100\n",
      "60/60 [==============================] - 1s - loss: 12.7182 - dense_2_loss_1: 3.9213 - dense_2_loss_2: 2.2259 - dense_2_loss_3: 1.0168 - dense_2_loss_4: 0.5334 - dense_2_loss_5: 0.3785 - dense_2_loss_6: 0.3076 - dense_2_loss_7: 0.2373 - dense_2_loss_8: 0.2089 - dense_2_loss_9: 0.2395 - dense_2_loss_10: 0.1807 - dense_2_loss_11: 0.1918 - dense_2_loss_12: 0.1734 - dense_2_loss_13: 0.1491 - dense_2_loss_14: 0.1601 - dense_2_loss_15: 0.1766 - dense_2_loss_16: 0.1765 - dense_2_loss_17: 0.1702 - dense_2_loss_18: 0.1771 - dense_2_loss_19: 0.1769 - dense_2_loss_20: 0.1934 - dense_2_loss_21: 0.1864 - dense_2_loss_22: 0.1819 - dense_2_loss_23: 0.1940 - dense_2_loss_24: 0.1928 - dense_2_loss_25: 0.2065 - dense_2_loss_26: 0.1730 - dense_2_loss_27: 0.1902 - dense_2_loss_28: 0.1972 - dense_2_loss_29: 0.2011 - dense_2_loss_30: 0.0000e+00 - dense_2_acc_1: 0.0667 - dense_2_acc_2: 0.4500 - dense_2_acc_3: 0.8000 - dense_2_acc_4: 0.9000 - dense_2_acc_5: 0.9833 - dense_2_acc_6: 0.9833 - dense_2_acc_7: 0.9833 - dense_2_acc_8: 1.0000 - dense_2_acc_9: 0.9833 - dense_2_acc_10: 1.0000 - dense_2_acc_11: 1.0000 - dense_2_acc_12: 1.0000 - dense_2_acc_13: 1.0000 - dense_2_acc_14: 1.0000 - dense_2_acc_15: 1.0000 - dense_2_acc_16: 1.0000 - dense_2_acc_17: 1.0000 - dense_2_acc_18: 1.0000 - dense_2_acc_19: 1.0000 - dense_2_acc_20: 1.0000 - dense_2_acc_21: 1.0000 - dense_2_acc_22: 1.0000 - dense_2_acc_23: 1.0000 - dense_2_acc_24: 1.0000 - dense_2_acc_25: 1.0000 - dense_2_acc_26: 1.0000 - dense_2_acc_27: 1.0000 - dense_2_acc_28: 1.0000 - dense_2_acc_29: 1.0000 - dense_2_acc_30: 0.0333     \n",
      "Epoch 47/100\n",
      "60/60 [==============================] - 1s - loss: 12.2050 - dense_2_loss_1: 3.9163 - dense_2_loss_2: 2.1853 - dense_2_loss_3: 0.9797 - dense_2_loss_4: 0.4985 - dense_2_loss_5: 0.3533 - dense_2_loss_6: 0.2834 - dense_2_loss_7: 0.2183 - dense_2_loss_8: 0.1923 - dense_2_loss_9: 0.2212 - dense_2_loss_10: 0.1674 - dense_2_loss_11: 0.1766 - dense_2_loss_12: 0.1582 - dense_2_loss_13: 0.1388 - dense_2_loss_14: 0.1417 - dense_2_loss_15: 0.1636 - dense_2_loss_16: 0.1604 - dense_2_loss_17: 0.1570 - dense_2_loss_18: 0.1632 - dense_2_loss_19: 0.1636 - dense_2_loss_20: 0.1765 - dense_2_loss_21: 0.1714 - dense_2_loss_22: 0.1700 - dense_2_loss_23: 0.1792 - dense_2_loss_24: 0.1753 - dense_2_loss_25: 0.1899 - dense_2_loss_26: 0.1553 - dense_2_loss_27: 0.1791 - dense_2_loss_28: 0.1827 - dense_2_loss_29: 0.1869 - dense_2_loss_30: 0.0000e+00 - dense_2_acc_1: 0.0667 - dense_2_acc_2: 0.4500 - dense_2_acc_3: 0.8000 - dense_2_acc_4: 0.9000 - dense_2_acc_5: 0.9833 - dense_2_acc_6: 0.9833 - dense_2_acc_7: 1.0000 - dense_2_acc_8: 1.0000 - dense_2_acc_9: 0.9833 - dense_2_acc_10: 1.0000 - dense_2_acc_11: 1.0000 - dense_2_acc_12: 1.0000 - dense_2_acc_13: 1.0000 - dense_2_acc_14: 1.0000 - dense_2_acc_15: 1.0000 - dense_2_acc_16: 1.0000 - dense_2_acc_17: 1.0000 - dense_2_acc_18: 1.0000 - dense_2_acc_19: 1.0000 - dense_2_acc_20: 1.0000 - dense_2_acc_21: 1.0000 - dense_2_acc_22: 1.0000 - dense_2_acc_23: 1.0000 - dense_2_acc_24: 1.0000 - dense_2_acc_25: 1.0000 - dense_2_acc_26: 1.0000 - dense_2_acc_27: 1.0000 - dense_2_acc_28: 1.0000 - dense_2_acc_29: 1.0000 - dense_2_acc_30: 0.0333     \n",
      "Epoch 48/100\n",
      "60/60 [==============================] - 1s - loss: 11.7225 - dense_2_loss_1: 3.9115 - dense_2_loss_2: 2.1455 - dense_2_loss_3: 0.9455 - dense_2_loss_4: 0.4649 - dense_2_loss_5: 0.3297 - dense_2_loss_6: 0.2638 - dense_2_loss_7: 0.2011 - dense_2_loss_8: 0.1791 - dense_2_loss_9: 0.2004 - dense_2_loss_10: 0.1558 - dense_2_loss_11: 0.1563 - dense_2_loss_12: 0.1446 - dense_2_loss_13: 0.1257 - dense_2_loss_14: 0.1360 - dense_2_loss_15: 0.1487 - dense_2_loss_16: 0.1473 - dense_2_loss_17: 0.1458 - dense_2_loss_18: 0.1548 - dense_2_loss_19: 0.1447 - dense_2_loss_20: 0.1612 - dense_2_loss_21: 0.1598 - dense_2_loss_22: 0.1611 - dense_2_loss_23: 0.1619 - dense_2_loss_24: 0.1586 - dense_2_loss_25: 0.1763 - dense_2_loss_26: 0.1440 - dense_2_loss_27: 0.1655 - dense_2_loss_28: 0.1646 - dense_2_loss_29: 0.1683 - dense_2_loss_30: 0.0000e+00 - dense_2_acc_1: 0.0667 - dense_2_acc_2: 0.4500 - dense_2_acc_3: 0.8000 - dense_2_acc_4: 0.9167 - dense_2_acc_5: 0.9833 - dense_2_acc_6: 0.9833 - dense_2_acc_7: 1.0000 - dense_2_acc_8: 1.0000 - dense_2_acc_9: 0.9833 - dense_2_acc_10: 1.0000 - dense_2_acc_11: 1.0000 - dense_2_acc_12: 1.0000 - dense_2_acc_13: 1.0000 - dense_2_acc_14: 1.0000 - dense_2_acc_15: 1.0000 - dense_2_acc_16: 1.0000 - dense_2_acc_17: 1.0000 - dense_2_acc_18: 1.0000 - dense_2_acc_19: 1.0000 - dense_2_acc_20: 1.0000 - dense_2_acc_21: 1.0000 - dense_2_acc_22: 1.0000 - dense_2_acc_23: 1.0000 - dense_2_acc_24: 1.0000 - dense_2_acc_25: 1.0000 - dense_2_acc_26: 1.0000 - dense_2_acc_27: 1.0000 - dense_2_acc_28: 1.0000 - dense_2_acc_29: 1.0000 - dense_2_acc_30: 0.0333         \n",
      "Epoch 49/100\n",
      "60/60 [==============================] - 1s - loss: 11.2985 - dense_2_loss_1: 3.9070 - dense_2_loss_2: 2.1079 - dense_2_loss_3: 0.9108 - dense_2_loss_4: 0.4387 - dense_2_loss_5: 0.3101 - dense_2_loss_6: 0.2481 - dense_2_loss_7: 0.1867 - dense_2_loss_8: 0.1670 - dense_2_loss_9: 0.1857 - dense_2_loss_10: 0.1437 - dense_2_loss_11: 0.1437 - dense_2_loss_12: 0.1343 - dense_2_loss_13: 0.1159 - dense_2_loss_14: 0.1260 - dense_2_loss_15: 0.1382 - dense_2_loss_16: 0.1365 - dense_2_loss_17: 0.1349 - dense_2_loss_18: 0.1388 - dense_2_loss_19: 0.1388 - dense_2_loss_20: 0.1461 - dense_2_loss_21: 0.1463 - dense_2_loss_22: 0.1451 - dense_2_loss_23: 0.1472 - dense_2_loss_24: 0.1478 - dense_2_loss_25: 0.1623 - dense_2_loss_26: 0.1343 - dense_2_loss_27: 0.1507 - dense_2_loss_28: 0.1526 - dense_2_loss_29: 0.1534 - dense_2_loss_30: 0.0000e+00 - dense_2_acc_1: 0.0667 - dense_2_acc_2: 0.4500 - dense_2_acc_3: 0.8167 - dense_2_acc_4: 0.9333 - dense_2_acc_5: 0.9833 - dense_2_acc_6: 0.9833 - dense_2_acc_7: 1.0000 - dense_2_acc_8: 1.0000 - dense_2_acc_9: 0.9833 - dense_2_acc_10: 1.0000 - dense_2_acc_11: 1.0000 - dense_2_acc_12: 1.0000 - dense_2_acc_13: 1.0000 - dense_2_acc_14: 1.0000 - dense_2_acc_15: 1.0000 - dense_2_acc_16: 1.0000 - dense_2_acc_17: 1.0000 - dense_2_acc_18: 1.0000 - dense_2_acc_19: 1.0000 - dense_2_acc_20: 1.0000 - dense_2_acc_21: 1.0000 - dense_2_acc_22: 1.0000 - dense_2_acc_23: 1.0000 - dense_2_acc_24: 1.0000 - dense_2_acc_25: 1.0000 - dense_2_acc_26: 1.0000 - dense_2_acc_27: 1.0000 - dense_2_acc_28: 1.0000 - dense_2_acc_29: 1.0000 - dense_2_acc_30: 0.0333         \n",
      "Epoch 50/100\n",
      "60/60 [==============================] - 1s - loss: 10.9131 - dense_2_loss_1: 3.9021 - dense_2_loss_2: 2.0717 - dense_2_loss_3: 0.8795 - dense_2_loss_4: 0.4115 - dense_2_loss_5: 0.2885 - dense_2_loss_6: 0.2307 - dense_2_loss_7: 0.1727 - dense_2_loss_8: 0.1536 - dense_2_loss_9: 0.1736 - dense_2_loss_10: 0.1303 - dense_2_loss_11: 0.1364 - dense_2_loss_12: 0.1252 - dense_2_loss_13: 0.1062 - dense_2_loss_14: 0.1155 - dense_2_loss_15: 0.1269 - dense_2_loss_16: 0.1272 - dense_2_loss_17: 0.1227 - dense_2_loss_18: 0.1279 - dense_2_loss_19: 0.1333 - dense_2_loss_20: 0.1341 - dense_2_loss_21: 0.1345 - dense_2_loss_22: 0.1319 - dense_2_loss_23: 0.1361 - dense_2_loss_24: 0.1388 - dense_2_loss_25: 0.1478 - dense_2_loss_26: 0.1257 - dense_2_loss_27: 0.1407 - dense_2_loss_28: 0.1436 - dense_2_loss_29: 0.1441 - dense_2_loss_30: 0.0000e+00 - dense_2_acc_1: 0.0667 - dense_2_acc_2: 0.4500 - dense_2_acc_3: 0.8333 - dense_2_acc_4: 0.9667 - dense_2_acc_5: 0.9833 - dense_2_acc_6: 0.9833 - dense_2_acc_7: 1.0000 - dense_2_acc_8: 1.0000 - dense_2_acc_9: 0.9833 - dense_2_acc_10: 1.0000 - dense_2_acc_11: 1.0000 - dense_2_acc_12: 1.0000 - dense_2_acc_13: 1.0000 - dense_2_acc_14: 1.0000 - dense_2_acc_15: 1.0000 - dense_2_acc_16: 1.0000 - dense_2_acc_17: 1.0000 - dense_2_acc_18: 1.0000 - dense_2_acc_19: 1.0000 - dense_2_acc_20: 1.0000 - dense_2_acc_21: 1.0000 - dense_2_acc_22: 1.0000 - dense_2_acc_23: 1.0000 - dense_2_acc_24: 1.0000 - dense_2_acc_25: 1.0000 - dense_2_acc_26: 1.0000 - dense_2_acc_27: 1.0000 - dense_2_acc_28: 1.0000 - dense_2_acc_29: 1.0000 - dense_2_acc_30: 0.0333         \n",
      "Epoch 51/100\n"
     ]
    },
    {
     "name": "stdout",
     "output_type": "stream",
     "text": [
      "60/60 [==============================] - 1s - loss: 10.5565 - dense_2_loss_1: 3.8977 - dense_2_loss_2: 2.0354 - dense_2_loss_3: 0.8513 - dense_2_loss_4: 0.3862 - dense_2_loss_5: 0.2699 - dense_2_loss_6: 0.2156 - dense_2_loss_7: 0.1604 - dense_2_loss_8: 0.1440 - dense_2_loss_9: 0.1619 - dense_2_loss_10: 0.1204 - dense_2_loss_11: 0.1260 - dense_2_loss_12: 0.1161 - dense_2_loss_13: 0.0985 - dense_2_loss_14: 0.1079 - dense_2_loss_15: 0.1171 - dense_2_loss_16: 0.1173 - dense_2_loss_17: 0.1131 - dense_2_loss_18: 0.1186 - dense_2_loss_19: 0.1225 - dense_2_loss_20: 0.1238 - dense_2_loss_21: 0.1251 - dense_2_loss_22: 0.1219 - dense_2_loss_23: 0.1270 - dense_2_loss_24: 0.1282 - dense_2_loss_25: 0.1356 - dense_2_loss_26: 0.1168 - dense_2_loss_27: 0.1303 - dense_2_loss_28: 0.1329 - dense_2_loss_29: 0.1350 - dense_2_loss_30: 0.0000e+00 - dense_2_acc_1: 0.0667 - dense_2_acc_2: 0.4667 - dense_2_acc_3: 0.8333 - dense_2_acc_4: 0.9667 - dense_2_acc_5: 0.9833 - dense_2_acc_6: 0.9833 - dense_2_acc_7: 1.0000 - dense_2_acc_8: 1.0000 - dense_2_acc_9: 0.9833 - dense_2_acc_10: 1.0000 - dense_2_acc_11: 1.0000 - dense_2_acc_12: 1.0000 - dense_2_acc_13: 1.0000 - dense_2_acc_14: 1.0000 - dense_2_acc_15: 1.0000 - dense_2_acc_16: 1.0000 - dense_2_acc_17: 1.0000 - dense_2_acc_18: 1.0000 - dense_2_acc_19: 1.0000 - dense_2_acc_20: 1.0000 - dense_2_acc_21: 1.0000 - dense_2_acc_22: 1.0000 - dense_2_acc_23: 1.0000 - dense_2_acc_24: 1.0000 - dense_2_acc_25: 1.0000 - dense_2_acc_26: 1.0000 - dense_2_acc_27: 1.0000 - dense_2_acc_28: 1.0000 - dense_2_acc_29: 1.0000 - dense_2_acc_30: 0.0333     \n",
      "Epoch 52/100\n",
      "60/60 [==============================] - 1s - loss: 10.2383 - dense_2_loss_1: 3.8937 - dense_2_loss_2: 2.0017 - dense_2_loss_3: 0.8247 - dense_2_loss_4: 0.3630 - dense_2_loss_5: 0.2547 - dense_2_loss_6: 0.2012 - dense_2_loss_7: 0.1497 - dense_2_loss_8: 0.1365 - dense_2_loss_9: 0.1482 - dense_2_loss_10: 0.1141 - dense_2_loss_11: 0.1158 - dense_2_loss_12: 0.1070 - dense_2_loss_13: 0.0924 - dense_2_loss_14: 0.1015 - dense_2_loss_15: 0.1097 - dense_2_loss_16: 0.1091 - dense_2_loss_17: 0.1061 - dense_2_loss_18: 0.1134 - dense_2_loss_19: 0.1089 - dense_2_loss_20: 0.1169 - dense_2_loss_21: 0.1175 - dense_2_loss_22: 0.1153 - dense_2_loss_23: 0.1183 - dense_2_loss_24: 0.1187 - dense_2_loss_25: 0.1276 - dense_2_loss_26: 0.1077 - dense_2_loss_27: 0.1220 - dense_2_loss_28: 0.1186 - dense_2_loss_29: 0.1244 - dense_2_loss_30: 0.0000e+00 - dense_2_acc_1: 0.0667 - dense_2_acc_2: 0.5000 - dense_2_acc_3: 0.8500 - dense_2_acc_4: 0.9667 - dense_2_acc_5: 0.9833 - dense_2_acc_6: 0.9833 - dense_2_acc_7: 1.0000 - dense_2_acc_8: 1.0000 - dense_2_acc_9: 0.9833 - dense_2_acc_10: 1.0000 - dense_2_acc_11: 1.0000 - dense_2_acc_12: 1.0000 - dense_2_acc_13: 1.0000 - dense_2_acc_14: 1.0000 - dense_2_acc_15: 1.0000 - dense_2_acc_16: 1.0000 - dense_2_acc_17: 1.0000 - dense_2_acc_18: 1.0000 - dense_2_acc_19: 1.0000 - dense_2_acc_20: 1.0000 - dense_2_acc_21: 1.0000 - dense_2_acc_22: 1.0000 - dense_2_acc_23: 1.0000 - dense_2_acc_24: 1.0000 - dense_2_acc_25: 1.0000 - dense_2_acc_26: 1.0000 - dense_2_acc_27: 1.0000 - dense_2_acc_28: 1.0000 - dense_2_acc_29: 1.0000 - dense_2_acc_30: 0.0333    \n",
      "Epoch 53/100\n",
      "60/60 [==============================] - 1s - loss: 9.9538 - dense_2_loss_1: 3.8891 - dense_2_loss_2: 1.9683 - dense_2_loss_3: 0.7983 - dense_2_loss_4: 0.3427 - dense_2_loss_5: 0.2420 - dense_2_loss_6: 0.1887 - dense_2_loss_7: 0.1400 - dense_2_loss_8: 0.1282 - dense_2_loss_9: 0.1383 - dense_2_loss_10: 0.1071 - dense_2_loss_11: 0.1074 - dense_2_loss_12: 0.0994 - dense_2_loss_13: 0.0867 - dense_2_loss_14: 0.0944 - dense_2_loss_15: 0.1037 - dense_2_loss_16: 0.1021 - dense_2_loss_17: 0.0998 - dense_2_loss_18: 0.1061 - dense_2_loss_19: 0.1017 - dense_2_loss_20: 0.1086 - dense_2_loss_21: 0.1095 - dense_2_loss_22: 0.1083 - dense_2_loss_23: 0.1115 - dense_2_loss_24: 0.1098 - dense_2_loss_25: 0.1196 - dense_2_loss_26: 0.1007 - dense_2_loss_27: 0.1140 - dense_2_loss_28: 0.1113 - dense_2_loss_29: 0.1165 - dense_2_loss_30: 0.0000e+00 - dense_2_acc_1: 0.0667 - dense_2_acc_2: 0.5167 - dense_2_acc_3: 0.8667 - dense_2_acc_4: 0.9667 - dense_2_acc_5: 0.9833 - dense_2_acc_6: 0.9833 - dense_2_acc_7: 1.0000 - dense_2_acc_8: 1.0000 - dense_2_acc_9: 0.9833 - dense_2_acc_10: 1.0000 - dense_2_acc_11: 1.0000 - dense_2_acc_12: 1.0000 - dense_2_acc_13: 1.0000 - dense_2_acc_14: 1.0000 - dense_2_acc_15: 1.0000 - dense_2_acc_16: 1.0000 - dense_2_acc_17: 1.0000 - dense_2_acc_18: 1.0000 - dense_2_acc_19: 1.0000 - dense_2_acc_20: 1.0000 - dense_2_acc_21: 1.0000 - dense_2_acc_22: 1.0000 - dense_2_acc_23: 1.0000 - dense_2_acc_24: 1.0000 - dense_2_acc_25: 1.0000 - dense_2_acc_26: 1.0000 - dense_2_acc_27: 1.0000 - dense_2_acc_28: 1.0000 - dense_2_acc_29: 1.0000 - dense_2_acc_30: 0.0333      \n",
      "Epoch 54/100\n",
      "60/60 [==============================] - 1s - loss: 9.6821 - dense_2_loss_1: 3.8851 - dense_2_loss_2: 1.9372 - dense_2_loss_3: 0.7732 - dense_2_loss_4: 0.3237 - dense_2_loss_5: 0.2273 - dense_2_loss_6: 0.1771 - dense_2_loss_7: 0.1302 - dense_2_loss_8: 0.1193 - dense_2_loss_9: 0.1291 - dense_2_loss_10: 0.0990 - dense_2_loss_11: 0.1008 - dense_2_loss_12: 0.0930 - dense_2_loss_13: 0.0815 - dense_2_loss_14: 0.0868 - dense_2_loss_15: 0.0966 - dense_2_loss_16: 0.0957 - dense_2_loss_17: 0.0932 - dense_2_loss_18: 0.0974 - dense_2_loss_19: 0.0974 - dense_2_loss_20: 0.1008 - dense_2_loss_21: 0.1013 - dense_2_loss_22: 0.0999 - dense_2_loss_23: 0.1039 - dense_2_loss_24: 0.1021 - dense_2_loss_25: 0.1121 - dense_2_loss_26: 0.0937 - dense_2_loss_27: 0.1075 - dense_2_loss_28: 0.1074 - dense_2_loss_29: 0.1097 - dense_2_loss_30: 0.0000e+00 - dense_2_acc_1: 0.0667 - dense_2_acc_2: 0.5167 - dense_2_acc_3: 0.8667 - dense_2_acc_4: 1.0000 - dense_2_acc_5: 0.9833 - dense_2_acc_6: 1.0000 - dense_2_acc_7: 1.0000 - dense_2_acc_8: 1.0000 - dense_2_acc_9: 1.0000 - dense_2_acc_10: 1.0000 - dense_2_acc_11: 1.0000 - dense_2_acc_12: 1.0000 - dense_2_acc_13: 1.0000 - dense_2_acc_14: 1.0000 - dense_2_acc_15: 1.0000 - dense_2_acc_16: 1.0000 - dense_2_acc_17: 1.0000 - dense_2_acc_18: 1.0000 - dense_2_acc_19: 1.0000 - dense_2_acc_20: 1.0000 - dense_2_acc_21: 1.0000 - dense_2_acc_22: 1.0000 - dense_2_acc_23: 1.0000 - dense_2_acc_24: 1.0000 - dense_2_acc_25: 1.0000 - dense_2_acc_26: 1.0000 - dense_2_acc_27: 1.0000 - dense_2_acc_28: 1.0000 - dense_2_acc_29: 1.0000 - dense_2_acc_30: 0.0333     \n",
      "Epoch 55/100\n",
      "60/60 [==============================] - 1s - loss: 9.4413 - dense_2_loss_1: 3.8806 - dense_2_loss_2: 1.9048 - dense_2_loss_3: 0.7504 - dense_2_loss_4: 0.3072 - dense_2_loss_5: 0.2153 - dense_2_loss_6: 0.1690 - dense_2_loss_7: 0.1220 - dense_2_loss_8: 0.1124 - dense_2_loss_9: 0.1217 - dense_2_loss_10: 0.0913 - dense_2_loss_11: 0.0953 - dense_2_loss_12: 0.0874 - dense_2_loss_13: 0.0765 - dense_2_loss_14: 0.0825 - dense_2_loss_15: 0.0892 - dense_2_loss_16: 0.0901 - dense_2_loss_17: 0.0881 - dense_2_loss_18: 0.0905 - dense_2_loss_19: 0.0918 - dense_2_loss_20: 0.0943 - dense_2_loss_21: 0.0950 - dense_2_loss_22: 0.0930 - dense_2_loss_23: 0.0964 - dense_2_loss_24: 0.0962 - dense_2_loss_25: 0.1052 - dense_2_loss_26: 0.0880 - dense_2_loss_27: 0.1010 - dense_2_loss_28: 0.1023 - dense_2_loss_29: 0.1035 - dense_2_loss_30: 0.0000e+00 - dense_2_acc_1: 0.0667 - dense_2_acc_2: 0.5333 - dense_2_acc_3: 0.8667 - dense_2_acc_4: 1.0000 - dense_2_acc_5: 0.9833 - dense_2_acc_6: 1.0000 - dense_2_acc_7: 1.0000 - dense_2_acc_8: 1.0000 - dense_2_acc_9: 1.0000 - dense_2_acc_10: 1.0000 - dense_2_acc_11: 1.0000 - dense_2_acc_12: 1.0000 - dense_2_acc_13: 1.0000 - dense_2_acc_14: 1.0000 - dense_2_acc_15: 1.0000 - dense_2_acc_16: 1.0000 - dense_2_acc_17: 1.0000 - dense_2_acc_18: 1.0000 - dense_2_acc_19: 1.0000 - dense_2_acc_20: 1.0000 - dense_2_acc_21: 1.0000 - dense_2_acc_22: 1.0000 - dense_2_acc_23: 1.0000 - dense_2_acc_24: 1.0000 - dense_2_acc_25: 1.0000 - dense_2_acc_26: 1.0000 - dense_2_acc_27: 1.0000 - dense_2_acc_28: 1.0000 - dense_2_acc_29: 1.0000 - dense_2_acc_30: 0.0333          \n",
      "Epoch 56/100\n",
      "60/60 [==============================] - 1s - loss: 9.2107 - dense_2_loss_1: 3.8768 - dense_2_loss_2: 1.8761 - dense_2_loss_3: 0.7273 - dense_2_loss_4: 0.2906 - dense_2_loss_5: 0.2023 - dense_2_loss_6: 0.1596 - dense_2_loss_7: 0.1147 - dense_2_loss_8: 0.1070 - dense_2_loss_9: 0.1133 - dense_2_loss_10: 0.0854 - dense_2_loss_11: 0.0891 - dense_2_loss_12: 0.0826 - dense_2_loss_13: 0.0713 - dense_2_loss_14: 0.0795 - dense_2_loss_15: 0.0831 - dense_2_loss_16: 0.0847 - dense_2_loss_17: 0.0834 - dense_2_loss_18: 0.0854 - dense_2_loss_19: 0.0850 - dense_2_loss_20: 0.0894 - dense_2_loss_21: 0.0899 - dense_2_loss_22: 0.0878 - dense_2_loss_23: 0.0906 - dense_2_loss_24: 0.0909 - dense_2_loss_25: 0.0980 - dense_2_loss_26: 0.0830 - dense_2_loss_27: 0.0943 - dense_2_loss_28: 0.0935 - dense_2_loss_29: 0.0960 - dense_2_loss_30: 0.0000e+00 - dense_2_acc_1: 0.0667 - dense_2_acc_2: 0.5500 - dense_2_acc_3: 0.8667 - dense_2_acc_4: 1.0000 - dense_2_acc_5: 0.9833 - dense_2_acc_6: 1.0000 - dense_2_acc_7: 1.0000 - dense_2_acc_8: 1.0000 - dense_2_acc_9: 1.0000 - dense_2_acc_10: 1.0000 - dense_2_acc_11: 1.0000 - dense_2_acc_12: 1.0000 - dense_2_acc_13: 1.0000 - dense_2_acc_14: 1.0000 - dense_2_acc_15: 1.0000 - dense_2_acc_16: 1.0000 - dense_2_acc_17: 1.0000 - dense_2_acc_18: 1.0000 - dense_2_acc_19: 1.0000 - dense_2_acc_20: 1.0000 - dense_2_acc_21: 1.0000 - dense_2_acc_22: 1.0000 - dense_2_acc_23: 1.0000 - dense_2_acc_24: 1.0000 - dense_2_acc_25: 1.0000 - dense_2_acc_26: 1.0000 - dense_2_acc_27: 1.0000 - dense_2_acc_28: 1.0000 - dense_2_acc_29: 1.0000 - dense_2_acc_30: 0.0333     \n",
      "Epoch 57/100\n",
      "60/60 [==============================] - 1s - loss: 9.0065 - dense_2_loss_1: 3.8728 - dense_2_loss_2: 1.8464 - dense_2_loss_3: 0.7068 - dense_2_loss_4: 0.2762 - dense_2_loss_5: 0.1934 - dense_2_loss_6: 0.1517 - dense_2_loss_7: 0.1084 - dense_2_loss_8: 0.1017 - dense_2_loss_9: 0.1063 - dense_2_loss_10: 0.0805 - dense_2_loss_11: 0.0842 - dense_2_loss_12: 0.0780 - dense_2_loss_13: 0.0674 - dense_2_loss_14: 0.0743 - dense_2_loss_15: 0.0793 - dense_2_loss_16: 0.0793 - dense_2_loss_17: 0.0784 - dense_2_loss_18: 0.0808 - dense_2_loss_19: 0.0798 - dense_2_loss_20: 0.0850 - dense_2_loss_21: 0.0843 - dense_2_loss_22: 0.0829 - dense_2_loss_23: 0.0860 - dense_2_loss_24: 0.0858 - dense_2_loss_25: 0.0924 - dense_2_loss_26: 0.0782 - dense_2_loss_27: 0.0898 - dense_2_loss_28: 0.0864 - dense_2_loss_29: 0.0901 - dense_2_loss_30: 0.0000e+00 - dense_2_acc_1: 0.0667 - dense_2_acc_2: 0.5500 - dense_2_acc_3: 0.8667 - dense_2_acc_4: 1.0000 - dense_2_acc_5: 0.9833 - dense_2_acc_6: 1.0000 - dense_2_acc_7: 1.0000 - dense_2_acc_8: 1.0000 - dense_2_acc_9: 1.0000 - dense_2_acc_10: 1.0000 - dense_2_acc_11: 1.0000 - dense_2_acc_12: 1.0000 - dense_2_acc_13: 1.0000 - dense_2_acc_14: 1.0000 - dense_2_acc_15: 1.0000 - dense_2_acc_16: 1.0000 - dense_2_acc_17: 1.0000 - dense_2_acc_18: 1.0000 - dense_2_acc_19: 1.0000 - dense_2_acc_20: 1.0000 - dense_2_acc_21: 1.0000 - dense_2_acc_22: 1.0000 - dense_2_acc_23: 1.0000 - dense_2_acc_24: 1.0000 - dense_2_acc_25: 1.0000 - dense_2_acc_26: 1.0000 - dense_2_acc_27: 1.0000 - dense_2_acc_28: 1.0000 - dense_2_acc_29: 1.0000 - dense_2_acc_30: 0.0333     \n",
      "Epoch 58/100\n",
      "60/60 [==============================] - 1s - loss: 8.8140 - dense_2_loss_1: 3.8686 - dense_2_loss_2: 1.8183 - dense_2_loss_3: 0.6881 - dense_2_loss_4: 0.2626 - dense_2_loss_5: 0.1844 - dense_2_loss_6: 0.1430 - dense_2_loss_7: 0.1023 - dense_2_loss_8: 0.0963 - dense_2_loss_9: 0.0994 - dense_2_loss_10: 0.0764 - dense_2_loss_11: 0.0797 - dense_2_loss_12: 0.0733 - dense_2_loss_13: 0.0637 - dense_2_loss_14: 0.0688 - dense_2_loss_15: 0.0764 - dense_2_loss_16: 0.0748 - dense_2_loss_17: 0.0734 - dense_2_loss_18: 0.0765 - dense_2_loss_19: 0.0759 - dense_2_loss_20: 0.0797 - dense_2_loss_21: 0.0790 - dense_2_loss_22: 0.0782 - dense_2_loss_23: 0.0817 - dense_2_loss_24: 0.0804 - dense_2_loss_25: 0.0871 - dense_2_loss_26: 0.0740 - dense_2_loss_27: 0.0851 - dense_2_loss_28: 0.0814 - dense_2_loss_29: 0.0854 - dense_2_loss_30: 0.0000e+00 - dense_2_acc_1: 0.0667 - dense_2_acc_2: 0.5500 - dense_2_acc_3: 0.8833 - dense_2_acc_4: 1.0000 - dense_2_acc_5: 0.9833 - dense_2_acc_6: 1.0000 - dense_2_acc_7: 1.0000 - dense_2_acc_8: 1.0000 - dense_2_acc_9: 1.0000 - dense_2_acc_10: 1.0000 - dense_2_acc_11: 1.0000 - dense_2_acc_12: 1.0000 - dense_2_acc_13: 1.0000 - dense_2_acc_14: 1.0000 - dense_2_acc_15: 1.0000 - dense_2_acc_16: 1.0000 - dense_2_acc_17: 1.0000 - dense_2_acc_18: 1.0000 - dense_2_acc_19: 1.0000 - dense_2_acc_20: 1.0000 - dense_2_acc_21: 1.0000 - dense_2_acc_22: 1.0000 - dense_2_acc_23: 1.0000 - dense_2_acc_24: 1.0000 - dense_2_acc_25: 1.0000 - dense_2_acc_26: 1.0000 - dense_2_acc_27: 1.0000 - dense_2_acc_28: 1.0000 - dense_2_acc_29: 1.0000 - dense_2_acc_30: 0.0333     \n",
      "Epoch 59/100\n",
      "60/60 [==============================] - 1s - loss: 8.6353 - dense_2_loss_1: 3.8651 - dense_2_loss_2: 1.7919 - dense_2_loss_3: 0.6679 - dense_2_loss_4: 0.2507 - dense_2_loss_5: 0.1753 - dense_2_loss_6: 0.1354 - dense_2_loss_7: 0.0965 - dense_2_loss_8: 0.0913 - dense_2_loss_9: 0.0937 - dense_2_loss_10: 0.0724 - dense_2_loss_11: 0.0749 - dense_2_loss_12: 0.0694 - dense_2_loss_13: 0.0602 - dense_2_loss_14: 0.0651 - dense_2_loss_15: 0.0724 - dense_2_loss_16: 0.0706 - dense_2_loss_17: 0.0694 - dense_2_loss_18: 0.0724 - dense_2_loss_19: 0.0721 - dense_2_loss_20: 0.0743 - dense_2_loss_21: 0.0744 - dense_2_loss_22: 0.0741 - dense_2_loss_23: 0.0772 - dense_2_loss_24: 0.0760 - dense_2_loss_25: 0.0829 - dense_2_loss_26: 0.0699 - dense_2_loss_27: 0.0801 - dense_2_loss_28: 0.0782 - dense_2_loss_29: 0.0815 - dense_2_loss_30: 0.0000e+00 - dense_2_acc_1: 0.0667 - dense_2_acc_2: 0.5500 - dense_2_acc_3: 0.8833 - dense_2_acc_4: 1.0000 - dense_2_acc_5: 0.9833 - dense_2_acc_6: 1.0000 - dense_2_acc_7: 1.0000 - dense_2_acc_8: 1.0000 - dense_2_acc_9: 1.0000 - dense_2_acc_10: 1.0000 - dense_2_acc_11: 1.0000 - dense_2_acc_12: 1.0000 - dense_2_acc_13: 1.0000 - dense_2_acc_14: 1.0000 - dense_2_acc_15: 1.0000 - dense_2_acc_16: 1.0000 - dense_2_acc_17: 1.0000 - dense_2_acc_18: 1.0000 - dense_2_acc_19: 1.0000 - dense_2_acc_20: 1.0000 - dense_2_acc_21: 1.0000 - dense_2_acc_22: 1.0000 - dense_2_acc_23: 1.0000 - dense_2_acc_24: 1.0000 - dense_2_acc_25: 1.0000 - dense_2_acc_26: 1.0000 - dense_2_acc_27: 1.0000 - dense_2_acc_28: 1.0000 - dense_2_acc_29: 1.0000 - dense_2_acc_30: 0.0333         \n",
      "Epoch 60/100\n",
      "60/60 [==============================] - 1s - loss: 8.4674 - dense_2_loss_1: 3.8612 - dense_2_loss_2: 1.7655 - dense_2_loss_3: 0.6503 - dense_2_loss_4: 0.2393 - dense_2_loss_5: 0.1657 - dense_2_loss_6: 0.1286 - dense_2_loss_7: 0.0919 - dense_2_loss_8: 0.0869 - dense_2_loss_9: 0.0880 - dense_2_loss_10: 0.0688 - dense_2_loss_11: 0.0700 - dense_2_loss_12: 0.0661 - dense_2_loss_13: 0.0565 - dense_2_loss_14: 0.0632 - dense_2_loss_15: 0.0678 - dense_2_loss_16: 0.0670 - dense_2_loss_17: 0.0661 - dense_2_loss_18: 0.0688 - dense_2_loss_19: 0.0672 - dense_2_loss_20: 0.0704 - dense_2_loss_21: 0.0708 - dense_2_loss_22: 0.0705 - dense_2_loss_23: 0.0719 - dense_2_loss_24: 0.0720 - dense_2_loss_25: 0.0789 - dense_2_loss_26: 0.0665 - dense_2_loss_27: 0.0755 - dense_2_loss_28: 0.0743 - dense_2_loss_29: 0.0778 - dense_2_loss_30: 0.0000e+00 - dense_2_acc_1: 0.0667 - dense_2_acc_2: 0.5833 - dense_2_acc_3: 0.8833 - dense_2_acc_4: 1.0000 - dense_2_acc_5: 0.9833 - dense_2_acc_6: 1.0000 - dense_2_acc_7: 1.0000 - dense_2_acc_8: 1.0000 - dense_2_acc_9: 1.0000 - dense_2_acc_10: 1.0000 - dense_2_acc_11: 1.0000 - dense_2_acc_12: 1.0000 - dense_2_acc_13: 1.0000 - dense_2_acc_14: 1.0000 - dense_2_acc_15: 1.0000 - dense_2_acc_16: 1.0000 - dense_2_acc_17: 1.0000 - dense_2_acc_18: 1.0000 - dense_2_acc_19: 1.0000 - dense_2_acc_20: 1.0000 - dense_2_acc_21: 1.0000 - dense_2_acc_22: 1.0000 - dense_2_acc_23: 1.0000 - dense_2_acc_24: 1.0000 - dense_2_acc_25: 1.0000 - dense_2_acc_26: 1.0000 - dense_2_acc_27: 1.0000 - dense_2_acc_28: 1.0000 - dense_2_acc_29: 1.0000 - dense_2_acc_30: 0.0333         \n",
      "Epoch 61/100\n"
     ]
    },
    {
     "name": "stdout",
     "output_type": "stream",
     "text": [
      "60/60 [==============================] - 1s - loss: 8.3157 - dense_2_loss_1: 3.8572 - dense_2_loss_2: 1.7411 - dense_2_loss_3: 0.6334 - dense_2_loss_4: 0.2282 - dense_2_loss_5: 0.1587 - dense_2_loss_6: 0.1234 - dense_2_loss_7: 0.0875 - dense_2_loss_8: 0.0829 - dense_2_loss_9: 0.0842 - dense_2_loss_10: 0.0651 - dense_2_loss_11: 0.0664 - dense_2_loss_12: 0.0631 - dense_2_loss_13: 0.0538 - dense_2_loss_14: 0.0607 - dense_2_loss_15: 0.0637 - dense_2_loss_16: 0.0639 - dense_2_loss_17: 0.0628 - dense_2_loss_18: 0.0652 - dense_2_loss_19: 0.0639 - dense_2_loss_20: 0.0671 - dense_2_loss_21: 0.0673 - dense_2_loss_22: 0.0668 - dense_2_loss_23: 0.0683 - dense_2_loss_24: 0.0686 - dense_2_loss_25: 0.0749 - dense_2_loss_26: 0.0632 - dense_2_loss_27: 0.0712 - dense_2_loss_28: 0.0690 - dense_2_loss_29: 0.0741 - dense_2_loss_30: 0.0000e+00 - dense_2_acc_1: 0.0667 - dense_2_acc_2: 0.5833 - dense_2_acc_3: 0.8833 - dense_2_acc_4: 1.0000 - dense_2_acc_5: 0.9833 - dense_2_acc_6: 1.0000 - dense_2_acc_7: 1.0000 - dense_2_acc_8: 1.0000 - dense_2_acc_9: 1.0000 - dense_2_acc_10: 1.0000 - dense_2_acc_11: 1.0000 - dense_2_acc_12: 1.0000 - dense_2_acc_13: 1.0000 - dense_2_acc_14: 1.0000 - dense_2_acc_15: 1.0000 - dense_2_acc_16: 1.0000 - dense_2_acc_17: 1.0000 - dense_2_acc_18: 1.0000 - dense_2_acc_19: 1.0000 - dense_2_acc_20: 1.0000 - dense_2_acc_21: 1.0000 - dense_2_acc_22: 1.0000 - dense_2_acc_23: 1.0000 - dense_2_acc_24: 1.0000 - dense_2_acc_25: 1.0000 - dense_2_acc_26: 1.0000 - dense_2_acc_27: 1.0000 - dense_2_acc_28: 1.0000 - dense_2_acc_29: 1.0000 - dense_2_acc_30: 0.0333     \n",
      "Epoch 62/100\n",
      "60/60 [==============================] - 1s - loss: 8.1747 - dense_2_loss_1: 3.8533 - dense_2_loss_2: 1.7166 - dense_2_loss_3: 0.6173 - dense_2_loss_4: 0.2189 - dense_2_loss_5: 0.1515 - dense_2_loss_6: 0.1177 - dense_2_loss_7: 0.0837 - dense_2_loss_8: 0.0788 - dense_2_loss_9: 0.0802 - dense_2_loss_10: 0.0617 - dense_2_loss_11: 0.0637 - dense_2_loss_12: 0.0601 - dense_2_loss_13: 0.0515 - dense_2_loss_14: 0.0575 - dense_2_loss_15: 0.0609 - dense_2_loss_16: 0.0608 - dense_2_loss_17: 0.0599 - dense_2_loss_18: 0.0617 - dense_2_loss_19: 0.0613 - dense_2_loss_20: 0.0641 - dense_2_loss_21: 0.0642 - dense_2_loss_22: 0.0634 - dense_2_loss_23: 0.0654 - dense_2_loss_24: 0.0654 - dense_2_loss_25: 0.0711 - dense_2_loss_26: 0.0601 - dense_2_loss_27: 0.0679 - dense_2_loss_28: 0.0654 - dense_2_loss_29: 0.0708 - dense_2_loss_30: 0.0000e+00 - dense_2_acc_1: 0.0667 - dense_2_acc_2: 0.5833 - dense_2_acc_3: 0.9000 - dense_2_acc_4: 1.0000 - dense_2_acc_5: 0.9833 - dense_2_acc_6: 1.0000 - dense_2_acc_7: 1.0000 - dense_2_acc_8: 1.0000 - dense_2_acc_9: 1.0000 - dense_2_acc_10: 1.0000 - dense_2_acc_11: 1.0000 - dense_2_acc_12: 1.0000 - dense_2_acc_13: 1.0000 - dense_2_acc_14: 1.0000 - dense_2_acc_15: 1.0000 - dense_2_acc_16: 1.0000 - dense_2_acc_17: 1.0000 - dense_2_acc_18: 1.0000 - dense_2_acc_19: 1.0000 - dense_2_acc_20: 1.0000 - dense_2_acc_21: 1.0000 - dense_2_acc_22: 1.0000 - dense_2_acc_23: 1.0000 - dense_2_acc_24: 1.0000 - dense_2_acc_25: 1.0000 - dense_2_acc_26: 1.0000 - dense_2_acc_27: 1.0000 - dense_2_acc_28: 1.0000 - dense_2_acc_29: 1.0000 - dense_2_acc_30: 0.0333         \n",
      "Epoch 63/100\n",
      "60/60 [==============================] - 1s - loss: 8.0400 - dense_2_loss_1: 3.8498 - dense_2_loss_2: 1.6935 - dense_2_loss_3: 0.6012 - dense_2_loss_4: 0.2092 - dense_2_loss_5: 0.1444 - dense_2_loss_6: 0.1123 - dense_2_loss_7: 0.0799 - dense_2_loss_8: 0.0751 - dense_2_loss_9: 0.0761 - dense_2_loss_10: 0.0584 - dense_2_loss_11: 0.0610 - dense_2_loss_12: 0.0570 - dense_2_loss_13: 0.0493 - dense_2_loss_14: 0.0540 - dense_2_loss_15: 0.0585 - dense_2_loss_16: 0.0580 - dense_2_loss_17: 0.0568 - dense_2_loss_18: 0.0585 - dense_2_loss_19: 0.0589 - dense_2_loss_20: 0.0610 - dense_2_loss_21: 0.0611 - dense_2_loss_22: 0.0603 - dense_2_loss_23: 0.0628 - dense_2_loss_24: 0.0625 - dense_2_loss_25: 0.0678 - dense_2_loss_26: 0.0575 - dense_2_loss_27: 0.0649 - dense_2_loss_28: 0.0624 - dense_2_loss_29: 0.0678 - dense_2_loss_30: 0.0000e+00 - dense_2_acc_1: 0.0667 - dense_2_acc_2: 0.5833 - dense_2_acc_3: 0.9000 - dense_2_acc_4: 1.0000 - dense_2_acc_5: 0.9833 - dense_2_acc_6: 1.0000 - dense_2_acc_7: 1.0000 - dense_2_acc_8: 1.0000 - dense_2_acc_9: 1.0000 - dense_2_acc_10: 1.0000 - dense_2_acc_11: 1.0000 - dense_2_acc_12: 1.0000 - dense_2_acc_13: 1.0000 - dense_2_acc_14: 1.0000 - dense_2_acc_15: 1.0000 - dense_2_acc_16: 1.0000 - dense_2_acc_17: 1.0000 - dense_2_acc_18: 1.0000 - dense_2_acc_19: 1.0000 - dense_2_acc_20: 1.0000 - dense_2_acc_21: 1.0000 - dense_2_acc_22: 1.0000 - dense_2_acc_23: 1.0000 - dense_2_acc_24: 1.0000 - dense_2_acc_25: 1.0000 - dense_2_acc_26: 1.0000 - dense_2_acc_27: 1.0000 - dense_2_acc_28: 1.0000 - dense_2_acc_29: 1.0000 - dense_2_acc_30: 0.0333     \n",
      "Epoch 64/100\n",
      "60/60 [==============================] - 1s - loss: 7.9124 - dense_2_loss_1: 3.8460 - dense_2_loss_2: 1.6708 - dense_2_loss_3: 0.5853 - dense_2_loss_4: 0.2006 - dense_2_loss_5: 0.1373 - dense_2_loss_6: 0.1073 - dense_2_loss_7: 0.0763 - dense_2_loss_8: 0.0719 - dense_2_loss_9: 0.0723 - dense_2_loss_10: 0.0558 - dense_2_loss_11: 0.0579 - dense_2_loss_12: 0.0542 - dense_2_loss_13: 0.0471 - dense_2_loss_14: 0.0517 - dense_2_loss_15: 0.0559 - dense_2_loss_16: 0.0554 - dense_2_loss_17: 0.0542 - dense_2_loss_18: 0.0560 - dense_2_loss_19: 0.0561 - dense_2_loss_20: 0.0580 - dense_2_loss_21: 0.0583 - dense_2_loss_22: 0.0577 - dense_2_loss_23: 0.0601 - dense_2_loss_24: 0.0596 - dense_2_loss_25: 0.0647 - dense_2_loss_26: 0.0551 - dense_2_loss_27: 0.0620 - dense_2_loss_28: 0.0603 - dense_2_loss_29: 0.0647 - dense_2_loss_30: 0.0000e+00 - dense_2_acc_1: 0.0667 - dense_2_acc_2: 0.6167 - dense_2_acc_3: 0.9000 - dense_2_acc_4: 1.0000 - dense_2_acc_5: 0.9833 - dense_2_acc_6: 1.0000 - dense_2_acc_7: 1.0000 - dense_2_acc_8: 1.0000 - dense_2_acc_9: 1.0000 - dense_2_acc_10: 1.0000 - dense_2_acc_11: 1.0000 - dense_2_acc_12: 1.0000 - dense_2_acc_13: 1.0000 - dense_2_acc_14: 1.0000 - dense_2_acc_15: 1.0000 - dense_2_acc_16: 1.0000 - dense_2_acc_17: 1.0000 - dense_2_acc_18: 1.0000 - dense_2_acc_19: 1.0000 - dense_2_acc_20: 1.0000 - dense_2_acc_21: 1.0000 - dense_2_acc_22: 1.0000 - dense_2_acc_23: 1.0000 - dense_2_acc_24: 1.0000 - dense_2_acc_25: 1.0000 - dense_2_acc_26: 1.0000 - dense_2_acc_27: 1.0000 - dense_2_acc_28: 1.0000 - dense_2_acc_29: 1.0000 - dense_2_acc_30: 0.0333     \n",
      "Epoch 65/100\n",
      "60/60 [==============================] - 1s - loss: 7.7963 - dense_2_loss_1: 3.8425 - dense_2_loss_2: 1.6486 - dense_2_loss_3: 0.5718 - dense_2_loss_4: 0.1930 - dense_2_loss_5: 0.1315 - dense_2_loss_6: 0.1032 - dense_2_loss_7: 0.0731 - dense_2_loss_8: 0.0690 - dense_2_loss_9: 0.0691 - dense_2_loss_10: 0.0534 - dense_2_loss_11: 0.0553 - dense_2_loss_12: 0.0519 - dense_2_loss_13: 0.0450 - dense_2_loss_14: 0.0497 - dense_2_loss_15: 0.0534 - dense_2_loss_16: 0.0529 - dense_2_loss_17: 0.0518 - dense_2_loss_18: 0.0537 - dense_2_loss_19: 0.0535 - dense_2_loss_20: 0.0553 - dense_2_loss_21: 0.0557 - dense_2_loss_22: 0.0555 - dense_2_loss_23: 0.0571 - dense_2_loss_24: 0.0569 - dense_2_loss_25: 0.0619 - dense_2_loss_26: 0.0527 - dense_2_loss_27: 0.0592 - dense_2_loss_28: 0.0580 - dense_2_loss_29: 0.0617 - dense_2_loss_30: 0.0000e+00 - dense_2_acc_1: 0.0667 - dense_2_acc_2: 0.6167 - dense_2_acc_3: 0.9000 - dense_2_acc_4: 1.0000 - dense_2_acc_5: 0.9833 - dense_2_acc_6: 1.0000 - dense_2_acc_7: 1.0000 - dense_2_acc_8: 1.0000 - dense_2_acc_9: 1.0000 - dense_2_acc_10: 1.0000 - dense_2_acc_11: 1.0000 - dense_2_acc_12: 1.0000 - dense_2_acc_13: 1.0000 - dense_2_acc_14: 1.0000 - dense_2_acc_15: 1.0000 - dense_2_acc_16: 1.0000 - dense_2_acc_17: 1.0000 - dense_2_acc_18: 1.0000 - dense_2_acc_19: 1.0000 - dense_2_acc_20: 1.0000 - dense_2_acc_21: 1.0000 - dense_2_acc_22: 1.0000 - dense_2_acc_23: 1.0000 - dense_2_acc_24: 1.0000 - dense_2_acc_25: 1.0000 - dense_2_acc_26: 1.0000 - dense_2_acc_27: 1.0000 - dense_2_acc_28: 1.0000 - dense_2_acc_29: 1.0000 - dense_2_acc_30: 0.0333         \n",
      "Epoch 66/100\n",
      "60/60 [==============================] - 1s - loss: 7.6843 - dense_2_loss_1: 3.8390 - dense_2_loss_2: 1.6271 - dense_2_loss_3: 0.5576 - dense_2_loss_4: 0.1855 - dense_2_loss_5: 0.1258 - dense_2_loss_6: 0.0994 - dense_2_loss_7: 0.0701 - dense_2_loss_8: 0.0665 - dense_2_loss_9: 0.0659 - dense_2_loss_10: 0.0512 - dense_2_loss_11: 0.0528 - dense_2_loss_12: 0.0498 - dense_2_loss_13: 0.0430 - dense_2_loss_14: 0.0481 - dense_2_loss_15: 0.0508 - dense_2_loss_16: 0.0508 - dense_2_loss_17: 0.0498 - dense_2_loss_18: 0.0515 - dense_2_loss_19: 0.0510 - dense_2_loss_20: 0.0530 - dense_2_loss_21: 0.0532 - dense_2_loss_22: 0.0532 - dense_2_loss_23: 0.0542 - dense_2_loss_24: 0.0545 - dense_2_loss_25: 0.0592 - dense_2_loss_26: 0.0506 - dense_2_loss_27: 0.0565 - dense_2_loss_28: 0.0552 - dense_2_loss_29: 0.0592 - dense_2_loss_30: 0.0000e+00 - dense_2_acc_1: 0.0667 - dense_2_acc_2: 0.6167 - dense_2_acc_3: 0.9000 - dense_2_acc_4: 1.0000 - dense_2_acc_5: 0.9833 - dense_2_acc_6: 1.0000 - dense_2_acc_7: 1.0000 - dense_2_acc_8: 1.0000 - dense_2_acc_9: 1.0000 - dense_2_acc_10: 1.0000 - dense_2_acc_11: 1.0000 - dense_2_acc_12: 1.0000 - dense_2_acc_13: 1.0000 - dense_2_acc_14: 1.0000 - dense_2_acc_15: 1.0000 - dense_2_acc_16: 1.0000 - dense_2_acc_17: 1.0000 - dense_2_acc_18: 1.0000 - dense_2_acc_19: 1.0000 - dense_2_acc_20: 1.0000 - dense_2_acc_21: 1.0000 - dense_2_acc_22: 1.0000 - dense_2_acc_23: 1.0000 - dense_2_acc_24: 1.0000 - dense_2_acc_25: 1.0000 - dense_2_acc_26: 1.0000 - dense_2_acc_27: 1.0000 - dense_2_acc_28: 1.0000 - dense_2_acc_29: 1.0000 - dense_2_acc_30: 0.0333     \n",
      "Epoch 67/100\n",
      "60/60 [==============================] - 1s - loss: 7.5824 - dense_2_loss_1: 3.8352 - dense_2_loss_2: 1.6061 - dense_2_loss_3: 0.5450 - dense_2_loss_4: 0.1790 - dense_2_loss_5: 0.1215 - dense_2_loss_6: 0.0960 - dense_2_loss_7: 0.0676 - dense_2_loss_8: 0.0642 - dense_2_loss_9: 0.0634 - dense_2_loss_10: 0.0491 - dense_2_loss_11: 0.0509 - dense_2_loss_12: 0.0479 - dense_2_loss_13: 0.0413 - dense_2_loss_14: 0.0463 - dense_2_loss_15: 0.0486 - dense_2_loss_16: 0.0487 - dense_2_loss_17: 0.0477 - dense_2_loss_18: 0.0493 - dense_2_loss_19: 0.0490 - dense_2_loss_20: 0.0511 - dense_2_loss_21: 0.0509 - dense_2_loss_22: 0.0509 - dense_2_loss_23: 0.0518 - dense_2_loss_24: 0.0520 - dense_2_loss_25: 0.0568 - dense_2_loss_26: 0.0485 - dense_2_loss_27: 0.0541 - dense_2_loss_28: 0.0526 - dense_2_loss_29: 0.0568 - dense_2_loss_30: 0.0000e+00 - dense_2_acc_1: 0.0667 - dense_2_acc_2: 0.6167 - dense_2_acc_3: 0.9000 - dense_2_acc_4: 1.0000 - dense_2_acc_5: 0.9833 - dense_2_acc_6: 1.0000 - dense_2_acc_7: 1.0000 - dense_2_acc_8: 1.0000 - dense_2_acc_9: 1.0000 - dense_2_acc_10: 1.0000 - dense_2_acc_11: 1.0000 - dense_2_acc_12: 1.0000 - dense_2_acc_13: 1.0000 - dense_2_acc_14: 1.0000 - dense_2_acc_15: 1.0000 - dense_2_acc_16: 1.0000 - dense_2_acc_17: 1.0000 - dense_2_acc_18: 1.0000 - dense_2_acc_19: 1.0000 - dense_2_acc_20: 1.0000 - dense_2_acc_21: 1.0000 - dense_2_acc_22: 1.0000 - dense_2_acc_23: 1.0000 - dense_2_acc_24: 1.0000 - dense_2_acc_25: 1.0000 - dense_2_acc_26: 1.0000 - dense_2_acc_27: 1.0000 - dense_2_acc_28: 1.0000 - dense_2_acc_29: 1.0000 - dense_2_acc_30: 0.0333     \n",
      "Epoch 68/100\n",
      "60/60 [==============================] - 1s - loss: 7.4849 - dense_2_loss_1: 3.8317 - dense_2_loss_2: 1.5859 - dense_2_loss_3: 0.5320 - dense_2_loss_4: 0.1728 - dense_2_loss_5: 0.1169 - dense_2_loss_6: 0.0927 - dense_2_loss_7: 0.0650 - dense_2_loss_8: 0.0617 - dense_2_loss_9: 0.0608 - dense_2_loss_10: 0.0472 - dense_2_loss_11: 0.0491 - dense_2_loss_12: 0.0462 - dense_2_loss_13: 0.0397 - dense_2_loss_14: 0.0443 - dense_2_loss_15: 0.0467 - dense_2_loss_16: 0.0469 - dense_2_loss_17: 0.0458 - dense_2_loss_18: 0.0474 - dense_2_loss_19: 0.0473 - dense_2_loss_20: 0.0492 - dense_2_loss_21: 0.0489 - dense_2_loss_22: 0.0487 - dense_2_loss_23: 0.0498 - dense_2_loss_24: 0.0500 - dense_2_loss_25: 0.0545 - dense_2_loss_26: 0.0465 - dense_2_loss_27: 0.0518 - dense_2_loss_28: 0.0505 - dense_2_loss_29: 0.0548 - dense_2_loss_30: 0.0000e+00 - dense_2_acc_1: 0.0667 - dense_2_acc_2: 0.6167 - dense_2_acc_3: 0.9000 - dense_2_acc_4: 1.0000 - dense_2_acc_5: 0.9833 - dense_2_acc_6: 1.0000 - dense_2_acc_7: 1.0000 - dense_2_acc_8: 1.0000 - dense_2_acc_9: 1.0000 - dense_2_acc_10: 1.0000 - dense_2_acc_11: 1.0000 - dense_2_acc_12: 1.0000 - dense_2_acc_13: 1.0000 - dense_2_acc_14: 1.0000 - dense_2_acc_15: 1.0000 - dense_2_acc_16: 1.0000 - dense_2_acc_17: 1.0000 - dense_2_acc_18: 1.0000 - dense_2_acc_19: 1.0000 - dense_2_acc_20: 1.0000 - dense_2_acc_21: 1.0000 - dense_2_acc_22: 1.0000 - dense_2_acc_23: 1.0000 - dense_2_acc_24: 1.0000 - dense_2_acc_25: 1.0000 - dense_2_acc_26: 1.0000 - dense_2_acc_27: 1.0000 - dense_2_acc_28: 1.0000 - dense_2_acc_29: 1.0000 - dense_2_acc_30: 0.0333     \n",
      "Epoch 69/100\n",
      "60/60 [==============================] - 1s - loss: 7.3904 - dense_2_loss_1: 3.8283 - dense_2_loss_2: 1.5665 - dense_2_loss_3: 0.5200 - dense_2_loss_4: 0.1664 - dense_2_loss_5: 0.1118 - dense_2_loss_6: 0.0893 - dense_2_loss_7: 0.0624 - dense_2_loss_8: 0.0592 - dense_2_loss_9: 0.0582 - dense_2_loss_10: 0.0455 - dense_2_loss_11: 0.0468 - dense_2_loss_12: 0.0444 - dense_2_loss_13: 0.0383 - dense_2_loss_14: 0.0424 - dense_2_loss_15: 0.0449 - dense_2_loss_16: 0.0451 - dense_2_loss_17: 0.0439 - dense_2_loss_18: 0.0455 - dense_2_loss_19: 0.0454 - dense_2_loss_20: 0.0472 - dense_2_loss_21: 0.0471 - dense_2_loss_22: 0.0468 - dense_2_loss_23: 0.0479 - dense_2_loss_24: 0.0484 - dense_2_loss_25: 0.0523 - dense_2_loss_26: 0.0449 - dense_2_loss_27: 0.0499 - dense_2_loss_28: 0.0489 - dense_2_loss_29: 0.0529 - dense_2_loss_30: 0.0000e+00 - dense_2_acc_1: 0.0667 - dense_2_acc_2: 0.6167 - dense_2_acc_3: 0.9000 - dense_2_acc_4: 1.0000 - dense_2_acc_5: 1.0000 - dense_2_acc_6: 1.0000 - dense_2_acc_7: 1.0000 - dense_2_acc_8: 1.0000 - dense_2_acc_9: 1.0000 - dense_2_acc_10: 1.0000 - dense_2_acc_11: 1.0000 - dense_2_acc_12: 1.0000 - dense_2_acc_13: 1.0000 - dense_2_acc_14: 1.0000 - dense_2_acc_15: 1.0000 - dense_2_acc_16: 1.0000 - dense_2_acc_17: 1.0000 - dense_2_acc_18: 1.0000 - dense_2_acc_19: 1.0000 - dense_2_acc_20: 1.0000 - dense_2_acc_21: 1.0000 - dense_2_acc_22: 1.0000 - dense_2_acc_23: 1.0000 - dense_2_acc_24: 1.0000 - dense_2_acc_25: 1.0000 - dense_2_acc_26: 1.0000 - dense_2_acc_27: 1.0000 - dense_2_acc_28: 1.0000 - dense_2_acc_29: 1.0000 - dense_2_acc_30: 0.0333     \n",
      "Epoch 70/100\n",
      "60/60 [==============================] - 1s - loss: 7.3017 - dense_2_loss_1: 3.8249 - dense_2_loss_2: 1.5469 - dense_2_loss_3: 0.5077 - dense_2_loss_4: 0.1608 - dense_2_loss_5: 0.1076 - dense_2_loss_6: 0.0861 - dense_2_loss_7: 0.0602 - dense_2_loss_8: 0.0570 - dense_2_loss_9: 0.0560 - dense_2_loss_10: 0.0438 - dense_2_loss_11: 0.0448 - dense_2_loss_12: 0.0429 - dense_2_loss_13: 0.0368 - dense_2_loss_14: 0.0408 - dense_2_loss_15: 0.0432 - dense_2_loss_16: 0.0434 - dense_2_loss_17: 0.0423 - dense_2_loss_18: 0.0438 - dense_2_loss_19: 0.0436 - dense_2_loss_20: 0.0453 - dense_2_loss_21: 0.0456 - dense_2_loss_22: 0.0452 - dense_2_loss_23: 0.0461 - dense_2_loss_24: 0.0468 - dense_2_loss_25: 0.0504 - dense_2_loss_26: 0.0433 - dense_2_loss_27: 0.0482 - dense_2_loss_28: 0.0474 - dense_2_loss_29: 0.0510 - dense_2_loss_30: 0.0000e+00 - dense_2_acc_1: 0.0667 - dense_2_acc_2: 0.6167 - dense_2_acc_3: 0.9000 - dense_2_acc_4: 1.0000 - dense_2_acc_5: 1.0000 - dense_2_acc_6: 1.0000 - dense_2_acc_7: 1.0000 - dense_2_acc_8: 1.0000 - dense_2_acc_9: 1.0000 - dense_2_acc_10: 1.0000 - dense_2_acc_11: 1.0000 - dense_2_acc_12: 1.0000 - dense_2_acc_13: 1.0000 - dense_2_acc_14: 1.0000 - dense_2_acc_15: 1.0000 - dense_2_acc_16: 1.0000 - dense_2_acc_17: 1.0000 - dense_2_acc_18: 1.0000 - dense_2_acc_19: 1.0000 - dense_2_acc_20: 1.0000 - dense_2_acc_21: 1.0000 - dense_2_acc_22: 1.0000 - dense_2_acc_23: 1.0000 - dense_2_acc_24: 1.0000 - dense_2_acc_25: 1.0000 - dense_2_acc_26: 1.0000 - dense_2_acc_27: 1.0000 - dense_2_acc_28: 1.0000 - dense_2_acc_29: 1.0000 - dense_2_acc_30: 0.0333     \n",
      "Epoch 71/100\n"
     ]
    },
    {
     "name": "stdout",
     "output_type": "stream",
     "text": [
      "60/60 [==============================] - 1s - loss: 7.2187 - dense_2_loss_1: 3.8214 - dense_2_loss_2: 1.5291 - dense_2_loss_3: 0.4968 - dense_2_loss_4: 0.1550 - dense_2_loss_5: 0.1036 - dense_2_loss_6: 0.0832 - dense_2_loss_7: 0.0582 - dense_2_loss_8: 0.0551 - dense_2_loss_9: 0.0539 - dense_2_loss_10: 0.0424 - dense_2_loss_11: 0.0430 - dense_2_loss_12: 0.0414 - dense_2_loss_13: 0.0355 - dense_2_loss_14: 0.0393 - dense_2_loss_15: 0.0416 - dense_2_loss_16: 0.0418 - dense_2_loss_17: 0.0407 - dense_2_loss_18: 0.0422 - dense_2_loss_19: 0.0419 - dense_2_loss_20: 0.0436 - dense_2_loss_21: 0.0439 - dense_2_loss_22: 0.0436 - dense_2_loss_23: 0.0445 - dense_2_loss_24: 0.0451 - dense_2_loss_25: 0.0485 - dense_2_loss_26: 0.0417 - dense_2_loss_27: 0.0465 - dense_2_loss_28: 0.0457 - dense_2_loss_29: 0.0492 - dense_2_loss_30: 0.0000e+00 - dense_2_acc_1: 0.0667 - dense_2_acc_2: 0.6167 - dense_2_acc_3: 0.9000 - dense_2_acc_4: 1.0000 - dense_2_acc_5: 1.0000 - dense_2_acc_6: 1.0000 - dense_2_acc_7: 1.0000 - dense_2_acc_8: 1.0000 - dense_2_acc_9: 1.0000 - dense_2_acc_10: 1.0000 - dense_2_acc_11: 1.0000 - dense_2_acc_12: 1.0000 - dense_2_acc_13: 1.0000 - dense_2_acc_14: 1.0000 - dense_2_acc_15: 1.0000 - dense_2_acc_16: 1.0000 - dense_2_acc_17: 1.0000 - dense_2_acc_18: 1.0000 - dense_2_acc_19: 1.0000 - dense_2_acc_20: 1.0000 - dense_2_acc_21: 1.0000 - dense_2_acc_22: 1.0000 - dense_2_acc_23: 1.0000 - dense_2_acc_24: 1.0000 - dense_2_acc_25: 1.0000 - dense_2_acc_26: 1.0000 - dense_2_acc_27: 1.0000 - dense_2_acc_28: 1.0000 - dense_2_acc_29: 1.0000 - dense_2_acc_30: 0.0333     \n",
      "Epoch 72/100\n",
      "60/60 [==============================] - 1s - loss: 7.1389 - dense_2_loss_1: 3.8182 - dense_2_loss_2: 1.5105 - dense_2_loss_3: 0.4860 - dense_2_loss_4: 0.1502 - dense_2_loss_5: 0.1001 - dense_2_loss_6: 0.0805 - dense_2_loss_7: 0.0563 - dense_2_loss_8: 0.0533 - dense_2_loss_9: 0.0519 - dense_2_loss_10: 0.0409 - dense_2_loss_11: 0.0415 - dense_2_loss_12: 0.0399 - dense_2_loss_13: 0.0343 - dense_2_loss_14: 0.0379 - dense_2_loss_15: 0.0402 - dense_2_loss_16: 0.0403 - dense_2_loss_17: 0.0393 - dense_2_loss_18: 0.0407 - dense_2_loss_19: 0.0404 - dense_2_loss_20: 0.0421 - dense_2_loss_21: 0.0423 - dense_2_loss_22: 0.0421 - dense_2_loss_23: 0.0430 - dense_2_loss_24: 0.0435 - dense_2_loss_25: 0.0469 - dense_2_loss_26: 0.0402 - dense_2_loss_27: 0.0449 - dense_2_loss_28: 0.0437 - dense_2_loss_29: 0.0475 - dense_2_loss_30: 0.0000e+00 - dense_2_acc_1: 0.0667 - dense_2_acc_2: 0.6167 - dense_2_acc_3: 0.9000 - dense_2_acc_4: 1.0000 - dense_2_acc_5: 1.0000 - dense_2_acc_6: 1.0000 - dense_2_acc_7: 1.0000 - dense_2_acc_8: 1.0000 - dense_2_acc_9: 1.0000 - dense_2_acc_10: 1.0000 - dense_2_acc_11: 1.0000 - dense_2_acc_12: 1.0000 - dense_2_acc_13: 1.0000 - dense_2_acc_14: 1.0000 - dense_2_acc_15: 1.0000 - dense_2_acc_16: 1.0000 - dense_2_acc_17: 1.0000 - dense_2_acc_18: 1.0000 - dense_2_acc_19: 1.0000 - dense_2_acc_20: 1.0000 - dense_2_acc_21: 1.0000 - dense_2_acc_22: 1.0000 - dense_2_acc_23: 1.0000 - dense_2_acc_24: 1.0000 - dense_2_acc_25: 1.0000 - dense_2_acc_26: 1.0000 - dense_2_acc_27: 1.0000 - dense_2_acc_28: 1.0000 - dense_2_acc_29: 1.0000 - dense_2_acc_30: 0.0333     \n",
      "Epoch 73/100\n",
      "60/60 [==============================] - 1s - loss: 7.0649 - dense_2_loss_1: 3.8146 - dense_2_loss_2: 1.4934 - dense_2_loss_3: 0.4762 - dense_2_loss_4: 0.1455 - dense_2_loss_5: 0.0971 - dense_2_loss_6: 0.0781 - dense_2_loss_7: 0.0546 - dense_2_loss_8: 0.0516 - dense_2_loss_9: 0.0502 - dense_2_loss_10: 0.0395 - dense_2_loss_11: 0.0401 - dense_2_loss_12: 0.0385 - dense_2_loss_13: 0.0332 - dense_2_loss_14: 0.0366 - dense_2_loss_15: 0.0390 - dense_2_loss_16: 0.0390 - dense_2_loss_17: 0.0381 - dense_2_loss_18: 0.0393 - dense_2_loss_19: 0.0391 - dense_2_loss_20: 0.0408 - dense_2_loss_21: 0.0408 - dense_2_loss_22: 0.0407 - dense_2_loss_23: 0.0416 - dense_2_loss_24: 0.0419 - dense_2_loss_25: 0.0454 - dense_2_loss_26: 0.0388 - dense_2_loss_27: 0.0433 - dense_2_loss_28: 0.0420 - dense_2_loss_29: 0.0460 - dense_2_loss_30: 0.0000e+00 - dense_2_acc_1: 0.0667 - dense_2_acc_2: 0.6333 - dense_2_acc_3: 0.9000 - dense_2_acc_4: 1.0000 - dense_2_acc_5: 1.0000 - dense_2_acc_6: 1.0000 - dense_2_acc_7: 1.0000 - dense_2_acc_8: 1.0000 - dense_2_acc_9: 1.0000 - dense_2_acc_10: 1.0000 - dense_2_acc_11: 1.0000 - dense_2_acc_12: 1.0000 - dense_2_acc_13: 1.0000 - dense_2_acc_14: 1.0000 - dense_2_acc_15: 1.0000 - dense_2_acc_16: 1.0000 - dense_2_acc_17: 1.0000 - dense_2_acc_18: 1.0000 - dense_2_acc_19: 1.0000 - dense_2_acc_20: 1.0000 - dense_2_acc_21: 1.0000 - dense_2_acc_22: 1.0000 - dense_2_acc_23: 1.0000 - dense_2_acc_24: 1.0000 - dense_2_acc_25: 1.0000 - dense_2_acc_26: 1.0000 - dense_2_acc_27: 1.0000 - dense_2_acc_28: 1.0000 - dense_2_acc_29: 1.0000 - dense_2_acc_30: 0.0333     \n",
      "Epoch 74/100\n",
      "60/60 [==============================] - 1s - loss: 6.9912 - dense_2_loss_1: 3.8111 - dense_2_loss_2: 1.4767 - dense_2_loss_3: 0.4658 - dense_2_loss_4: 0.1403 - dense_2_loss_5: 0.0937 - dense_2_loss_6: 0.0756 - dense_2_loss_7: 0.0527 - dense_2_loss_8: 0.0499 - dense_2_loss_9: 0.0484 - dense_2_loss_10: 0.0381 - dense_2_loss_11: 0.0389 - dense_2_loss_12: 0.0372 - dense_2_loss_13: 0.0320 - dense_2_loss_14: 0.0354 - dense_2_loss_15: 0.0377 - dense_2_loss_16: 0.0377 - dense_2_loss_17: 0.0368 - dense_2_loss_18: 0.0379 - dense_2_loss_19: 0.0379 - dense_2_loss_20: 0.0394 - dense_2_loss_21: 0.0394 - dense_2_loss_22: 0.0394 - dense_2_loss_23: 0.0401 - dense_2_loss_24: 0.0404 - dense_2_loss_25: 0.0439 - dense_2_loss_26: 0.0377 - dense_2_loss_27: 0.0418 - dense_2_loss_28: 0.0407 - dense_2_loss_29: 0.0445 - dense_2_loss_30: 0.0000e+00 - dense_2_acc_1: 0.0667 - dense_2_acc_2: 0.6333 - dense_2_acc_3: 0.9000 - dense_2_acc_4: 1.0000 - dense_2_acc_5: 1.0000 - dense_2_acc_6: 1.0000 - dense_2_acc_7: 1.0000 - dense_2_acc_8: 1.0000 - dense_2_acc_9: 1.0000 - dense_2_acc_10: 1.0000 - dense_2_acc_11: 1.0000 - dense_2_acc_12: 1.0000 - dense_2_acc_13: 1.0000 - dense_2_acc_14: 1.0000 - dense_2_acc_15: 1.0000 - dense_2_acc_16: 1.0000 - dense_2_acc_17: 1.0000 - dense_2_acc_18: 1.0000 - dense_2_acc_19: 1.0000 - dense_2_acc_20: 1.0000 - dense_2_acc_21: 1.0000 - dense_2_acc_22: 1.0000 - dense_2_acc_23: 1.0000 - dense_2_acc_24: 1.0000 - dense_2_acc_25: 1.0000 - dense_2_acc_26: 1.0000 - dense_2_acc_27: 1.0000 - dense_2_acc_28: 1.0000 - dense_2_acc_29: 1.0000 - dense_2_acc_30: 0.0333         \n",
      "Epoch 75/100\n",
      "60/60 [==============================] - 1s - loss: 6.9232 - dense_2_loss_1: 3.8081 - dense_2_loss_2: 1.4601 - dense_2_loss_3: 0.4557 - dense_2_loss_4: 0.1363 - dense_2_loss_5: 0.0908 - dense_2_loss_6: 0.0734 - dense_2_loss_7: 0.0510 - dense_2_loss_8: 0.0483 - dense_2_loss_9: 0.0468 - dense_2_loss_10: 0.0369 - dense_2_loss_11: 0.0377 - dense_2_loss_12: 0.0360 - dense_2_loss_13: 0.0310 - dense_2_loss_14: 0.0344 - dense_2_loss_15: 0.0364 - dense_2_loss_16: 0.0365 - dense_2_loss_17: 0.0355 - dense_2_loss_18: 0.0367 - dense_2_loss_19: 0.0367 - dense_2_loss_20: 0.0382 - dense_2_loss_21: 0.0381 - dense_2_loss_22: 0.0382 - dense_2_loss_23: 0.0388 - dense_2_loss_24: 0.0391 - dense_2_loss_25: 0.0426 - dense_2_loss_26: 0.0365 - dense_2_loss_27: 0.0405 - dense_2_loss_28: 0.0397 - dense_2_loss_29: 0.0433 - dense_2_loss_30: 0.0000e+00 - dense_2_acc_1: 0.0667 - dense_2_acc_2: 0.6333 - dense_2_acc_3: 0.9000 - dense_2_acc_4: 1.0000 - dense_2_acc_5: 1.0000 - dense_2_acc_6: 1.0000 - dense_2_acc_7: 1.0000 - dense_2_acc_8: 1.0000 - dense_2_acc_9: 1.0000 - dense_2_acc_10: 1.0000 - dense_2_acc_11: 1.0000 - dense_2_acc_12: 1.0000 - dense_2_acc_13: 1.0000 - dense_2_acc_14: 1.0000 - dense_2_acc_15: 1.0000 - dense_2_acc_16: 1.0000 - dense_2_acc_17: 1.0000 - dense_2_acc_18: 1.0000 - dense_2_acc_19: 1.0000 - dense_2_acc_20: 1.0000 - dense_2_acc_21: 1.0000 - dense_2_acc_22: 1.0000 - dense_2_acc_23: 1.0000 - dense_2_acc_24: 1.0000 - dense_2_acc_25: 1.0000 - dense_2_acc_26: 1.0000 - dense_2_acc_27: 1.0000 - dense_2_acc_28: 1.0000 - dense_2_acc_29: 1.0000 - dense_2_acc_30: 0.0333     \n",
      "Epoch 76/100\n",
      "60/60 [==============================] - 1s - loss: 6.8577 - dense_2_loss_1: 3.8048 - dense_2_loss_2: 1.4443 - dense_2_loss_3: 0.4464 - dense_2_loss_4: 0.1322 - dense_2_loss_5: 0.0880 - dense_2_loss_6: 0.0714 - dense_2_loss_7: 0.0494 - dense_2_loss_8: 0.0468 - dense_2_loss_9: 0.0454 - dense_2_loss_10: 0.0357 - dense_2_loss_11: 0.0365 - dense_2_loss_12: 0.0349 - dense_2_loss_13: 0.0301 - dense_2_loss_14: 0.0333 - dense_2_loss_15: 0.0352 - dense_2_loss_16: 0.0354 - dense_2_loss_17: 0.0344 - dense_2_loss_18: 0.0356 - dense_2_loss_19: 0.0356 - dense_2_loss_20: 0.0369 - dense_2_loss_21: 0.0369 - dense_2_loss_22: 0.0370 - dense_2_loss_23: 0.0375 - dense_2_loss_24: 0.0379 - dense_2_loss_25: 0.0412 - dense_2_loss_26: 0.0354 - dense_2_loss_27: 0.0391 - dense_2_loss_28: 0.0387 - dense_2_loss_29: 0.0419 - dense_2_loss_30: 0.0000e+00 - dense_2_acc_1: 0.0667 - dense_2_acc_2: 0.6333 - dense_2_acc_3: 0.9000 - dense_2_acc_4: 1.0000 - dense_2_acc_5: 1.0000 - dense_2_acc_6: 1.0000 - dense_2_acc_7: 1.0000 - dense_2_acc_8: 1.0000 - dense_2_acc_9: 1.0000 - dense_2_acc_10: 1.0000 - dense_2_acc_11: 1.0000 - dense_2_acc_12: 1.0000 - dense_2_acc_13: 1.0000 - dense_2_acc_14: 1.0000 - dense_2_acc_15: 1.0000 - dense_2_acc_16: 1.0000 - dense_2_acc_17: 1.0000 - dense_2_acc_18: 1.0000 - dense_2_acc_19: 1.0000 - dense_2_acc_20: 1.0000 - dense_2_acc_21: 1.0000 - dense_2_acc_22: 1.0000 - dense_2_acc_23: 1.0000 - dense_2_acc_24: 1.0000 - dense_2_acc_25: 1.0000 - dense_2_acc_26: 1.0000 - dense_2_acc_27: 1.0000 - dense_2_acc_28: 1.0000 - dense_2_acc_29: 1.0000 - dense_2_acc_30: 0.0333     \n",
      "Epoch 77/100\n",
      "60/60 [==============================] - 1s - loss: 6.7964 - dense_2_loss_1: 3.8015 - dense_2_loss_2: 1.4289 - dense_2_loss_3: 0.4373 - dense_2_loss_4: 0.1288 - dense_2_loss_5: 0.0856 - dense_2_loss_6: 0.0695 - dense_2_loss_7: 0.0480 - dense_2_loss_8: 0.0455 - dense_2_loss_9: 0.0441 - dense_2_loss_10: 0.0346 - dense_2_loss_11: 0.0353 - dense_2_loss_12: 0.0339 - dense_2_loss_13: 0.0291 - dense_2_loss_14: 0.0324 - dense_2_loss_15: 0.0341 - dense_2_loss_16: 0.0343 - dense_2_loss_17: 0.0333 - dense_2_loss_18: 0.0345 - dense_2_loss_19: 0.0345 - dense_2_loss_20: 0.0358 - dense_2_loss_21: 0.0358 - dense_2_loss_22: 0.0359 - dense_2_loss_23: 0.0364 - dense_2_loss_24: 0.0367 - dense_2_loss_25: 0.0400 - dense_2_loss_26: 0.0344 - dense_2_loss_27: 0.0379 - dense_2_loss_28: 0.0374 - dense_2_loss_29: 0.0406 - dense_2_loss_30: 0.0000e+00 - dense_2_acc_1: 0.0667 - dense_2_acc_2: 0.6333 - dense_2_acc_3: 0.9000 - dense_2_acc_4: 1.0000 - dense_2_acc_5: 1.0000 - dense_2_acc_6: 1.0000 - dense_2_acc_7: 1.0000 - dense_2_acc_8: 1.0000 - dense_2_acc_9: 1.0000 - dense_2_acc_10: 1.0000 - dense_2_acc_11: 1.0000 - dense_2_acc_12: 1.0000 - dense_2_acc_13: 1.0000 - dense_2_acc_14: 1.0000 - dense_2_acc_15: 1.0000 - dense_2_acc_16: 1.0000 - dense_2_acc_17: 1.0000 - dense_2_acc_18: 1.0000 - dense_2_acc_19: 1.0000 - dense_2_acc_20: 1.0000 - dense_2_acc_21: 1.0000 - dense_2_acc_22: 1.0000 - dense_2_acc_23: 1.0000 - dense_2_acc_24: 1.0000 - dense_2_acc_25: 1.0000 - dense_2_acc_26: 1.0000 - dense_2_acc_27: 1.0000 - dense_2_acc_28: 1.0000 - dense_2_acc_29: 1.0000 - dense_2_acc_30: 0.0333         \n",
      "Epoch 78/100\n",
      "60/60 [==============================] - 1s - loss: 6.7358 - dense_2_loss_1: 3.7981 - dense_2_loss_2: 1.4135 - dense_2_loss_3: 0.4289 - dense_2_loss_4: 0.1251 - dense_2_loss_5: 0.0831 - dense_2_loss_6: 0.0675 - dense_2_loss_7: 0.0465 - dense_2_loss_8: 0.0442 - dense_2_loss_9: 0.0428 - dense_2_loss_10: 0.0336 - dense_2_loss_11: 0.0341 - dense_2_loss_12: 0.0329 - dense_2_loss_13: 0.0283 - dense_2_loss_14: 0.0315 - dense_2_loss_15: 0.0330 - dense_2_loss_16: 0.0333 - dense_2_loss_17: 0.0323 - dense_2_loss_18: 0.0335 - dense_2_loss_19: 0.0333 - dense_2_loss_20: 0.0348 - dense_2_loss_21: 0.0348 - dense_2_loss_22: 0.0348 - dense_2_loss_23: 0.0353 - dense_2_loss_24: 0.0356 - dense_2_loss_25: 0.0388 - dense_2_loss_26: 0.0335 - dense_2_loss_27: 0.0369 - dense_2_loss_28: 0.0363 - dense_2_loss_29: 0.0394 - dense_2_loss_30: 0.0000e+00 - dense_2_acc_1: 0.0667 - dense_2_acc_2: 0.6333 - dense_2_acc_3: 0.9000 - dense_2_acc_4: 1.0000 - dense_2_acc_5: 1.0000 - dense_2_acc_6: 1.0000 - dense_2_acc_7: 1.0000 - dense_2_acc_8: 1.0000 - dense_2_acc_9: 1.0000 - dense_2_acc_10: 1.0000 - dense_2_acc_11: 1.0000 - dense_2_acc_12: 1.0000 - dense_2_acc_13: 1.0000 - dense_2_acc_14: 1.0000 - dense_2_acc_15: 1.0000 - dense_2_acc_16: 1.0000 - dense_2_acc_17: 1.0000 - dense_2_acc_18: 1.0000 - dense_2_acc_19: 1.0000 - dense_2_acc_20: 1.0000 - dense_2_acc_21: 1.0000 - dense_2_acc_22: 1.0000 - dense_2_acc_23: 1.0000 - dense_2_acc_24: 1.0000 - dense_2_acc_25: 1.0000 - dense_2_acc_26: 1.0000 - dense_2_acc_27: 1.0000 - dense_2_acc_28: 1.0000 - dense_2_acc_29: 1.0000 - dense_2_acc_30: 0.0333         \n",
      "Epoch 79/100\n",
      "60/60 [==============================] - 1s - loss: 6.6768 - dense_2_loss_1: 3.7953 - dense_2_loss_2: 1.3989 - dense_2_loss_3: 0.4193 - dense_2_loss_4: 0.1214 - dense_2_loss_5: 0.0807 - dense_2_loss_6: 0.0655 - dense_2_loss_7: 0.0450 - dense_2_loss_8: 0.0429 - dense_2_loss_9: 0.0414 - dense_2_loss_10: 0.0326 - dense_2_loss_11: 0.0331 - dense_2_loss_12: 0.0319 - dense_2_loss_13: 0.0274 - dense_2_loss_14: 0.0307 - dense_2_loss_15: 0.0321 - dense_2_loss_16: 0.0324 - dense_2_loss_17: 0.0314 - dense_2_loss_18: 0.0326 - dense_2_loss_19: 0.0322 - dense_2_loss_20: 0.0338 - dense_2_loss_21: 0.0339 - dense_2_loss_22: 0.0339 - dense_2_loss_23: 0.0343 - dense_2_loss_24: 0.0346 - dense_2_loss_25: 0.0377 - dense_2_loss_26: 0.0326 - dense_2_loss_27: 0.0359 - dense_2_loss_28: 0.0351 - dense_2_loss_29: 0.0383 - dense_2_loss_30: 0.0000e+00 - dense_2_acc_1: 0.0667 - dense_2_acc_2: 0.6333 - dense_2_acc_3: 0.9000 - dense_2_acc_4: 1.0000 - dense_2_acc_5: 1.0000 - dense_2_acc_6: 1.0000 - dense_2_acc_7: 1.0000 - dense_2_acc_8: 1.0000 - dense_2_acc_9: 1.0000 - dense_2_acc_10: 1.0000 - dense_2_acc_11: 1.0000 - dense_2_acc_12: 1.0000 - dense_2_acc_13: 1.0000 - dense_2_acc_14: 1.0000 - dense_2_acc_15: 1.0000 - dense_2_acc_16: 1.0000 - dense_2_acc_17: 1.0000 - dense_2_acc_18: 1.0000 - dense_2_acc_19: 1.0000 - dense_2_acc_20: 1.0000 - dense_2_acc_21: 1.0000 - dense_2_acc_22: 1.0000 - dense_2_acc_23: 1.0000 - dense_2_acc_24: 1.0000 - dense_2_acc_25: 1.0000 - dense_2_acc_26: 1.0000 - dense_2_acc_27: 1.0000 - dense_2_acc_28: 1.0000 - dense_2_acc_29: 1.0000 - dense_2_acc_30: 0.0333     \n",
      "Epoch 80/100\n",
      "60/60 [==============================] - 1s - loss: 6.6216 - dense_2_loss_1: 3.7919 - dense_2_loss_2: 1.3841 - dense_2_loss_3: 0.4114 - dense_2_loss_4: 0.1185 - dense_2_loss_5: 0.0787 - dense_2_loss_6: 0.0638 - dense_2_loss_7: 0.0438 - dense_2_loss_8: 0.0417 - dense_2_loss_9: 0.0403 - dense_2_loss_10: 0.0316 - dense_2_loss_11: 0.0322 - dense_2_loss_12: 0.0310 - dense_2_loss_13: 0.0266 - dense_2_loss_14: 0.0298 - dense_2_loss_15: 0.0312 - dense_2_loss_16: 0.0314 - dense_2_loss_17: 0.0305 - dense_2_loss_18: 0.0316 - dense_2_loss_19: 0.0313 - dense_2_loss_20: 0.0329 - dense_2_loss_21: 0.0329 - dense_2_loss_22: 0.0329 - dense_2_loss_23: 0.0333 - dense_2_loss_24: 0.0336 - dense_2_loss_25: 0.0367 - dense_2_loss_26: 0.0316 - dense_2_loss_27: 0.0349 - dense_2_loss_28: 0.0339 - dense_2_loss_29: 0.0372 - dense_2_loss_30: 0.0000e+00 - dense_2_acc_1: 0.0667 - dense_2_acc_2: 0.6333 - dense_2_acc_3: 0.9000 - dense_2_acc_4: 1.0000 - dense_2_acc_5: 1.0000 - dense_2_acc_6: 1.0000 - dense_2_acc_7: 1.0000 - dense_2_acc_8: 1.0000 - dense_2_acc_9: 1.0000 - dense_2_acc_10: 1.0000 - dense_2_acc_11: 1.0000 - dense_2_acc_12: 1.0000 - dense_2_acc_13: 1.0000 - dense_2_acc_14: 1.0000 - dense_2_acc_15: 1.0000 - dense_2_acc_16: 1.0000 - dense_2_acc_17: 1.0000 - dense_2_acc_18: 1.0000 - dense_2_acc_19: 1.0000 - dense_2_acc_20: 1.0000 - dense_2_acc_21: 1.0000 - dense_2_acc_22: 1.0000 - dense_2_acc_23: 1.0000 - dense_2_acc_24: 1.0000 - dense_2_acc_25: 1.0000 - dense_2_acc_26: 1.0000 - dense_2_acc_27: 1.0000 - dense_2_acc_28: 1.0000 - dense_2_acc_29: 1.0000 - dense_2_acc_30: 0.0333     \n",
      "Epoch 81/100\n"
     ]
    },
    {
     "name": "stdout",
     "output_type": "stream",
     "text": [
      "60/60 [==============================] - 1s - loss: 6.5683 - dense_2_loss_1: 3.7889 - dense_2_loss_2: 1.3701 - dense_2_loss_3: 0.4033 - dense_2_loss_4: 0.1155 - dense_2_loss_5: 0.0764 - dense_2_loss_6: 0.0619 - dense_2_loss_7: 0.0426 - dense_2_loss_8: 0.0405 - dense_2_loss_9: 0.0390 - dense_2_loss_10: 0.0307 - dense_2_loss_11: 0.0315 - dense_2_loss_12: 0.0302 - dense_2_loss_13: 0.0258 - dense_2_loss_14: 0.0288 - dense_2_loss_15: 0.0304 - dense_2_loss_16: 0.0305 - dense_2_loss_17: 0.0296 - dense_2_loss_18: 0.0307 - dense_2_loss_19: 0.0305 - dense_2_loss_20: 0.0320 - dense_2_loss_21: 0.0320 - dense_2_loss_22: 0.0320 - dense_2_loss_23: 0.0323 - dense_2_loss_24: 0.0327 - dense_2_loss_25: 0.0357 - dense_2_loss_26: 0.0308 - dense_2_loss_27: 0.0340 - dense_2_loss_28: 0.0332 - dense_2_loss_29: 0.0364 - dense_2_loss_30: 0.0000e+00 - dense_2_acc_1: 0.0667 - dense_2_acc_2: 0.6333 - dense_2_acc_3: 0.9000 - dense_2_acc_4: 1.0000 - dense_2_acc_5: 1.0000 - dense_2_acc_6: 1.0000 - dense_2_acc_7: 1.0000 - dense_2_acc_8: 1.0000 - dense_2_acc_9: 1.0000 - dense_2_acc_10: 1.0000 - dense_2_acc_11: 1.0000 - dense_2_acc_12: 1.0000 - dense_2_acc_13: 1.0000 - dense_2_acc_14: 1.0000 - dense_2_acc_15: 1.0000 - dense_2_acc_16: 1.0000 - dense_2_acc_17: 1.0000 - dense_2_acc_18: 1.0000 - dense_2_acc_19: 1.0000 - dense_2_acc_20: 1.0000 - dense_2_acc_21: 1.0000 - dense_2_acc_22: 1.0000 - dense_2_acc_23: 1.0000 - dense_2_acc_24: 1.0000 - dense_2_acc_25: 1.0000 - dense_2_acc_26: 1.0000 - dense_2_acc_27: 1.0000 - dense_2_acc_28: 1.0000 - dense_2_acc_29: 1.0000 - dense_2_acc_30: 0.0333     \n",
      "Epoch 82/100\n",
      "60/60 [==============================] - 1s - loss: 6.5181 - dense_2_loss_1: 3.7857 - dense_2_loss_2: 1.3567 - dense_2_loss_3: 0.3960 - dense_2_loss_4: 0.1127 - dense_2_loss_5: 0.0747 - dense_2_loss_6: 0.0605 - dense_2_loss_7: 0.0415 - dense_2_loss_8: 0.0395 - dense_2_loss_9: 0.0380 - dense_2_loss_10: 0.0299 - dense_2_loss_11: 0.0307 - dense_2_loss_12: 0.0294 - dense_2_loss_13: 0.0251 - dense_2_loss_14: 0.0280 - dense_2_loss_15: 0.0296 - dense_2_loss_16: 0.0298 - dense_2_loss_17: 0.0288 - dense_2_loss_18: 0.0298 - dense_2_loss_19: 0.0298 - dense_2_loss_20: 0.0312 - dense_2_loss_21: 0.0311 - dense_2_loss_22: 0.0310 - dense_2_loss_23: 0.0315 - dense_2_loss_24: 0.0319 - dense_2_loss_25: 0.0346 - dense_2_loss_26: 0.0300 - dense_2_loss_27: 0.0330 - dense_2_loss_28: 0.0324 - dense_2_loss_29: 0.0353 - dense_2_loss_30: 0.0000e+00 - dense_2_acc_1: 0.0667 - dense_2_acc_2: 0.6333 - dense_2_acc_3: 0.9167 - dense_2_acc_4: 1.0000 - dense_2_acc_5: 1.0000 - dense_2_acc_6: 1.0000 - dense_2_acc_7: 1.0000 - dense_2_acc_8: 1.0000 - dense_2_acc_9: 1.0000 - dense_2_acc_10: 1.0000 - dense_2_acc_11: 1.0000 - dense_2_acc_12: 1.0000 - dense_2_acc_13: 1.0000 - dense_2_acc_14: 1.0000 - dense_2_acc_15: 1.0000 - dense_2_acc_16: 1.0000 - dense_2_acc_17: 1.0000 - dense_2_acc_18: 1.0000 - dense_2_acc_19: 1.0000 - dense_2_acc_20: 1.0000 - dense_2_acc_21: 1.0000 - dense_2_acc_22: 1.0000 - dense_2_acc_23: 1.0000 - dense_2_acc_24: 1.0000 - dense_2_acc_25: 1.0000 - dense_2_acc_26: 1.0000 - dense_2_acc_27: 1.0000 - dense_2_acc_28: 1.0000 - dense_2_acc_29: 1.0000 - dense_2_acc_30: 0.0333     \n",
      "Epoch 83/100\n",
      "60/60 [==============================] - 1s - loss: 6.4669 - dense_2_loss_1: 3.7827 - dense_2_loss_2: 1.3426 - dense_2_loss_3: 0.3879 - dense_2_loss_4: 0.1099 - dense_2_loss_5: 0.0727 - dense_2_loss_6: 0.0588 - dense_2_loss_7: 0.0404 - dense_2_loss_8: 0.0384 - dense_2_loss_9: 0.0370 - dense_2_loss_10: 0.0291 - dense_2_loss_11: 0.0299 - dense_2_loss_12: 0.0287 - dense_2_loss_13: 0.0245 - dense_2_loss_14: 0.0273 - dense_2_loss_15: 0.0288 - dense_2_loss_16: 0.0290 - dense_2_loss_17: 0.0280 - dense_2_loss_18: 0.0290 - dense_2_loss_19: 0.0291 - dense_2_loss_20: 0.0303 - dense_2_loss_21: 0.0303 - dense_2_loss_22: 0.0302 - dense_2_loss_23: 0.0306 - dense_2_loss_24: 0.0310 - dense_2_loss_25: 0.0336 - dense_2_loss_26: 0.0292 - dense_2_loss_27: 0.0321 - dense_2_loss_28: 0.0315 - dense_2_loss_29: 0.0344 - dense_2_loss_30: 0.0000e+00 - dense_2_acc_1: 0.0667 - dense_2_acc_2: 0.6333 - dense_2_acc_3: 0.9167 - dense_2_acc_4: 1.0000 - dense_2_acc_5: 1.0000 - dense_2_acc_6: 1.0000 - dense_2_acc_7: 1.0000 - dense_2_acc_8: 1.0000 - dense_2_acc_9: 1.0000 - dense_2_acc_10: 1.0000 - dense_2_acc_11: 1.0000 - dense_2_acc_12: 1.0000 - dense_2_acc_13: 1.0000 - dense_2_acc_14: 1.0000 - dense_2_acc_15: 1.0000 - dense_2_acc_16: 1.0000 - dense_2_acc_17: 1.0000 - dense_2_acc_18: 1.0000 - dense_2_acc_19: 1.0000 - dense_2_acc_20: 1.0000 - dense_2_acc_21: 1.0000 - dense_2_acc_22: 1.0000 - dense_2_acc_23: 1.0000 - dense_2_acc_24: 1.0000 - dense_2_acc_25: 1.0000 - dense_2_acc_26: 1.0000 - dense_2_acc_27: 1.0000 - dense_2_acc_28: 1.0000 - dense_2_acc_29: 1.0000 - dense_2_acc_30: 0.0333     \n",
      "Epoch 84/100\n",
      "60/60 [==============================] - 1s - loss: 6.4194 - dense_2_loss_1: 3.7796 - dense_2_loss_2: 1.3292 - dense_2_loss_3: 0.3808 - dense_2_loss_4: 0.1073 - dense_2_loss_5: 0.0710 - dense_2_loss_6: 0.0574 - dense_2_loss_7: 0.0395 - dense_2_loss_8: 0.0375 - dense_2_loss_9: 0.0361 - dense_2_loss_10: 0.0283 - dense_2_loss_11: 0.0291 - dense_2_loss_12: 0.0280 - dense_2_loss_13: 0.0238 - dense_2_loss_14: 0.0266 - dense_2_loss_15: 0.0280 - dense_2_loss_16: 0.0282 - dense_2_loss_17: 0.0273 - dense_2_loss_18: 0.0282 - dense_2_loss_19: 0.0283 - dense_2_loss_20: 0.0295 - dense_2_loss_21: 0.0295 - dense_2_loss_22: 0.0294 - dense_2_loss_23: 0.0298 - dense_2_loss_24: 0.0303 - dense_2_loss_25: 0.0328 - dense_2_loss_26: 0.0285 - dense_2_loss_27: 0.0313 - dense_2_loss_28: 0.0307 - dense_2_loss_29: 0.0335 - dense_2_loss_30: 0.0000e+00 - dense_2_acc_1: 0.0667 - dense_2_acc_2: 0.6333 - dense_2_acc_3: 0.9333 - dense_2_acc_4: 1.0000 - dense_2_acc_5: 1.0000 - dense_2_acc_6: 1.0000 - dense_2_acc_7: 1.0000 - dense_2_acc_8: 1.0000 - dense_2_acc_9: 1.0000 - dense_2_acc_10: 1.0000 - dense_2_acc_11: 1.0000 - dense_2_acc_12: 1.0000 - dense_2_acc_13: 1.0000 - dense_2_acc_14: 1.0000 - dense_2_acc_15: 1.0000 - dense_2_acc_16: 1.0000 - dense_2_acc_17: 1.0000 - dense_2_acc_18: 1.0000 - dense_2_acc_19: 1.0000 - dense_2_acc_20: 1.0000 - dense_2_acc_21: 1.0000 - dense_2_acc_22: 1.0000 - dense_2_acc_23: 1.0000 - dense_2_acc_24: 1.0000 - dense_2_acc_25: 1.0000 - dense_2_acc_26: 1.0000 - dense_2_acc_27: 1.0000 - dense_2_acc_28: 1.0000 - dense_2_acc_29: 1.0000 - dense_2_acc_30: 0.0333     \n",
      "Epoch 85/100\n",
      "60/60 [==============================] - 1s - loss: 6.3729 - dense_2_loss_1: 3.7765 - dense_2_loss_2: 1.3167 - dense_2_loss_3: 0.3730 - dense_2_loss_4: 0.1048 - dense_2_loss_5: 0.0692 - dense_2_loss_6: 0.0559 - dense_2_loss_7: 0.0385 - dense_2_loss_8: 0.0366 - dense_2_loss_9: 0.0352 - dense_2_loss_10: 0.0276 - dense_2_loss_11: 0.0282 - dense_2_loss_12: 0.0273 - dense_2_loss_13: 0.0233 - dense_2_loss_14: 0.0260 - dense_2_loss_15: 0.0272 - dense_2_loss_16: 0.0276 - dense_2_loss_17: 0.0266 - dense_2_loss_18: 0.0275 - dense_2_loss_19: 0.0275 - dense_2_loss_20: 0.0288 - dense_2_loss_21: 0.0288 - dense_2_loss_22: 0.0287 - dense_2_loss_23: 0.0290 - dense_2_loss_24: 0.0295 - dense_2_loss_25: 0.0320 - dense_2_loss_26: 0.0279 - dense_2_loss_27: 0.0305 - dense_2_loss_28: 0.0299 - dense_2_loss_29: 0.0327 - dense_2_loss_30: 0.0000e+00 - dense_2_acc_1: 0.0667 - dense_2_acc_2: 0.6333 - dense_2_acc_3: 0.9333 - dense_2_acc_4: 1.0000 - dense_2_acc_5: 1.0000 - dense_2_acc_6: 1.0000 - dense_2_acc_7: 1.0000 - dense_2_acc_8: 1.0000 - dense_2_acc_9: 1.0000 - dense_2_acc_10: 1.0000 - dense_2_acc_11: 1.0000 - dense_2_acc_12: 1.0000 - dense_2_acc_13: 1.0000 - dense_2_acc_14: 1.0000 - dense_2_acc_15: 1.0000 - dense_2_acc_16: 1.0000 - dense_2_acc_17: 1.0000 - dense_2_acc_18: 1.0000 - dense_2_acc_19: 1.0000 - dense_2_acc_20: 1.0000 - dense_2_acc_21: 1.0000 - dense_2_acc_22: 1.0000 - dense_2_acc_23: 1.0000 - dense_2_acc_24: 1.0000 - dense_2_acc_25: 1.0000 - dense_2_acc_26: 1.0000 - dense_2_acc_27: 1.0000 - dense_2_acc_28: 1.0000 - dense_2_acc_29: 1.0000 - dense_2_acc_30: 0.0333     \n",
      "Epoch 86/100\n",
      "60/60 [==============================] - 1s - loss: 6.3291 - dense_2_loss_1: 3.7737 - dense_2_loss_2: 1.3037 - dense_2_loss_3: 0.3667 - dense_2_loss_4: 0.1024 - dense_2_loss_5: 0.0676 - dense_2_loss_6: 0.0547 - dense_2_loss_7: 0.0375 - dense_2_loss_8: 0.0357 - dense_2_loss_9: 0.0344 - dense_2_loss_10: 0.0270 - dense_2_loss_11: 0.0275 - dense_2_loss_12: 0.0266 - dense_2_loss_13: 0.0227 - dense_2_loss_14: 0.0253 - dense_2_loss_15: 0.0266 - dense_2_loss_16: 0.0269 - dense_2_loss_17: 0.0260 - dense_2_loss_18: 0.0268 - dense_2_loss_19: 0.0269 - dense_2_loss_20: 0.0280 - dense_2_loss_21: 0.0281 - dense_2_loss_22: 0.0280 - dense_2_loss_23: 0.0283 - dense_2_loss_24: 0.0288 - dense_2_loss_25: 0.0312 - dense_2_loss_26: 0.0272 - dense_2_loss_27: 0.0297 - dense_2_loss_28: 0.0291 - dense_2_loss_29: 0.0319 - dense_2_loss_30: 0.0000e+00 - dense_2_acc_1: 0.0667 - dense_2_acc_2: 0.6333 - dense_2_acc_3: 0.9333 - dense_2_acc_4: 1.0000 - dense_2_acc_5: 1.0000 - dense_2_acc_6: 1.0000 - dense_2_acc_7: 1.0000 - dense_2_acc_8: 1.0000 - dense_2_acc_9: 1.0000 - dense_2_acc_10: 1.0000 - dense_2_acc_11: 1.0000 - dense_2_acc_12: 1.0000 - dense_2_acc_13: 1.0000 - dense_2_acc_14: 1.0000 - dense_2_acc_15: 1.0000 - dense_2_acc_16: 1.0000 - dense_2_acc_17: 1.0000 - dense_2_acc_18: 1.0000 - dense_2_acc_19: 1.0000 - dense_2_acc_20: 1.0000 - dense_2_acc_21: 1.0000 - dense_2_acc_22: 1.0000 - dense_2_acc_23: 1.0000 - dense_2_acc_24: 1.0000 - dense_2_acc_25: 1.0000 - dense_2_acc_26: 1.0000 - dense_2_acc_27: 1.0000 - dense_2_acc_28: 1.0000 - dense_2_acc_29: 1.0000 - dense_2_acc_30: 0.0333     \n",
      "Epoch 87/100\n",
      "60/60 [==============================] - 1s - loss: 6.2874 - dense_2_loss_1: 3.7703 - dense_2_loss_2: 1.2922 - dense_2_loss_3: 0.3603 - dense_2_loss_4: 0.1002 - dense_2_loss_5: 0.0662 - dense_2_loss_6: 0.0535 - dense_2_loss_7: 0.0367 - dense_2_loss_8: 0.0349 - dense_2_loss_9: 0.0336 - dense_2_loss_10: 0.0263 - dense_2_loss_11: 0.0268 - dense_2_loss_12: 0.0260 - dense_2_loss_13: 0.0222 - dense_2_loss_14: 0.0247 - dense_2_loss_15: 0.0260 - dense_2_loss_16: 0.0262 - dense_2_loss_17: 0.0253 - dense_2_loss_18: 0.0262 - dense_2_loss_19: 0.0262 - dense_2_loss_20: 0.0274 - dense_2_loss_21: 0.0274 - dense_2_loss_22: 0.0273 - dense_2_loss_23: 0.0276 - dense_2_loss_24: 0.0281 - dense_2_loss_25: 0.0305 - dense_2_loss_26: 0.0265 - dense_2_loss_27: 0.0290 - dense_2_loss_28: 0.0284 - dense_2_loss_29: 0.0312 - dense_2_loss_30: 0.0000e+00 - dense_2_acc_1: 0.0667 - dense_2_acc_2: 0.6333 - dense_2_acc_3: 0.9333 - dense_2_acc_4: 1.0000 - dense_2_acc_5: 1.0000 - dense_2_acc_6: 1.0000 - dense_2_acc_7: 1.0000 - dense_2_acc_8: 1.0000 - dense_2_acc_9: 1.0000 - dense_2_acc_10: 1.0000 - dense_2_acc_11: 1.0000 - dense_2_acc_12: 1.0000 - dense_2_acc_13: 1.0000 - dense_2_acc_14: 1.0000 - dense_2_acc_15: 1.0000 - dense_2_acc_16: 1.0000 - dense_2_acc_17: 1.0000 - dense_2_acc_18: 1.0000 - dense_2_acc_19: 1.0000 - dense_2_acc_20: 1.0000 - dense_2_acc_21: 1.0000 - dense_2_acc_22: 1.0000 - dense_2_acc_23: 1.0000 - dense_2_acc_24: 1.0000 - dense_2_acc_25: 1.0000 - dense_2_acc_26: 1.0000 - dense_2_acc_27: 1.0000 - dense_2_acc_28: 1.0000 - dense_2_acc_29: 1.0000 - dense_2_acc_30: 0.0333         \n",
      "Epoch 88/100\n",
      "60/60 [==============================] - 1s - loss: 6.2451 - dense_2_loss_1: 3.7673 - dense_2_loss_2: 1.2797 - dense_2_loss_3: 0.3537 - dense_2_loss_4: 0.0982 - dense_2_loss_5: 0.0646 - dense_2_loss_6: 0.0523 - dense_2_loss_7: 0.0358 - dense_2_loss_8: 0.0341 - dense_2_loss_9: 0.0328 - dense_2_loss_10: 0.0257 - dense_2_loss_11: 0.0262 - dense_2_loss_12: 0.0254 - dense_2_loss_13: 0.0217 - dense_2_loss_14: 0.0240 - dense_2_loss_15: 0.0254 - dense_2_loss_16: 0.0256 - dense_2_loss_17: 0.0246 - dense_2_loss_18: 0.0256 - dense_2_loss_19: 0.0256 - dense_2_loss_20: 0.0268 - dense_2_loss_21: 0.0267 - dense_2_loss_22: 0.0266 - dense_2_loss_23: 0.0269 - dense_2_loss_24: 0.0274 - dense_2_loss_25: 0.0297 - dense_2_loss_26: 0.0259 - dense_2_loss_27: 0.0283 - dense_2_loss_28: 0.0277 - dense_2_loss_29: 0.0305 - dense_2_loss_30: 0.0000e+00 - dense_2_acc_1: 0.0667 - dense_2_acc_2: 0.6333 - dense_2_acc_3: 0.9333 - dense_2_acc_4: 1.0000 - dense_2_acc_5: 1.0000 - dense_2_acc_6: 1.0000 - dense_2_acc_7: 1.0000 - dense_2_acc_8: 1.0000 - dense_2_acc_9: 1.0000 - dense_2_acc_10: 1.0000 - dense_2_acc_11: 1.0000 - dense_2_acc_12: 1.0000 - dense_2_acc_13: 1.0000 - dense_2_acc_14: 1.0000 - dense_2_acc_15: 1.0000 - dense_2_acc_16: 1.0000 - dense_2_acc_17: 1.0000 - dense_2_acc_18: 1.0000 - dense_2_acc_19: 1.0000 - dense_2_acc_20: 1.0000 - dense_2_acc_21: 1.0000 - dense_2_acc_22: 1.0000 - dense_2_acc_23: 1.0000 - dense_2_acc_24: 1.0000 - dense_2_acc_25: 1.0000 - dense_2_acc_26: 1.0000 - dense_2_acc_27: 1.0000 - dense_2_acc_28: 1.0000 - dense_2_acc_29: 1.0000 - dense_2_acc_30: 0.0333     \n",
      "Epoch 89/100\n",
      "60/60 [==============================] - 1s - loss: 6.2041 - dense_2_loss_1: 3.7643 - dense_2_loss_2: 1.2676 - dense_2_loss_3: 0.3474 - dense_2_loss_4: 0.0958 - dense_2_loss_5: 0.0631 - dense_2_loss_6: 0.0510 - dense_2_loss_7: 0.0350 - dense_2_loss_8: 0.0333 - dense_2_loss_9: 0.0320 - dense_2_loss_10: 0.0252 - dense_2_loss_11: 0.0256 - dense_2_loss_12: 0.0248 - dense_2_loss_13: 0.0212 - dense_2_loss_14: 0.0234 - dense_2_loss_15: 0.0248 - dense_2_loss_16: 0.0250 - dense_2_loss_17: 0.0241 - dense_2_loss_18: 0.0250 - dense_2_loss_19: 0.0250 - dense_2_loss_20: 0.0262 - dense_2_loss_21: 0.0261 - dense_2_loss_22: 0.0260 - dense_2_loss_23: 0.0263 - dense_2_loss_24: 0.0268 - dense_2_loss_25: 0.0291 - dense_2_loss_26: 0.0253 - dense_2_loss_27: 0.0277 - dense_2_loss_28: 0.0272 - dense_2_loss_29: 0.0298 - dense_2_loss_30: 0.0000e+00 - dense_2_acc_1: 0.0667 - dense_2_acc_2: 0.6333 - dense_2_acc_3: 0.9333 - dense_2_acc_4: 1.0000 - dense_2_acc_5: 1.0000 - dense_2_acc_6: 1.0000 - dense_2_acc_7: 1.0000 - dense_2_acc_8: 1.0000 - dense_2_acc_9: 1.0000 - dense_2_acc_10: 1.0000 - dense_2_acc_11: 1.0000 - dense_2_acc_12: 1.0000 - dense_2_acc_13: 1.0000 - dense_2_acc_14: 1.0000 - dense_2_acc_15: 1.0000 - dense_2_acc_16: 1.0000 - dense_2_acc_17: 1.0000 - dense_2_acc_18: 1.0000 - dense_2_acc_19: 1.0000 - dense_2_acc_20: 1.0000 - dense_2_acc_21: 1.0000 - dense_2_acc_22: 1.0000 - dense_2_acc_23: 1.0000 - dense_2_acc_24: 1.0000 - dense_2_acc_25: 1.0000 - dense_2_acc_26: 1.0000 - dense_2_acc_27: 1.0000 - dense_2_acc_28: 1.0000 - dense_2_acc_29: 1.0000 - dense_2_acc_30: 0.0333     \n",
      "Epoch 90/100\n",
      "60/60 [==============================] - 1s - loss: 6.1663 - dense_2_loss_1: 3.7614 - dense_2_loss_2: 1.2567 - dense_2_loss_3: 0.3413 - dense_2_loss_4: 0.0938 - dense_2_loss_5: 0.0620 - dense_2_loss_6: 0.0500 - dense_2_loss_7: 0.0342 - dense_2_loss_8: 0.0326 - dense_2_loss_9: 0.0313 - dense_2_loss_10: 0.0246 - dense_2_loss_11: 0.0250 - dense_2_loss_12: 0.0242 - dense_2_loss_13: 0.0207 - dense_2_loss_14: 0.0229 - dense_2_loss_15: 0.0243 - dense_2_loss_16: 0.0244 - dense_2_loss_17: 0.0235 - dense_2_loss_18: 0.0244 - dense_2_loss_19: 0.0245 - dense_2_loss_20: 0.0256 - dense_2_loss_21: 0.0255 - dense_2_loss_22: 0.0255 - dense_2_loss_23: 0.0257 - dense_2_loss_24: 0.0262 - dense_2_loss_25: 0.0284 - dense_2_loss_26: 0.0247 - dense_2_loss_27: 0.0271 - dense_2_loss_28: 0.0266 - dense_2_loss_29: 0.0292 - dense_2_loss_30: 0.0000e+00 - dense_2_acc_1: 0.0667 - dense_2_acc_2: 0.6333 - dense_2_acc_3: 0.9333 - dense_2_acc_4: 1.0000 - dense_2_acc_5: 1.0000 - dense_2_acc_6: 1.0000 - dense_2_acc_7: 1.0000 - dense_2_acc_8: 1.0000 - dense_2_acc_9: 1.0000 - dense_2_acc_10: 1.0000 - dense_2_acc_11: 1.0000 - dense_2_acc_12: 1.0000 - dense_2_acc_13: 1.0000 - dense_2_acc_14: 1.0000 - dense_2_acc_15: 1.0000 - dense_2_acc_16: 1.0000 - dense_2_acc_17: 1.0000 - dense_2_acc_18: 1.0000 - dense_2_acc_19: 1.0000 - dense_2_acc_20: 1.0000 - dense_2_acc_21: 1.0000 - dense_2_acc_22: 1.0000 - dense_2_acc_23: 1.0000 - dense_2_acc_24: 1.0000 - dense_2_acc_25: 1.0000 - dense_2_acc_26: 1.0000 - dense_2_acc_27: 1.0000 - dense_2_acc_28: 1.0000 - dense_2_acc_29: 1.0000 - dense_2_acc_30: 0.0333     \n",
      "Epoch 91/100\n"
     ]
    },
    {
     "name": "stdout",
     "output_type": "stream",
     "text": [
      "60/60 [==============================] - 1s - loss: 6.1292 - dense_2_loss_1: 3.7586 - dense_2_loss_2: 1.2453 - dense_2_loss_3: 0.3362 - dense_2_loss_4: 0.0919 - dense_2_loss_5: 0.0606 - dense_2_loss_6: 0.0488 - dense_2_loss_7: 0.0335 - dense_2_loss_8: 0.0319 - dense_2_loss_9: 0.0306 - dense_2_loss_10: 0.0240 - dense_2_loss_11: 0.0245 - dense_2_loss_12: 0.0237 - dense_2_loss_13: 0.0202 - dense_2_loss_14: 0.0224 - dense_2_loss_15: 0.0237 - dense_2_loss_16: 0.0239 - dense_2_loss_17: 0.0230 - dense_2_loss_18: 0.0238 - dense_2_loss_19: 0.0239 - dense_2_loss_20: 0.0250 - dense_2_loss_21: 0.0250 - dense_2_loss_22: 0.0249 - dense_2_loss_23: 0.0251 - dense_2_loss_24: 0.0256 - dense_2_loss_25: 0.0278 - dense_2_loss_26: 0.0242 - dense_2_loss_27: 0.0264 - dense_2_loss_28: 0.0261 - dense_2_loss_29: 0.0285 - dense_2_loss_30: 0.0000e+00 - dense_2_acc_1: 0.0667 - dense_2_acc_2: 0.6333 - dense_2_acc_3: 0.9333 - dense_2_acc_4: 1.0000 - dense_2_acc_5: 1.0000 - dense_2_acc_6: 1.0000 - dense_2_acc_7: 1.0000 - dense_2_acc_8: 1.0000 - dense_2_acc_9: 1.0000 - dense_2_acc_10: 1.0000 - dense_2_acc_11: 1.0000 - dense_2_acc_12: 1.0000 - dense_2_acc_13: 1.0000 - dense_2_acc_14: 1.0000 - dense_2_acc_15: 1.0000 - dense_2_acc_16: 1.0000 - dense_2_acc_17: 1.0000 - dense_2_acc_18: 1.0000 - dense_2_acc_19: 1.0000 - dense_2_acc_20: 1.0000 - dense_2_acc_21: 1.0000 - dense_2_acc_22: 1.0000 - dense_2_acc_23: 1.0000 - dense_2_acc_24: 1.0000 - dense_2_acc_25: 1.0000 - dense_2_acc_26: 1.0000 - dense_2_acc_27: 1.0000 - dense_2_acc_28: 1.0000 - dense_2_acc_29: 1.0000 - dense_2_acc_30: 0.0333     \n",
      "Epoch 92/100\n",
      "60/60 [==============================] - 1s - loss: 6.0920 - dense_2_loss_1: 3.7555 - dense_2_loss_2: 1.2342 - dense_2_loss_3: 0.3305 - dense_2_loss_4: 0.0900 - dense_2_loss_5: 0.0594 - dense_2_loss_6: 0.0477 - dense_2_loss_7: 0.0327 - dense_2_loss_8: 0.0312 - dense_2_loss_9: 0.0299 - dense_2_loss_10: 0.0235 - dense_2_loss_11: 0.0239 - dense_2_loss_12: 0.0232 - dense_2_loss_13: 0.0197 - dense_2_loss_14: 0.0219 - dense_2_loss_15: 0.0232 - dense_2_loss_16: 0.0234 - dense_2_loss_17: 0.0225 - dense_2_loss_18: 0.0233 - dense_2_loss_19: 0.0234 - dense_2_loss_20: 0.0245 - dense_2_loss_21: 0.0244 - dense_2_loss_22: 0.0244 - dense_2_loss_23: 0.0245 - dense_2_loss_24: 0.0250 - dense_2_loss_25: 0.0272 - dense_2_loss_26: 0.0236 - dense_2_loss_27: 0.0259 - dense_2_loss_28: 0.0254 - dense_2_loss_29: 0.0279 - dense_2_loss_30: 0.0000e+00 - dense_2_acc_1: 0.0667 - dense_2_acc_2: 0.6333 - dense_2_acc_3: 0.9333 - dense_2_acc_4: 1.0000 - dense_2_acc_5: 1.0000 - dense_2_acc_6: 1.0000 - dense_2_acc_7: 1.0000 - dense_2_acc_8: 1.0000 - dense_2_acc_9: 1.0000 - dense_2_acc_10: 1.0000 - dense_2_acc_11: 1.0000 - dense_2_acc_12: 1.0000 - dense_2_acc_13: 1.0000 - dense_2_acc_14: 1.0000 - dense_2_acc_15: 1.0000 - dense_2_acc_16: 1.0000 - dense_2_acc_17: 1.0000 - dense_2_acc_18: 1.0000 - dense_2_acc_19: 1.0000 - dense_2_acc_20: 1.0000 - dense_2_acc_21: 1.0000 - dense_2_acc_22: 1.0000 - dense_2_acc_23: 1.0000 - dense_2_acc_24: 1.0000 - dense_2_acc_25: 1.0000 - dense_2_acc_26: 1.0000 - dense_2_acc_27: 1.0000 - dense_2_acc_28: 1.0000 - dense_2_acc_29: 1.0000 - dense_2_acc_30: 0.0333     \n",
      "Epoch 93/100\n",
      "60/60 [==============================] - 1s - loss: 6.0577 - dense_2_loss_1: 3.7525 - dense_2_loss_2: 1.2236 - dense_2_loss_3: 0.3256 - dense_2_loss_4: 0.0884 - dense_2_loss_5: 0.0583 - dense_2_loss_6: 0.0468 - dense_2_loss_7: 0.0321 - dense_2_loss_8: 0.0305 - dense_2_loss_9: 0.0293 - dense_2_loss_10: 0.0230 - dense_2_loss_11: 0.0235 - dense_2_loss_12: 0.0227 - dense_2_loss_13: 0.0193 - dense_2_loss_14: 0.0215 - dense_2_loss_15: 0.0227 - dense_2_loss_16: 0.0229 - dense_2_loss_17: 0.0220 - dense_2_loss_18: 0.0228 - dense_2_loss_19: 0.0229 - dense_2_loss_20: 0.0240 - dense_2_loss_21: 0.0239 - dense_2_loss_22: 0.0239 - dense_2_loss_23: 0.0240 - dense_2_loss_24: 0.0245 - dense_2_loss_25: 0.0266 - dense_2_loss_26: 0.0232 - dense_2_loss_27: 0.0253 - dense_2_loss_28: 0.0249 - dense_2_loss_29: 0.0274 - dense_2_loss_30: 0.0000e+00 - dense_2_acc_1: 0.0667 - dense_2_acc_2: 0.6333 - dense_2_acc_3: 0.9333 - dense_2_acc_4: 1.0000 - dense_2_acc_5: 1.0000 - dense_2_acc_6: 1.0000 - dense_2_acc_7: 1.0000 - dense_2_acc_8: 1.0000 - dense_2_acc_9: 1.0000 - dense_2_acc_10: 1.0000 - dense_2_acc_11: 1.0000 - dense_2_acc_12: 1.0000 - dense_2_acc_13: 1.0000 - dense_2_acc_14: 1.0000 - dense_2_acc_15: 1.0000 - dense_2_acc_16: 1.0000 - dense_2_acc_17: 1.0000 - dense_2_acc_18: 1.0000 - dense_2_acc_19: 1.0000 - dense_2_acc_20: 1.0000 - dense_2_acc_21: 1.0000 - dense_2_acc_22: 1.0000 - dense_2_acc_23: 1.0000 - dense_2_acc_24: 1.0000 - dense_2_acc_25: 1.0000 - dense_2_acc_26: 1.0000 - dense_2_acc_27: 1.0000 - dense_2_acc_28: 1.0000 - dense_2_acc_29: 1.0000 - dense_2_acc_30: 0.0333         \n",
      "Epoch 94/100\n",
      "60/60 [==============================] - 1s - loss: 6.0238 - dense_2_loss_1: 3.7499 - dense_2_loss_2: 1.2129 - dense_2_loss_3: 0.3203 - dense_2_loss_4: 0.0868 - dense_2_loss_5: 0.0571 - dense_2_loss_6: 0.0459 - dense_2_loss_7: 0.0314 - dense_2_loss_8: 0.0299 - dense_2_loss_9: 0.0287 - dense_2_loss_10: 0.0225 - dense_2_loss_11: 0.0230 - dense_2_loss_12: 0.0222 - dense_2_loss_13: 0.0189 - dense_2_loss_14: 0.0210 - dense_2_loss_15: 0.0222 - dense_2_loss_16: 0.0225 - dense_2_loss_17: 0.0215 - dense_2_loss_18: 0.0223 - dense_2_loss_19: 0.0224 - dense_2_loss_20: 0.0234 - dense_2_loss_21: 0.0234 - dense_2_loss_22: 0.0234 - dense_2_loss_23: 0.0235 - dense_2_loss_24: 0.0240 - dense_2_loss_25: 0.0260 - dense_2_loss_26: 0.0227 - dense_2_loss_27: 0.0248 - dense_2_loss_28: 0.0244 - dense_2_loss_29: 0.0268 - dense_2_loss_30: 0.0000e+00 - dense_2_acc_1: 0.0667 - dense_2_acc_2: 0.6333 - dense_2_acc_3: 0.9333 - dense_2_acc_4: 1.0000 - dense_2_acc_5: 1.0000 - dense_2_acc_6: 1.0000 - dense_2_acc_7: 1.0000 - dense_2_acc_8: 1.0000 - dense_2_acc_9: 1.0000 - dense_2_acc_10: 1.0000 - dense_2_acc_11: 1.0000 - dense_2_acc_12: 1.0000 - dense_2_acc_13: 1.0000 - dense_2_acc_14: 1.0000 - dense_2_acc_15: 1.0000 - dense_2_acc_16: 1.0000 - dense_2_acc_17: 1.0000 - dense_2_acc_18: 1.0000 - dense_2_acc_19: 1.0000 - dense_2_acc_20: 1.0000 - dense_2_acc_21: 1.0000 - dense_2_acc_22: 1.0000 - dense_2_acc_23: 1.0000 - dense_2_acc_24: 1.0000 - dense_2_acc_25: 1.0000 - dense_2_acc_26: 1.0000 - dense_2_acc_27: 1.0000 - dense_2_acc_28: 1.0000 - dense_2_acc_29: 1.0000 - dense_2_acc_30: 0.0333     \n",
      "Epoch 95/100\n",
      "60/60 [==============================] - 1s - loss: 5.9903 - dense_2_loss_1: 3.7470 - dense_2_loss_2: 1.2028 - dense_2_loss_3: 0.3147 - dense_2_loss_4: 0.0852 - dense_2_loss_5: 0.0560 - dense_2_loss_6: 0.0449 - dense_2_loss_7: 0.0308 - dense_2_loss_8: 0.0292 - dense_2_loss_9: 0.0281 - dense_2_loss_10: 0.0220 - dense_2_loss_11: 0.0225 - dense_2_loss_12: 0.0218 - dense_2_loss_13: 0.0184 - dense_2_loss_14: 0.0205 - dense_2_loss_15: 0.0217 - dense_2_loss_16: 0.0220 - dense_2_loss_17: 0.0210 - dense_2_loss_18: 0.0218 - dense_2_loss_19: 0.0220 - dense_2_loss_20: 0.0230 - dense_2_loss_21: 0.0230 - dense_2_loss_22: 0.0229 - dense_2_loss_23: 0.0230 - dense_2_loss_24: 0.0235 - dense_2_loss_25: 0.0254 - dense_2_loss_26: 0.0223 - dense_2_loss_27: 0.0243 - dense_2_loss_28: 0.0240 - dense_2_loss_29: 0.0263 - dense_2_loss_30: 0.0000e+00 - dense_2_acc_1: 0.0667 - dense_2_acc_2: 0.6500 - dense_2_acc_3: 0.9333 - dense_2_acc_4: 1.0000 - dense_2_acc_5: 1.0000 - dense_2_acc_6: 1.0000 - dense_2_acc_7: 1.0000 - dense_2_acc_8: 1.0000 - dense_2_acc_9: 1.0000 - dense_2_acc_10: 1.0000 - dense_2_acc_11: 1.0000 - dense_2_acc_12: 1.0000 - dense_2_acc_13: 1.0000 - dense_2_acc_14: 1.0000 - dense_2_acc_15: 1.0000 - dense_2_acc_16: 1.0000 - dense_2_acc_17: 1.0000 - dense_2_acc_18: 1.0000 - dense_2_acc_19: 1.0000 - dense_2_acc_20: 1.0000 - dense_2_acc_21: 1.0000 - dense_2_acc_22: 1.0000 - dense_2_acc_23: 1.0000 - dense_2_acc_24: 1.0000 - dense_2_acc_25: 1.0000 - dense_2_acc_26: 1.0000 - dense_2_acc_27: 1.0000 - dense_2_acc_28: 1.0000 - dense_2_acc_29: 1.0000 - dense_2_acc_30: 0.0333     \n",
      "Epoch 96/100\n",
      "60/60 [==============================] - 1s - loss: 5.9577 - dense_2_loss_1: 3.7441 - dense_2_loss_2: 1.1923 - dense_2_loss_3: 0.3096 - dense_2_loss_4: 0.0838 - dense_2_loss_5: 0.0550 - dense_2_loss_6: 0.0442 - dense_2_loss_7: 0.0302 - dense_2_loss_8: 0.0287 - dense_2_loss_9: 0.0276 - dense_2_loss_10: 0.0216 - dense_2_loss_11: 0.0221 - dense_2_loss_12: 0.0213 - dense_2_loss_13: 0.0181 - dense_2_loss_14: 0.0202 - dense_2_loss_15: 0.0212 - dense_2_loss_16: 0.0216 - dense_2_loss_17: 0.0206 - dense_2_loss_18: 0.0213 - dense_2_loss_19: 0.0215 - dense_2_loss_20: 0.0225 - dense_2_loss_21: 0.0225 - dense_2_loss_22: 0.0224 - dense_2_loss_23: 0.0225 - dense_2_loss_24: 0.0231 - dense_2_loss_25: 0.0248 - dense_2_loss_26: 0.0219 - dense_2_loss_27: 0.0238 - dense_2_loss_28: 0.0235 - dense_2_loss_29: 0.0258 - dense_2_loss_30: 0.0000e+00 - dense_2_acc_1: 0.0667 - dense_2_acc_2: 0.6500 - dense_2_acc_3: 0.9333 - dense_2_acc_4: 1.0000 - dense_2_acc_5: 1.0000 - dense_2_acc_6: 1.0000 - dense_2_acc_7: 1.0000 - dense_2_acc_8: 1.0000 - dense_2_acc_9: 1.0000 - dense_2_acc_10: 1.0000 - dense_2_acc_11: 1.0000 - dense_2_acc_12: 1.0000 - dense_2_acc_13: 1.0000 - dense_2_acc_14: 1.0000 - dense_2_acc_15: 1.0000 - dense_2_acc_16: 1.0000 - dense_2_acc_17: 1.0000 - dense_2_acc_18: 1.0000 - dense_2_acc_19: 1.0000 - dense_2_acc_20: 1.0000 - dense_2_acc_21: 1.0000 - dense_2_acc_22: 1.0000 - dense_2_acc_23: 1.0000 - dense_2_acc_24: 1.0000 - dense_2_acc_25: 1.0000 - dense_2_acc_26: 1.0000 - dense_2_acc_27: 1.0000 - dense_2_acc_28: 1.0000 - dense_2_acc_29: 1.0000 - dense_2_acc_30: 0.0333         \n",
      "Epoch 97/100\n",
      "60/60 [==============================] - 1s - loss: 5.9258 - dense_2_loss_1: 3.7413 - dense_2_loss_2: 1.1821 - dense_2_loss_3: 0.3049 - dense_2_loss_4: 0.0822 - dense_2_loss_5: 0.0538 - dense_2_loss_6: 0.0434 - dense_2_loss_7: 0.0296 - dense_2_loss_8: 0.0281 - dense_2_loss_9: 0.0271 - dense_2_loss_10: 0.0211 - dense_2_loss_11: 0.0216 - dense_2_loss_12: 0.0209 - dense_2_loss_13: 0.0177 - dense_2_loss_14: 0.0197 - dense_2_loss_15: 0.0208 - dense_2_loss_16: 0.0211 - dense_2_loss_17: 0.0202 - dense_2_loss_18: 0.0209 - dense_2_loss_19: 0.0211 - dense_2_loss_20: 0.0221 - dense_2_loss_21: 0.0220 - dense_2_loss_22: 0.0220 - dense_2_loss_23: 0.0220 - dense_2_loss_24: 0.0226 - dense_2_loss_25: 0.0243 - dense_2_loss_26: 0.0215 - dense_2_loss_27: 0.0234 - dense_2_loss_28: 0.0231 - dense_2_loss_29: 0.0253 - dense_2_loss_30: 0.0000e+00 - dense_2_acc_1: 0.0667 - dense_2_acc_2: 0.6500 - dense_2_acc_3: 0.9333 - dense_2_acc_4: 1.0000 - dense_2_acc_5: 1.0000 - dense_2_acc_6: 1.0000 - dense_2_acc_7: 1.0000 - dense_2_acc_8: 1.0000 - dense_2_acc_9: 1.0000 - dense_2_acc_10: 1.0000 - dense_2_acc_11: 1.0000 - dense_2_acc_12: 1.0000 - dense_2_acc_13: 1.0000 - dense_2_acc_14: 1.0000 - dense_2_acc_15: 1.0000 - dense_2_acc_16: 1.0000 - dense_2_acc_17: 1.0000 - dense_2_acc_18: 1.0000 - dense_2_acc_19: 1.0000 - dense_2_acc_20: 1.0000 - dense_2_acc_21: 1.0000 - dense_2_acc_22: 1.0000 - dense_2_acc_23: 1.0000 - dense_2_acc_24: 1.0000 - dense_2_acc_25: 1.0000 - dense_2_acc_26: 1.0000 - dense_2_acc_27: 1.0000 - dense_2_acc_28: 1.0000 - dense_2_acc_29: 1.0000 - dense_2_acc_30: 0.0333     \n",
      "Epoch 98/100\n",
      "60/60 [==============================] - 1s - loss: 5.8967 - dense_2_loss_1: 3.7384 - dense_2_loss_2: 1.1732 - dense_2_loss_3: 0.3005 - dense_2_loss_4: 0.0809 - dense_2_loss_5: 0.0528 - dense_2_loss_6: 0.0426 - dense_2_loss_7: 0.0291 - dense_2_loss_8: 0.0276 - dense_2_loss_9: 0.0266 - dense_2_loss_10: 0.0207 - dense_2_loss_11: 0.0213 - dense_2_loss_12: 0.0205 - dense_2_loss_13: 0.0173 - dense_2_loss_14: 0.0194 - dense_2_loss_15: 0.0204 - dense_2_loss_16: 0.0207 - dense_2_loss_17: 0.0198 - dense_2_loss_18: 0.0205 - dense_2_loss_19: 0.0207 - dense_2_loss_20: 0.0216 - dense_2_loss_21: 0.0216 - dense_2_loss_22: 0.0215 - dense_2_loss_23: 0.0216 - dense_2_loss_24: 0.0222 - dense_2_loss_25: 0.0238 - dense_2_loss_26: 0.0211 - dense_2_loss_27: 0.0229 - dense_2_loss_28: 0.0226 - dense_2_loss_29: 0.0248 - dense_2_loss_30: 0.0000e+00 - dense_2_acc_1: 0.0667 - dense_2_acc_2: 0.6500 - dense_2_acc_3: 0.9333 - dense_2_acc_4: 1.0000 - dense_2_acc_5: 1.0000 - dense_2_acc_6: 1.0000 - dense_2_acc_7: 1.0000 - dense_2_acc_8: 1.0000 - dense_2_acc_9: 1.0000 - dense_2_acc_10: 1.0000 - dense_2_acc_11: 1.0000 - dense_2_acc_12: 1.0000 - dense_2_acc_13: 1.0000 - dense_2_acc_14: 1.0000 - dense_2_acc_15: 1.0000 - dense_2_acc_16: 1.0000 - dense_2_acc_17: 1.0000 - dense_2_acc_18: 1.0000 - dense_2_acc_19: 1.0000 - dense_2_acc_20: 1.0000 - dense_2_acc_21: 1.0000 - dense_2_acc_22: 1.0000 - dense_2_acc_23: 1.0000 - dense_2_acc_24: 1.0000 - dense_2_acc_25: 1.0000 - dense_2_acc_26: 1.0000 - dense_2_acc_27: 1.0000 - dense_2_acc_28: 1.0000 - dense_2_acc_29: 1.0000 - dense_2_acc_30: 0.0333     \n",
      "Epoch 99/100\n",
      "60/60 [==============================] - 1s - loss: 5.8672 - dense_2_loss_1: 3.7356 - dense_2_loss_2: 1.1633 - dense_2_loss_3: 0.2964 - dense_2_loss_4: 0.0795 - dense_2_loss_5: 0.0518 - dense_2_loss_6: 0.0418 - dense_2_loss_7: 0.0285 - dense_2_loss_8: 0.0271 - dense_2_loss_9: 0.0262 - dense_2_loss_10: 0.0203 - dense_2_loss_11: 0.0208 - dense_2_loss_12: 0.0202 - dense_2_loss_13: 0.0170 - dense_2_loss_14: 0.0190 - dense_2_loss_15: 0.0200 - dense_2_loss_16: 0.0203 - dense_2_loss_17: 0.0194 - dense_2_loss_18: 0.0201 - dense_2_loss_19: 0.0203 - dense_2_loss_20: 0.0212 - dense_2_loss_21: 0.0212 - dense_2_loss_22: 0.0211 - dense_2_loss_23: 0.0212 - dense_2_loss_24: 0.0217 - dense_2_loss_25: 0.0234 - dense_2_loss_26: 0.0207 - dense_2_loss_27: 0.0224 - dense_2_loss_28: 0.0221 - dense_2_loss_29: 0.0244 - dense_2_loss_30: 0.0000e+00 - dense_2_acc_1: 0.0667 - dense_2_acc_2: 0.6500 - dense_2_acc_3: 0.9500 - dense_2_acc_4: 1.0000 - dense_2_acc_5: 1.0000 - dense_2_acc_6: 1.0000 - dense_2_acc_7: 1.0000 - dense_2_acc_8: 1.0000 - dense_2_acc_9: 1.0000 - dense_2_acc_10: 1.0000 - dense_2_acc_11: 1.0000 - dense_2_acc_12: 1.0000 - dense_2_acc_13: 1.0000 - dense_2_acc_14: 1.0000 - dense_2_acc_15: 1.0000 - dense_2_acc_16: 1.0000 - dense_2_acc_17: 1.0000 - dense_2_acc_18: 1.0000 - dense_2_acc_19: 1.0000 - dense_2_acc_20: 1.0000 - dense_2_acc_21: 1.0000 - dense_2_acc_22: 1.0000 - dense_2_acc_23: 1.0000 - dense_2_acc_24: 1.0000 - dense_2_acc_25: 1.0000 - dense_2_acc_26: 1.0000 - dense_2_acc_27: 1.0000 - dense_2_acc_28: 1.0000 - dense_2_acc_29: 1.0000 - dense_2_acc_30: 0.0333     \n",
      "Epoch 100/100\n",
      "60/60 [==============================] - 1s - loss: 5.8382 - dense_2_loss_1: 3.7330 - dense_2_loss_2: 1.1540 - dense_2_loss_3: 0.2919 - dense_2_loss_4: 0.0782 - dense_2_loss_5: 0.0509 - dense_2_loss_6: 0.0410 - dense_2_loss_7: 0.0280 - dense_2_loss_8: 0.0266 - dense_2_loss_9: 0.0256 - dense_2_loss_10: 0.0199 - dense_2_loss_11: 0.0204 - dense_2_loss_12: 0.0198 - dense_2_loss_13: 0.0167 - dense_2_loss_14: 0.0186 - dense_2_loss_15: 0.0196 - dense_2_loss_16: 0.0200 - dense_2_loss_17: 0.0190 - dense_2_loss_18: 0.0197 - dense_2_loss_19: 0.0198 - dense_2_loss_20: 0.0209 - dense_2_loss_21: 0.0208 - dense_2_loss_22: 0.0207 - dense_2_loss_23: 0.0208 - dense_2_loss_24: 0.0213 - dense_2_loss_25: 0.0230 - dense_2_loss_26: 0.0204 - dense_2_loss_27: 0.0220 - dense_2_loss_28: 0.0217 - dense_2_loss_29: 0.0239 - dense_2_loss_30: 0.0000e+00 - dense_2_acc_1: 0.0667 - dense_2_acc_2: 0.6500 - dense_2_acc_3: 0.9500 - dense_2_acc_4: 1.0000 - dense_2_acc_5: 1.0000 - dense_2_acc_6: 1.0000 - dense_2_acc_7: 1.0000 - dense_2_acc_8: 1.0000 - dense_2_acc_9: 1.0000 - dense_2_acc_10: 1.0000 - dense_2_acc_11: 1.0000 - dense_2_acc_12: 1.0000 - dense_2_acc_13: 1.0000 - dense_2_acc_14: 1.0000 - dense_2_acc_15: 1.0000 - dense_2_acc_16: 1.0000 - dense_2_acc_17: 1.0000 - dense_2_acc_18: 1.0000 - dense_2_acc_19: 1.0000 - dense_2_acc_20: 1.0000 - dense_2_acc_21: 1.0000 - dense_2_acc_22: 1.0000 - dense_2_acc_23: 1.0000 - dense_2_acc_24: 1.0000 - dense_2_acc_25: 1.0000 - dense_2_acc_26: 1.0000 - dense_2_acc_27: 1.0000 - dense_2_acc_28: 1.0000 - dense_2_acc_29: 1.0000 - dense_2_acc_30: 0.0333     \n"
     ]
    },
    {
     "data": {
      "text/plain": [
       "<keras.callbacks.History at 0x7fb625d87470>"
      ]
     },
     "execution_count": 14,
     "metadata": {},
     "output_type": "execute_result"
    }
   ],
   "source": [
    "model.fit([X, a0, c0], list(Y), epochs=100)"
   ]
  },
  {
   "cell_type": "markdown",
   "metadata": {},
   "source": [
    "You should see the model loss going down. Now that you have trained a model, lets go on the the final section to implement an inference algorithm, and generate some music! "
   ]
  },
  {
   "cell_type": "markdown",
   "metadata": {},
   "source": [
    "## 3 - Generating music\n",
    "\n",
    "You now have a trained model which has learned the patterns of the jazz soloist. Lets now use this model to synthesize new music. \n",
    "\n",
    "#### 3.1 - Predicting & Sampling\n",
    "\n",
    "<img src=\"images/music_gen.png\" style=\"width:600;height:400px;\">\n",
    "\n",
    "At each step of sampling, you will take as input the activation `a` and cell state `c` from the previous state of the LSTM, forward propagate by one step, and get a new output activation as well as cell state. The new activation `a` can then be used to generate the output, using `densor` as before. \n",
    "\n",
    "To start off the model, we will initialize `x0` as well as the LSTM activation and and cell value `a0` and `c0` to be zeros. \n",
    "\n",
    "\n",
    "<!-- \n",
    "You are about to build a function that will do this inference for you. Your function takes in your previous model and the number of time steps `Ty` that you want to sample. It will return a keras model that would be able to generate sequences for you. Furthermore, the function takes in a dense layer of `78` units and the number of activations. \n",
    "!--> \n",
    "\n",
    "\n",
    "**Exercise:** Implement the function below to sample a sequence of musical values. Here are some of the key steps you'll need to implement inside the for-loop that generates the $T_y$ output characters: \n",
    "\n",
    "Step 2.A: Use `LSTM_Cell`, which inputs the previous step's `c` and `a` to generate the current step's `c` and `a`. \n",
    "\n",
    "Step 2.B: Use `densor` (defined previously) to compute a softmax on `a` to get the output for the current step. \n",
    "\n",
    "Step 2.C: Save the output you have just generated by appending it to `outputs`.\n",
    "\n",
    "Step 2.D: Sample x to the be \"out\"'s one-hot version (the prediction) so that you can pass it to the next LSTM's step.  We have already provided this line of code, which uses a [Lambda](https://keras.io/layers/core/#lambda) function. \n",
    "```python\n",
    "x = Lambda(one_hot)(out) \n",
    "```\n",
    "[Minor technical note: Rather than sampling a value at random according to the probabilities in `out`, this line of code actually chooses the single most likely note at each step using an argmax.]\n"
   ]
  },
  {
   "cell_type": "code",
   "execution_count": 31,
   "metadata": {
    "collapsed": true
   },
   "outputs": [],
   "source": [
    "# GRADED FUNCTION: music_inference_model\n",
    "\n",
    "def music_inference_model(LSTM_cell, densor, n_values = 78, n_a = 64, Ty = 100):\n",
    "    \"\"\"\n",
    "    Uses the trained \"LSTM_cell\" and \"densor\" from model() to generate a sequence of values.\n",
    "    \n",
    "    Arguments:\n",
    "    LSTM_cell -- the trained \"LSTM_cell\" from model(), Keras layer object\n",
    "    densor -- the trained \"densor\" from model(), Keras layer object\n",
    "    n_values -- integer, umber of unique values\n",
    "    n_a -- number of units in the LSTM_cell\n",
    "    Ty -- integer, number of time steps to generate\n",
    "    \n",
    "    Returns:\n",
    "    inference_model -- Keras model instance\n",
    "    \"\"\"\n",
    "    \n",
    "    # Define the input of your model with a shape \n",
    "    x0 = Input(shape=(1, n_values))\n",
    "    \n",
    "    # Define s0, initial hidden state for the decoder LSTM\n",
    "    a0 = Input(shape=(n_a,), name='a0')\n",
    "    c0 = Input(shape=(n_a,), name='c0')\n",
    "    a = a0\n",
    "    c = c0\n",
    "    x = x0\n",
    "\n",
    "    ### START CODE HERE ###\n",
    "    # Step 1: Create an empty list of \"outputs\" to later store your predicted values (≈1 line)\n",
    "    outputs = []\n",
    "    \n",
    "    # Step 2: Loop over Ty and generate a value at every time step\n",
    "    for t in range(Ty):\n",
    "        \n",
    "        # Step 2.A: Perform one step of LSTM_cell (≈1 line)\n",
    "        a, _, c = LSTM_cell(x,initial_state=[a,c])\n",
    "        \n",
    "        # Step 2.B: Apply Dense layer to the hidden state output of the LSTM_cell (≈1 line)\n",
    "        out = densor(a)\n",
    "\n",
    "        # Step 2.C: Append the prediction \"out\" to \"outputs\". out.shape = (None, 78) (≈1 line)\n",
    "        outputs.append(out)\n",
    "        \n",
    "        # Step 2.D: Select the next value according to \"out\", and set \"x\" to be the one-hot representation of the\n",
    "        #           selected value, which will be passed as the input to LSTM_cell on the next step. We have provided \n",
    "        #           the line of code you need to do this. \n",
    "        x = Lambda(one_hot)(out)\n",
    "        \n",
    "    # Step 3: Create model instance with the correct \"inputs\" and \"outputs\" (≈1 line)\n",
    "    inference_model = Model(inputs=[x0,a0,c0], outputs=outputs)\n",
    "    \n",
    "    ### END CODE HERE ###\n",
    "    \n",
    "    return inference_model"
   ]
  },
  {
   "cell_type": "markdown",
   "metadata": {},
   "source": [
    "Run the cell below to define your inference model. This model is hard coded to generate 50 values."
   ]
  },
  {
   "cell_type": "code",
   "execution_count": 32,
   "metadata": {
    "collapsed": true
   },
   "outputs": [],
   "source": [
    "inference_model = music_inference_model(LSTM_cell, densor, n_values = 78, n_a = 64, Ty = 50)"
   ]
  },
  {
   "cell_type": "markdown",
   "metadata": {},
   "source": [
    "Finally, this creates the zero-valued vectors you will use to initialize `x` and the LSTM state variables `a` and `c`. "
   ]
  },
  {
   "cell_type": "code",
   "execution_count": 33,
   "metadata": {
    "collapsed": true
   },
   "outputs": [],
   "source": [
    "x_initializer = np.zeros((1, 1, 78))\n",
    "a_initializer = np.zeros((1, n_a))\n",
    "c_initializer = np.zeros((1, n_a))"
   ]
  },
  {
   "cell_type": "markdown",
   "metadata": {},
   "source": [
    "**Exercise**: Implement `predict_and_sample()`. This function takes many arguments including the inputs [x_initializer, a_initializer, c_initializer]. In order to predict the output corresponding to this input, you will need to carry-out 3 steps:\n",
    "1. Use your inference model to predict an output given your set of inputs. The output `pred` should be a list of length $T_y$ where each element is a numpy-array of shape (1, n_values).\n",
    "2. Convert `pred` into a numpy array of $T_y$ indices. Each index corresponds is computed by taking the `argmax` of an element of the `pred` list. [Hint](https://docs.scipy.org/doc/numpy/reference/generated/numpy.argmax.html).\n",
    "3. Convert the indices into their one-hot vector representations. [Hint](https://keras.io/utils/#to_categorical)."
   ]
  },
  {
   "cell_type": "code",
   "execution_count": 77,
   "metadata": {
    "collapsed": true
   },
   "outputs": [],
   "source": [
    "# GRADED FUNCTION: predict_and_sample\n",
    "\n",
    "def predict_and_sample(inference_model, x_initializer = x_initializer, a_initializer = a_initializer, \n",
    "                       c_initializer = c_initializer):\n",
    "    \"\"\"\n",
    "    Predicts the next value of values using the inference model.\n",
    "    \n",
    "    Arguments:\n",
    "    inference_model -- Keras model instance for inference time\n",
    "    x_initializer -- numpy array of shape (1, 1, 78), one-hot vector initializing the values generation\n",
    "    a_initializer -- numpy array of shape (1, n_a), initializing the hidden state of the LSTM_cell\n",
    "    c_initializer -- numpy array of shape (1, n_a), initializing the cell state of the LSTM_cel\n",
    "    \n",
    "    Returns:\n",
    "    results -- numpy-array of shape (Ty, 78), matrix of one-hot vectors representing the values generated\n",
    "    indices -- numpy-array of shape (Ty, 1), matrix of indices representing the values generated\n",
    "    \"\"\"\n",
    "    \n",
    "    ### START CODE HERE ###\n",
    "    # Step 1: Use your inference model to predict an output sequence given x_initializer, a_initializer and c_initializer.\n",
    "    pred = inference_model.predict([x_initializer,a_initializer,c_initializer])\n",
    "    print(np.array(pred).shape)\n",
    "    # Step 2: Convert \"pred\" into an np.array() of indices with the maximum probabilities\n",
    "    indices = np.argmax(pred,axis=2)\n",
    "    print(indices.shape)\n",
    "    # Step 3: Convert indices to one-hot vectors, the shape of the results should be (1, )\n",
    "    results =to_categorical(indices,num_classes=78)\n",
    "    print(results.shape)\n",
    "    ### END CODE HERE ###\n",
    "    \n",
    "    return results, indices"
   ]
  },
  {
   "cell_type": "code",
   "execution_count": 78,
   "metadata": {},
   "outputs": [
    {
     "name": "stdout",
     "output_type": "stream",
     "text": [
      "(50, 1, 78)\n",
      "(50, 1)\n",
      "(50, 78)\n",
      "np.argmax(results[12]) = 70\n",
      "np.argmax(results[17]) = 27\n",
      "list(indices[12:18]) = [array([70]), array([10]), array([37]), array([19]), array([24]), array([27])]\n"
     ]
    }
   ],
   "source": [
    "results, indices = predict_and_sample(inference_model, x_initializer, a_initializer, c_initializer)\n",
    "print(\"np.argmax(results[12]) =\", np.argmax(results[12]))\n",
    "print(\"np.argmax(results[17]) =\", np.argmax(results[17]))\n",
    "print(\"list(indices[12:18]) =\", list(indices[12:18]))"
   ]
  },
  {
   "cell_type": "markdown",
   "metadata": {},
   "source": [
    "**Expected Output**: Your results may differ because Keras' results are not completely predictable. However, if you have trained your LSTM_cell with model.fit() for exactly 100 epochs as described above, you should very likely observe a sequence of indices that are not all identical. Moreover, you should observe that: np.argmax(results[12]) is the first element of list(indices[12:18]) and np.argmax(results[17]) is the last element of list(indices[12:18]). \n",
    "\n",
    "<table>\n",
    "    <tr>\n",
    "        <td>\n",
    "            **np.argmax(results[12])** =\n",
    "        </td>\n",
    "        <td>\n",
    "        1\n",
    "        </td>\n",
    "    </tr>\n",
    "    <tr>\n",
    "        <td>\n",
    "            **np.argmax(results[12])** =\n",
    "        </td>\n",
    "        <td>\n",
    "        42\n",
    "        </td>\n",
    "    </tr>\n",
    "    <tr>\n",
    "        <td>\n",
    "            **list(indices[12:18])** =\n",
    "        </td>\n",
    "        <td>\n",
    "            [array([1]), array([42]), array([54]), array([17]), array([1]), array([42])]\n",
    "        </td>\n",
    "    </tr>\n",
    "</table>"
   ]
  },
  {
   "cell_type": "markdown",
   "metadata": {},
   "source": [
    "#### 3.3 - Generate music \n",
    "\n",
    "Finally, you are ready to generate music. Your RNN generates a sequence of values. The following code generates music by first calling your `predict_and_sample()` function. These values are then post-processed into musical chords (meaning that multiple values or notes can be played at the same time). \n",
    "\n",
    "Most computational music algorithms use some post-processing because it is difficult to generate music that sounds good without such post-processing. The post-processing does things such as clean up the generated audio by making sure the same sound is not repeated too many times, that two successive notes are not too far from each other in pitch, and so on. One could argue that a lot of these post-processing steps are hacks; also, a lot the music generation literature has also focused on hand-crafting post-processors, and a lot of the output quality depends on the quality of the post-processing and not just the quality of the RNN. But this post-processing does make a huge difference, so lets use it in our implementation as well. \n",
    "\n",
    "Lets make some music! "
   ]
  },
  {
   "cell_type": "markdown",
   "metadata": {},
   "source": [
    "Run the following cell to generate music and record it into your `out_stream`. This can take a couple of minutes."
   ]
  },
  {
   "cell_type": "code",
   "execution_count": null,
   "metadata": {
    "collapsed": true,
    "scrolled": false
   },
   "outputs": [],
   "source": [
    "out_stream = generate_music(inference_model)"
   ]
  },
  {
   "cell_type": "markdown",
   "metadata": {},
   "source": [
    "To listen to your music, click File->Open... Then go to \"output/\" and download \"my_music.midi\". Either play it on your computer with an application that can read midi files if you have one, or use one of the free online \"MIDI to mp3\" conversion tools to convert this to mp3.  \n",
    "\n",
    "As reference, here also is a 30sec audio clip we generated using this algorithm. "
   ]
  },
  {
   "cell_type": "code",
   "execution_count": null,
   "metadata": {
    "collapsed": true
   },
   "outputs": [],
   "source": [
    "IPython.display.Audio('./data/30s_trained_model.mp3')"
   ]
  },
  {
   "cell_type": "markdown",
   "metadata": {},
   "source": [
    "### Congratulations!\n",
    "\n",
    "You have come to the end of the notebook. \n",
    "\n",
    "<font color=\"blue\">\n",
    "Here's what you should remember:\n",
    "- A sequence model can be used to generate musical values, which are then post-processed into midi music. \n",
    "- Fairly similar models can be used to generate dinosaur names or to generate music, with the major difference being the input fed to the model.  \n",
    "- In Keras, sequence generation involves defining layers with shared weights, which are then repeated for the different time steps $1, \\ldots, T_x$. "
   ]
  },
  {
   "cell_type": "markdown",
   "metadata": {},
   "source": [
    "Congratulations on completing this assignment and generating a jazz solo! "
   ]
  },
  {
   "cell_type": "markdown",
   "metadata": {},
   "source": [
    "**References**\n",
    "\n",
    "The ideas presented in this notebook came primarily from three computational music papers cited below. The implementation here also took significant inspiration and used many components from Ji-Sung Kim's github repository.\n",
    "\n",
    "- Ji-Sung Kim, 2016, [deepjazz](https://github.com/jisungk/deepjazz)\n",
    "- Jon Gillick, Kevin Tang and Robert Keller, 2009. [Learning Jazz Grammars](http://ai.stanford.edu/~kdtang/papers/smc09-jazzgrammar.pdf)\n",
    "- Robert Keller and David Morrison, 2007, [A Grammatical Approach to Automatic Improvisation](http://smc07.uoa.gr/SMC07%20Proceedings/SMC07%20Paper%2055.pdf)\n",
    "- François Pachet, 1999, [Surprising Harmonies](http://citeseerx.ist.psu.edu/viewdoc/download?doi=10.1.1.5.7473&rep=rep1&type=pdf)\n",
    "\n",
    "We're also grateful to François Germain for valuable feedback."
   ]
  }
 ],
 "metadata": {
  "coursera": {
   "course_slug": "nlp-sequence-models",
   "graded_item_id": "EG0F7",
   "launcher_item_id": "cxJXc"
  },
  "kernelspec": {
   "display_name": "Python 3",
   "language": "python",
   "name": "python3"
  },
  "language_info": {
   "codemirror_mode": {
    "name": "ipython",
    "version": 3
   },
   "file_extension": ".py",
   "mimetype": "text/x-python",
   "name": "python",
   "nbconvert_exporter": "python",
   "pygments_lexer": "ipython3",
   "version": "3.6.0"
  }
 },
 "nbformat": 4,
 "nbformat_minor": 2
}
